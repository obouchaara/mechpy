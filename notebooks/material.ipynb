{
 "cells": [
  {
   "cell_type": "code",
   "execution_count": 1,
   "metadata": {},
   "outputs": [],
   "source": [
    "import sys\n",
    "import numpy as np\n",
    "import sympy as sp\n",
    "\n",
    "sys.path.append(\"../src\")\n",
    "\n",
    "from core.material import IsotropicMaterial, TransverseIsotropicMaterial\n",
    "\n",
    "np.set_printoptions(formatter={'float': '{:0.2e}'.format})"
   ]
  },
  {
   "cell_type": "code",
   "execution_count": 2,
   "metadata": {},
   "outputs": [
    {
     "data": {
      "text/plain": [
       "ComplianceTensor(\n",
       "[[3.19e+11 1.58e+11 1.58e+11 0.00e+00 0.00e+00 0.00e+00]\n",
       " [1.58e+11 3.19e+11 1.58e+11 0.00e+00 0.00e+00 0.00e+00]\n",
       " [1.58e+11 1.58e+11 3.19e+11 0.00e+00 0.00e+00 0.00e+00]\n",
       " [0.00e+00 0.00e+00 0.00e+00 8.08e+10 0.00e+00 0.00e+00]\n",
       " [0.00e+00 0.00e+00 0.00e+00 0.00e+00 8.08e+10 0.00e+00]\n",
       " [0.00e+00 0.00e+00 0.00e+00 0.00e+00 0.00e+00 8.08e+10]]\n",
       ")"
      ]
     },
     "metadata": {},
     "output_type": "display_data"
    },
    {
     "data": {
      "text/plain": [
       "StiffnessTensor(\n",
       "[[4.76e-12 -1.43e-12 -1.43e-12 0.00e+00 0.00e+00 0.00e+00]\n",
       " [-1.43e-12 4.76e-12 -1.43e-12 0.00e+00 0.00e+00 0.00e+00]\n",
       " [-1.43e-12 -1.43e-12 4.76e-12 0.00e+00 0.00e+00 0.00e+00]\n",
       " [0.00e+00 0.00e+00 0.00e+00 1.24e-11 0.00e+00 0.00e+00]\n",
       " [0.00e+00 0.00e+00 0.00e+00 0.00e+00 1.24e-11 0.00e+00]\n",
       " [0.00e+00 0.00e+00 0.00e+00 0.00e+00 0.00e+00 1.24e-11]]\n",
       ")"
      ]
     },
     "metadata": {},
     "output_type": "display_data"
    }
   ],
   "source": [
    "isotropic_material = IsotropicMaterial(210e9, 0.3)\n",
    "compliance_tensor = isotropic_material.compliance_tensor()\n",
    "stiffness_tensor = isotropic_material.stiffness_tensor()\n",
    "display(compliance_tensor)\n",
    "display(stiffness_tensor)"
   ]
  },
  {
   "cell_type": "code",
   "execution_count": 3,
   "metadata": {},
   "outputs": [
    {
     "data": {
      "text/plain": [
       "StiffnessTensor(\n",
       "[[1.00e-13 -3.00e-14 -3.00e-14 0.00e+00 0.00e+00 0.00e+00]\n",
       " [-3.00e-14 1.00e-13 -3.00e-14 0.00e+00 0.00e+00 0.00e+00]\n",
       " [-3.00e-14 -3.00e-14 2.00e-13 0.00e+00 0.00e+00 0.00e+00]\n",
       " [0.00e+00 0.00e+00 0.00e+00 -1.92e+12 0.00e+00 0.00e+00]\n",
       " [0.00e+00 0.00e+00 0.00e+00 0.00e+00 -1.92e+12 0.00e+00]\n",
       " [0.00e+00 0.00e+00 0.00e+00 0.00e+00 0.00e+00 2.60e-13]]\n",
       ")"
      ]
     },
     "metadata": {},
     "output_type": "display_data"
    },
    {
     "data": {
      "text/plain": [
       "ComplianceTensor(\n",
       "[[1.20e+13 4.35e+12 2.46e+12 0.00e+00 0.00e+00 0.00e+00]\n",
       " [4.35e+12 1.20e+13 2.46e+12 0.00e+00 0.00e+00 0.00e+00]\n",
       " [2.46e+12 2.46e+12 5.74e+12 0.00e+00 0.00e+00 0.00e+00]\n",
       " [-0.00e+00 -0.00e+00 -0.00e+00 -5.20e-13 -0.00e+00 -0.00e+00]\n",
       " [-0.00e+00 -0.00e+00 -0.00e+00 -0.00e+00 -5.20e-13 -0.00e+00]\n",
       " [0.00e+00 0.00e+00 0.00e+00 0.00e+00 0.00e+00 3.85e+12]]\n",
       ")"
      ]
     },
     "metadata": {},
     "output_type": "display_data"
    }
   ],
   "source": [
    "transverse_isotropic_material = TransverseIsotropicMaterial(10e12, 5e12, 0.3, 0.3)\n",
    "stiffness_tensor = transverse_isotropic_material.stiffness_tensor()\n",
    "compliance_tensor = transverse_isotropic_material.compliance_tensor()\n",
    "display(stiffness_tensor)\n",
    "display(compliance_tensor)"
   ]
  },
  {
   "cell_type": "code",
   "execution_count": null,
   "metadata": {},
   "outputs": [],
   "source": []
  }
 ],
 "metadata": {
  "kernelspec": {
   "display_name": "venv",
   "language": "python",
   "name": "python3"
  },
  "language_info": {
   "codemirror_mode": {
    "name": "ipython",
    "version": 3
   },
   "file_extension": ".py",
   "mimetype": "text/x-python",
   "name": "python",
   "nbconvert_exporter": "python",
   "pygments_lexer": "ipython3",
   "version": "3.10.12"
  }
 },
 "nbformat": 4,
 "nbformat_minor": 2
}
