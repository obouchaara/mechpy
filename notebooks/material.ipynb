{
 "cells": [
  {
   "cell_type": "code",
   "execution_count": 1,
   "metadata": {},
   "outputs": [],
   "source": [
    "import sys\n",
    "import numpy as np\n",
    "import sympy as sp\n",
    "\n",
    "sys.path.append(\"../src\")\n",
    "\n",
    "from core.numeric.material import IsotropicMaterial, TransverseIsotropicMaterial\n",
    "from core.symbolic.material import SymbolicIsotropicMaterial, SymbolicTransverseIsotropicMaterial\n",
    "\n",
    "np.set_printoptions(formatter={\"float\": \"{:0.2e}\".format})"
   ]
  },
  {
   "cell_type": "code",
   "execution_count": 2,
   "metadata": {},
   "outputs": [
    {
     "data": {
      "text/plain": [
       "StiffnessTensor(\n",
       "[[2.83e+11 1.21e+11 1.21e+11 0.00e+00 0.00e+00 0.00e+00]\n",
       " [1.21e+11 2.83e+11 1.21e+11 0.00e+00 0.00e+00 0.00e+00]\n",
       " [1.21e+11 1.21e+11 2.83e+11 0.00e+00 0.00e+00 0.00e+00]\n",
       " [0.00e+00 0.00e+00 0.00e+00 8.08e+10 0.00e+00 0.00e+00]\n",
       " [0.00e+00 0.00e+00 0.00e+00 0.00e+00 8.08e+10 0.00e+00]\n",
       " [0.00e+00 0.00e+00 0.00e+00 0.00e+00 0.00e+00 8.08e+10]]\n",
       ")"
      ]
     },
     "metadata": {},
     "output_type": "display_data"
    },
    {
     "data": {
      "text/plain": [
       "ComplianceTensor(\n",
       "[[4.76e-12 -1.43e-12 -1.43e-12 0.00e+00 0.00e+00 0.00e+00]\n",
       " [-1.43e-12 4.76e-12 -1.43e-12 0.00e+00 0.00e+00 0.00e+00]\n",
       " [-1.43e-12 -1.43e-12 4.76e-12 0.00e+00 0.00e+00 0.00e+00]\n",
       " [0.00e+00 0.00e+00 0.00e+00 1.24e-11 0.00e+00 0.00e+00]\n",
       " [0.00e+00 0.00e+00 0.00e+00 0.00e+00 1.24e-11 0.00e+00]\n",
       " [0.00e+00 0.00e+00 0.00e+00 0.00e+00 0.00e+00 1.24e-11]]\n",
       ")"
      ]
     },
     "metadata": {},
     "output_type": "display_data"
    }
   ],
   "source": [
    "isotropic_material = IsotropicMaterial(210e9, 0.3)\n",
    "stiffness_tensor = isotropic_material.stiffness_tensor()\n",
    "compliance_tensor = isotropic_material.compliance_tensor()\n",
    "display(stiffness_tensor)\n",
    "display(compliance_tensor)"
   ]
  },
  {
   "cell_type": "code",
   "execution_count": 3,
   "metadata": {},
   "outputs": [
    {
     "data": {
      "text/plain": [
       "StiffnessTensor(\n",
       "[[1.65e+14 6.43e+13 6.43e+13 0.00e+00 0.00e+00 0.00e+00]\n",
       " [6.43e+13 1.65e+14 6.43e+13 0.00e+00 0.00e+00 0.00e+00]\n",
       " [6.43e+13 6.43e+13 1.00e+13 0.00e+00 0.00e+00 0.00e+00]\n",
       " [0.00e+00 0.00e+00 0.00e+00 7.00e+13 0.00e+00 0.00e+00]\n",
       " [0.00e+00 0.00e+00 0.00e+00 0.00e+00 7.00e+13 0.00e+00]\n",
       " [0.00e+00 0.00e+00 0.00e+00 0.00e+00 0.00e+00 5.00e+12]]\n",
       ")"
      ]
     },
     "metadata": {},
     "output_type": "display_data"
    },
    {
     "data": {
      "text/plain": [
       "None"
      ]
     },
     "metadata": {},
     "output_type": "display_data"
    }
   ],
   "source": [
    "transverse_isotropic_material = TransverseIsotropicMaterial(\n",
    "    150e12, 10e12, 0.3, 70e12, 5e12\n",
    ")\n",
    "stiffness_tensor = transverse_isotropic_material.stiffness_tensor()\n",
    "compliance_tensor = transverse_isotropic_material.compliance_tensor()\n",
    "display(stiffness_tensor)\n",
    "display(compliance_tensor)"
   ]
  },
  {
   "cell_type": "code",
   "execution_count": 4,
   "metadata": {},
   "outputs": [
    {
     "data": {
      "text/latex": [
       "$\\displaystyle \\frac{E \\nu}{\\left(1 - 2 \\nu\\right) \\left(\\nu + 1\\right)}$"
      ],
      "text/plain": [
       "E*nu/((1 - 2*nu)*(nu + 1))"
      ]
     },
     "metadata": {},
     "output_type": "display_data"
    },
    {
     "data": {
      "text/latex": [
       "$\\displaystyle \\frac{E}{2 \\nu + 2}$"
      ],
      "text/plain": [
       "E/(2*nu + 2)"
      ]
     },
     "metadata": {},
     "output_type": "display_data"
    },
    {
     "data": {
      "text/latex": [
       "$\\displaystyle \\frac{E \\left(\\frac{3 E \\nu}{\\left(1 - 2 \\nu\\right) \\left(\\nu + 1\\right)} + \\frac{2 E}{2 \\nu + 2}\\right)}{\\left(2 \\nu + 2\\right) \\left(\\frac{E \\nu}{\\left(1 - 2 \\nu\\right) \\left(\\nu + 1\\right)} + \\frac{E}{2 \\nu + 2}\\right)}$"
      ],
      "text/plain": [
       "E*(3*E*nu/((1 - 2*nu)*(nu + 1)) + 2*E/(2*nu + 2))/((2*nu + 2)*(E*nu/((1 - 2*nu)*(nu + 1)) + E/(2*nu + 2)))"
      ]
     },
     "metadata": {},
     "output_type": "display_data"
    },
    {
     "data": {
      "text/latex": [
       "$\\displaystyle \\frac{E \\nu}{\\left(1 - 2 \\nu\\right) \\left(\\nu + 1\\right) \\left(\\frac{2 E \\nu}{\\left(1 - 2 \\nu\\right) \\left(\\nu + 1\\right)} + \\frac{2 E}{2 \\nu + 2}\\right)}$"
      ],
      "text/plain": [
       "E*nu/((1 - 2*nu)*(nu + 1)*(2*E*nu/((1 - 2*nu)*(nu + 1)) + 2*E/(2*nu + 2)))"
      ]
     },
     "metadata": {},
     "output_type": "display_data"
    },
    {
     "data": {
      "text/latex": [
       "$\\displaystyle E$"
      ],
      "text/plain": [
       "E"
      ]
     },
     "metadata": {},
     "output_type": "display_data"
    },
    {
     "data": {
      "text/latex": [
       "$\\displaystyle \\nu$"
      ],
      "text/plain": [
       "nu"
      ]
     },
     "metadata": {},
     "output_type": "display_data"
    }
   ],
   "source": [
    "E, nu = sp.symbols(\"E nu\")\n",
    "lamda, mu = sp.symbols(\"lamda mu\", cls=sp.Function)\n",
    "lamda = (E * nu) / ((1 + nu) * (1 - 2 * nu))\n",
    "mu = E / (2 * (1 + nu))\n",
    "display(lamda, mu)\n",
    "E, nu = sp.symbols(\"E nu\", cls=sp.Function)\n",
    "E = mu * (3 * lamda + 2 * mu) / (lamda + mu)\n",
    "nu = lamda / (2 * (lamda + mu))\n",
    "display(E, nu)\n",
    "display(sp.simplify((E)), sp.simplify(nu))"
   ]
  },
  {
   "cell_type": "code",
   "execution_count": 5,
   "metadata": {},
   "outputs": [
    {
     "data": {
      "text/latex": [
       "$\\displaystyle \\left[\\begin{matrix}\\lambda + 2 \\mu & \\lambda & \\lambda & 0 & 0 & 0\\\\\\lambda & \\lambda + 2 \\mu & \\lambda & 0 & 0 & 0\\\\\\lambda & \\lambda & \\lambda + 2 \\mu & 0 & 0 & 0\\\\0 & 0 & 0 & \\mu & 0 & 0\\\\0 & 0 & 0 & 0 & \\mu & 0\\\\0 & 0 & 0 & 0 & 0 & \\mu\\end{matrix}\\right]$"
      ],
      "text/plain": [
       "Matrix([\n",
       "[lamda + 2*mu,        lamda,        lamda,  0,  0,  0],\n",
       "[       lamda, lamda + 2*mu,        lamda,  0,  0,  0],\n",
       "[       lamda,        lamda, lamda + 2*mu,  0,  0,  0],\n",
       "[           0,            0,            0, mu,  0,  0],\n",
       "[           0,            0,            0,  0, mu,  0],\n",
       "[           0,            0,            0,  0,  0, mu]])"
      ]
     },
     "metadata": {},
     "output_type": "display_data"
    },
    {
     "data": {
      "text/latex": [
       "$\\displaystyle \\left[\\begin{matrix}\\frac{1}{E} & - \\frac{\\nu}{E} & - \\frac{\\nu}{E} & 0 & 0 & 0\\\\- \\frac{\\nu}{E} & \\frac{1}{E} & - \\frac{\\nu}{E} & 0 & 0 & 0\\\\- \\frac{\\nu}{E} & - \\frac{\\nu}{E} & \\frac{1}{E} & 0 & 0 & 0\\\\0 & 0 & 0 & \\frac{2 \\left(\\nu + 1\\right)}{E} & 0 & 0\\\\0 & 0 & 0 & 0 & \\frac{2 \\left(\\nu + 1\\right)}{E} & 0\\\\0 & 0 & 0 & 0 & 0 & \\frac{2 \\left(\\nu + 1\\right)}{E}\\end{matrix}\\right]$"
      ],
      "text/plain": [
       "Matrix([\n",
       "[  1/E, -nu/E, -nu/E,            0,            0,            0],\n",
       "[-nu/E,   1/E, -nu/E,            0,            0,            0],\n",
       "[-nu/E, -nu/E,   1/E,            0,            0,            0],\n",
       "[    0,     0,     0, 2*(nu + 1)/E,            0,            0],\n",
       "[    0,     0,     0,            0, 2*(nu + 1)/E,            0],\n",
       "[    0,     0,     0,            0,            0, 2*(nu + 1)/E]])"
      ]
     },
     "metadata": {},
     "output_type": "display_data"
    }
   ],
   "source": [
    "symbolic_isotropic_material = SymbolicIsotropicMaterial()\n",
    "display(symbolic_isotropic_material.stiffness_tensor().data)\n",
    "display(symbolic_isotropic_material.compliance_tensor().data)"
   ]
  },
  {
   "cell_type": "code",
   "execution_count": 6,
   "metadata": {},
   "outputs": [
    {
     "data": {
      "text/latex": [
       "$\\displaystyle \\left[\\begin{matrix}\\lambda + 2 \\mu & \\lambda & \\lambda & 0 & 0 & 0\\\\\\lambda & \\lambda + 2 \\mu & \\lambda & 0 & 0 & 0\\\\\\lambda & \\lambda & \\lambda + 2 \\mu & 0 & 0 & 0\\\\0 & 0 & 0 & \\mu & 0 & 0\\\\0 & 0 & 0 & 0 & \\mu & 0\\\\0 & 0 & 0 & 0 & 0 & \\mu\\end{matrix}\\right]$"
      ],
      "text/plain": [
       "Matrix([\n",
       "[lamda + 2*mu,        lamda,        lamda,  0,  0,  0],\n",
       "[       lamda, lamda + 2*mu,        lamda,  0,  0,  0],\n",
       "[       lamda,        lamda, lamda + 2*mu,  0,  0,  0],\n",
       "[           0,            0,            0, mu,  0,  0],\n",
       "[           0,            0,            0,  0, mu,  0],\n",
       "[           0,            0,            0,  0,  0, mu]])"
      ]
     },
     "metadata": {},
     "output_type": "display_data"
    },
    {
     "data": {
      "text/latex": [
       "$\\displaystyle \\left[\\begin{matrix}\\frac{\\lambda + \\mu}{\\mu \\left(3 \\lambda + 2 \\mu\\right)} & - \\frac{\\lambda}{2 \\mu \\left(3 \\lambda + 2 \\mu\\right)} & - \\frac{\\lambda}{2 \\mu \\left(3 \\lambda + 2 \\mu\\right)} & 0 & 0 & 0\\\\- \\frac{\\lambda}{2 \\mu \\left(3 \\lambda + 2 \\mu\\right)} & \\frac{\\lambda + \\mu}{\\mu \\left(3 \\lambda + 2 \\mu\\right)} & - \\frac{\\lambda}{2 \\mu \\left(3 \\lambda + 2 \\mu\\right)} & 0 & 0 & 0\\\\- \\frac{\\lambda}{2 \\mu \\left(3 \\lambda + 2 \\mu\\right)} & - \\frac{\\lambda}{2 \\mu \\left(3 \\lambda + 2 \\mu\\right)} & \\frac{\\lambda + \\mu}{\\mu \\left(3 \\lambda + 2 \\mu\\right)} & 0 & 0 & 0\\\\0 & 0 & 0 & \\frac{1}{\\mu} & 0 & 0\\\\0 & 0 & 0 & 0 & \\frac{1}{\\mu} & 0\\\\0 & 0 & 0 & 0 & 0 & \\frac{1}{\\mu}\\end{matrix}\\right]$"
      ],
      "text/plain": [
       "Matrix([\n",
       "[(lamda + mu)/(mu*(3*lamda + 2*mu)),     -lamda/(2*mu*(3*lamda + 2*mu)),     -lamda/(2*mu*(3*lamda + 2*mu)),    0,    0,    0],\n",
       "[    -lamda/(2*mu*(3*lamda + 2*mu)), (lamda + mu)/(mu*(3*lamda + 2*mu)),     -lamda/(2*mu*(3*lamda + 2*mu)),    0,    0,    0],\n",
       "[    -lamda/(2*mu*(3*lamda + 2*mu)),     -lamda/(2*mu*(3*lamda + 2*mu)), (lamda + mu)/(mu*(3*lamda + 2*mu)),    0,    0,    0],\n",
       "[                                 0,                                  0,                                  0, 1/mu,    0,    0],\n",
       "[                                 0,                                  0,                                  0,    0, 1/mu,    0],\n",
       "[                                 0,                                  0,                                  0,    0,    0, 1/mu]])"
      ]
     },
     "metadata": {},
     "output_type": "display_data"
    }
   ],
   "source": [
    "lamda, mu = sp.symbols(\"lamda mu\")\n",
    "symbolic_isotropic_material = SymbolicIsotropicMaterial(lames_lambda=lamda, lames_mu=mu)\n",
    "display(symbolic_isotropic_material.stiffness_tensor().data)\n",
    "display(symbolic_isotropic_material.compliance_tensor().data)\n"
   ]
  },
  {
   "cell_type": "code",
   "execution_count": 7,
   "metadata": {},
   "outputs": [
    {
     "data": {
      "text/latex": [
       "$\\displaystyle \\left[\\begin{matrix}- \\frac{E_{L}}{\\nu^{2} - 1} & - \\frac{E_{L} \\nu}{\\nu - 1} & - \\frac{E_{L} \\nu}{\\nu - 1} & 0 & 0 & 0\\\\- \\frac{E_{L} \\nu}{\\nu - 1} & - \\frac{E_{L}}{\\nu^{2} - 1} & - \\frac{E_{L} \\nu}{\\nu - 1} & 0 & 0 & 0\\\\- \\frac{E_{L} \\nu}{\\nu - 1} & - \\frac{E_{L} \\nu}{\\nu - 1} & E_{T} & 0 & 0 & 0\\\\0 & 0 & 0 & G_{L} & 0 & 0\\\\0 & 0 & 0 & 0 & G_{L} & 0\\\\0 & 0 & 0 & 0 & 0 & G_{T}\\end{matrix}\\right]$"
      ],
      "text/plain": [
       "Matrix([\n",
       "[-E_L/(nu**2 - 1), -E_L*nu/(nu - 1), -E_L*nu/(nu - 1),   0,   0,   0],\n",
       "[-E_L*nu/(nu - 1), -E_L/(nu**2 - 1), -E_L*nu/(nu - 1),   0,   0,   0],\n",
       "[-E_L*nu/(nu - 1), -E_L*nu/(nu - 1),              E_T,   0,   0,   0],\n",
       "[               0,                0,                0, G_L,   0,   0],\n",
       "[               0,                0,                0,   0, G_L,   0],\n",
       "[               0,                0,                0,   0,   0, G_T]])"
      ]
     },
     "metadata": {},
     "output_type": "display_data"
    }
   ],
   "source": [
    "transverse_isotropic_material = SymbolicTransverseIsotropicMaterial()\n",
    "display(transverse_isotropic_material.stiffness_tensor().data)"
   ]
  },
  {
   "cell_type": "code",
   "execution_count": null,
   "metadata": {},
   "outputs": [],
   "source": []
  }
 ],
 "metadata": {
  "kernelspec": {
   "display_name": "venv",
   "language": "python",
   "name": "python3"
  },
  "language_info": {
   "codemirror_mode": {
    "name": "ipython",
    "version": 3
   },
   "file_extension": ".py",
   "mimetype": "text/x-python",
   "name": "python",
   "nbconvert_exporter": "python",
   "pygments_lexer": "ipython3",
   "version": "3.10.12"
  }
 },
 "nbformat": 4,
 "nbformat_minor": 2
}
