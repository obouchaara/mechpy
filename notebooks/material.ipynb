{
 "cells": [
  {
   "cell_type": "code",
   "execution_count": 1,
   "metadata": {},
   "outputs": [],
   "source": [
    "import sys\n",
    "import numpy as np\n",
    "import sympy as sp\n",
    "\n",
    "sys.path.append(\"../src\")\n",
    "\n",
    "from core.numeric.material import IsotropicMaterial, TransverseIsotropicMaterial\n",
    "from core.symbolic.material import SymbolicIsotropicMaterial, SymbolicTransverseIsotropicMaterial,SymbolicOrthotropicMaterial\n",
    "\n",
    "np.set_printoptions(formatter={\"float\": \"{:0.2e}\".format})"
   ]
  },
  {
   "cell_type": "code",
   "execution_count": 2,
   "metadata": {},
   "outputs": [
    {
     "data": {
      "text/plain": [
       "StiffnessTensor(\n",
       "[[2.83e+11 1.21e+11 1.21e+11 0.00e+00 0.00e+00 0.00e+00]\n",
       " [1.21e+11 2.83e+11 1.21e+11 0.00e+00 0.00e+00 0.00e+00]\n",
       " [1.21e+11 1.21e+11 2.83e+11 0.00e+00 0.00e+00 0.00e+00]\n",
       " [0.00e+00 0.00e+00 0.00e+00 8.08e+10 0.00e+00 0.00e+00]\n",
       " [0.00e+00 0.00e+00 0.00e+00 0.00e+00 8.08e+10 0.00e+00]\n",
       " [0.00e+00 0.00e+00 0.00e+00 0.00e+00 0.00e+00 8.08e+10]]\n",
       ")"
      ]
     },
     "metadata": {},
     "output_type": "display_data"
    },
    {
     "data": {
      "text/plain": [
       "ComplianceTensor(\n",
       "[[4.76e-12 -1.43e-12 -1.43e-12 0.00e+00 0.00e+00 0.00e+00]\n",
       " [-1.43e-12 4.76e-12 -1.43e-12 0.00e+00 0.00e+00 0.00e+00]\n",
       " [-1.43e-12 -1.43e-12 4.76e-12 0.00e+00 0.00e+00 0.00e+00]\n",
       " [0.00e+00 0.00e+00 0.00e+00 1.24e-11 0.00e+00 0.00e+00]\n",
       " [0.00e+00 0.00e+00 0.00e+00 0.00e+00 1.24e-11 0.00e+00]\n",
       " [0.00e+00 0.00e+00 0.00e+00 0.00e+00 0.00e+00 1.24e-11]]\n",
       ")"
      ]
     },
     "metadata": {},
     "output_type": "display_data"
    }
   ],
   "source": [
    "isotropic_material = IsotropicMaterial(210e9, 0.3)\n",
    "stiffness_tensor = isotropic_material.stiffness_tensor()\n",
    "compliance_tensor = isotropic_material.compliance_tensor()\n",
    "display(stiffness_tensor)\n",
    "display(compliance_tensor)"
   ]
  },
  {
   "cell_type": "code",
   "execution_count": 3,
   "metadata": {},
   "outputs": [
    {
     "data": {
      "text/plain": [
       "StiffnessTensor(\n",
       "[[1.65e+14 6.43e+13 6.43e+13 0.00e+00 0.00e+00 0.00e+00]\n",
       " [6.43e+13 1.65e+14 6.43e+13 0.00e+00 0.00e+00 0.00e+00]\n",
       " [6.43e+13 6.43e+13 1.00e+13 0.00e+00 0.00e+00 0.00e+00]\n",
       " [0.00e+00 0.00e+00 0.00e+00 7.00e+13 0.00e+00 0.00e+00]\n",
       " [0.00e+00 0.00e+00 0.00e+00 0.00e+00 7.00e+13 0.00e+00]\n",
       " [0.00e+00 0.00e+00 0.00e+00 0.00e+00 0.00e+00 5.00e+12]]\n",
       ")"
      ]
     },
     "metadata": {},
     "output_type": "display_data"
    },
    {
     "data": {
      "text/plain": [
       "None"
      ]
     },
     "metadata": {},
     "output_type": "display_data"
    }
   ],
   "source": [
    "transverse_isotropic_material = TransverseIsotropicMaterial(\n",
    "    150e12, 10e12, 0.3, 70e12, 5e12\n",
    ")\n",
    "stiffness_tensor = transverse_isotropic_material.stiffness_tensor()\n",
    "compliance_tensor = transverse_isotropic_material.compliance_tensor()\n",
    "display(stiffness_tensor)\n",
    "display(compliance_tensor)"
   ]
  },
  {
   "cell_type": "code",
   "execution_count": 4,
   "metadata": {},
   "outputs": [
    {
     "data": {
      "text/latex": [
       "$\\displaystyle \\frac{E \\nu}{\\left(1 - 2 \\nu\\right) \\left(\\nu + 1\\right)}$"
      ],
      "text/plain": [
       "E*nu/((1 - 2*nu)*(nu + 1))"
      ]
     },
     "metadata": {},
     "output_type": "display_data"
    },
    {
     "data": {
      "text/latex": [
       "$\\displaystyle \\frac{E}{2 \\nu + 2}$"
      ],
      "text/plain": [
       "E/(2*nu + 2)"
      ]
     },
     "metadata": {},
     "output_type": "display_data"
    },
    {
     "data": {
      "text/latex": [
       "$\\displaystyle \\frac{E \\left(\\frac{3 E \\nu}{\\left(1 - 2 \\nu\\right) \\left(\\nu + 1\\right)} + \\frac{2 E}{2 \\nu + 2}\\right)}{\\left(2 \\nu + 2\\right) \\left(\\frac{E \\nu}{\\left(1 - 2 \\nu\\right) \\left(\\nu + 1\\right)} + \\frac{E}{2 \\nu + 2}\\right)}$"
      ],
      "text/plain": [
       "E*(3*E*nu/((1 - 2*nu)*(nu + 1)) + 2*E/(2*nu + 2))/((2*nu + 2)*(E*nu/((1 - 2*nu)*(nu + 1)) + E/(2*nu + 2)))"
      ]
     },
     "metadata": {},
     "output_type": "display_data"
    },
    {
     "data": {
      "text/latex": [
       "$\\displaystyle \\frac{E \\nu}{\\left(1 - 2 \\nu\\right) \\left(\\nu + 1\\right) \\left(\\frac{2 E \\nu}{\\left(1 - 2 \\nu\\right) \\left(\\nu + 1\\right)} + \\frac{2 E}{2 \\nu + 2}\\right)}$"
      ],
      "text/plain": [
       "E*nu/((1 - 2*nu)*(nu + 1)*(2*E*nu/((1 - 2*nu)*(nu + 1)) + 2*E/(2*nu + 2)))"
      ]
     },
     "metadata": {},
     "output_type": "display_data"
    },
    {
     "data": {
      "text/latex": [
       "$\\displaystyle E$"
      ],
      "text/plain": [
       "E"
      ]
     },
     "metadata": {},
     "output_type": "display_data"
    },
    {
     "data": {
      "text/latex": [
       "$\\displaystyle \\nu$"
      ],
      "text/plain": [
       "nu"
      ]
     },
     "metadata": {},
     "output_type": "display_data"
    }
   ],
   "source": [
    "E, nu = sp.symbols(\"E nu\")\n",
    "lamda, mu = sp.symbols(\"lamda mu\", cls=sp.Function)\n",
    "lamda = (E * nu) / ((1 + nu) * (1 - 2 * nu))\n",
    "mu = E / (2 * (1 + nu))\n",
    "display(lamda, mu)\n",
    "E, nu = sp.symbols(\"E nu\", cls=sp.Function)\n",
    "E = mu * (3 * lamda + 2 * mu) / (lamda + mu)\n",
    "nu = lamda / (2 * (lamda + mu))\n",
    "display(E, nu)\n",
    "display(sp.simplify((E)), sp.simplify(nu))"
   ]
  },
  {
   "cell_type": "code",
   "execution_count": 5,
   "metadata": {},
   "outputs": [
    {
     "data": {
      "text/plain": [
       "SymbolicIsotropicMaterial(E, nu)"
      ]
     },
     "metadata": {},
     "output_type": "display_data"
    },
    {
     "data": {
      "text/latex": [
       "$\\displaystyle \\left[\\begin{matrix}\\lambda + 2 \\mu & \\lambda & \\lambda & 0 & 0 & 0\\\\\\lambda & \\lambda + 2 \\mu & \\lambda & 0 & 0 & 0\\\\\\lambda & \\lambda & \\lambda + 2 \\mu & 0 & 0 & 0\\\\0 & 0 & 0 & \\mu & 0 & 0\\\\0 & 0 & 0 & 0 & \\mu & 0\\\\0 & 0 & 0 & 0 & 0 & \\mu\\end{matrix}\\right]$"
      ],
      "text/plain": [
       "Matrix([\n",
       "[lamda + 2*mu,        lamda,        lamda,  0,  0,  0],\n",
       "[       lamda, lamda + 2*mu,        lamda,  0,  0,  0],\n",
       "[       lamda,        lamda, lamda + 2*mu,  0,  0,  0],\n",
       "[           0,            0,            0, mu,  0,  0],\n",
       "[           0,            0,            0,  0, mu,  0],\n",
       "[           0,            0,            0,  0,  0, mu]])"
      ]
     },
     "metadata": {},
     "output_type": "display_data"
    },
    {
     "data": {
      "text/latex": [
       "$\\displaystyle \\left[\\begin{matrix}\\frac{1}{E} & - \\frac{\\nu}{E} & - \\frac{\\nu}{E} & 0 & 0 & 0\\\\- \\frac{\\nu}{E} & \\frac{1}{E} & - \\frac{\\nu}{E} & 0 & 0 & 0\\\\- \\frac{\\nu}{E} & - \\frac{\\nu}{E} & \\frac{1}{E} & 0 & 0 & 0\\\\0 & 0 & 0 & \\frac{2 \\left(\\nu + 1\\right)}{E} & 0 & 0\\\\0 & 0 & 0 & 0 & \\frac{2 \\left(\\nu + 1\\right)}{E} & 0\\\\0 & 0 & 0 & 0 & 0 & \\frac{2 \\left(\\nu + 1\\right)}{E}\\end{matrix}\\right]$"
      ],
      "text/plain": [
       "Matrix([\n",
       "[  1/E, -nu/E, -nu/E,            0,            0,            0],\n",
       "[-nu/E,   1/E, -nu/E,            0,            0,            0],\n",
       "[-nu/E, -nu/E,   1/E,            0,            0,            0],\n",
       "[    0,     0,     0, 2*(nu + 1)/E,            0,            0],\n",
       "[    0,     0,     0,            0, 2*(nu + 1)/E,            0],\n",
       "[    0,     0,     0,            0,            0, 2*(nu + 1)/E]])"
      ]
     },
     "metadata": {},
     "output_type": "display_data"
    }
   ],
   "source": [
    "symbolic_isotropic_material = SymbolicIsotropicMaterial()\n",
    "display(symbolic_isotropic_material)\n",
    "display(symbolic_isotropic_material.stiffness_tensor().data)\n",
    "display(symbolic_isotropic_material.compliance_tensor().data)"
   ]
  },
  {
   "cell_type": "code",
   "execution_count": 6,
   "metadata": {},
   "outputs": [
    {
     "data": {
      "text/plain": [
       "SymbolicIsotropicMaterial(E_a, nu_b)"
      ]
     },
     "metadata": {},
     "output_type": "display_data"
    },
    {
     "data": {
      "text/latex": [
       "$\\displaystyle \\left[\\begin{matrix}\\lambda + 2 \\mu & \\lambda & \\lambda & 0 & 0 & 0\\\\\\lambda & \\lambda + 2 \\mu & \\lambda & 0 & 0 & 0\\\\\\lambda & \\lambda & \\lambda + 2 \\mu & 0 & 0 & 0\\\\0 & 0 & 0 & \\mu & 0 & 0\\\\0 & 0 & 0 & 0 & \\mu & 0\\\\0 & 0 & 0 & 0 & 0 & \\mu\\end{matrix}\\right]$"
      ],
      "text/plain": [
       "Matrix([\n",
       "[lamda + 2*mu,        lamda,        lamda,  0,  0,  0],\n",
       "[       lamda, lamda + 2*mu,        lamda,  0,  0,  0],\n",
       "[       lamda,        lamda, lamda + 2*mu,  0,  0,  0],\n",
       "[           0,            0,            0, mu,  0,  0],\n",
       "[           0,            0,            0,  0, mu,  0],\n",
       "[           0,            0,            0,  0,  0, mu]])"
      ]
     },
     "metadata": {},
     "output_type": "display_data"
    },
    {
     "data": {
      "text/latex": [
       "$\\displaystyle \\left[\\begin{matrix}\\frac{E_{a} \\left(\\nu_{b} - 1\\right)}{\\left(\\nu_{b} + 1\\right) \\left(2 \\nu_{b} - 1\\right)} & - \\frac{E_{a} \\nu_{b}}{\\left(\\nu_{b} + 1\\right) \\left(2 \\nu_{b} - 1\\right)} & - \\frac{E_{a} \\nu_{b}}{\\left(\\nu_{b} + 1\\right) \\left(2 \\nu_{b} - 1\\right)} & 0 & 0 & 0\\\\- \\frac{E_{a} \\nu_{b}}{\\left(\\nu_{b} + 1\\right) \\left(2 \\nu_{b} - 1\\right)} & \\frac{E_{a} \\left(\\nu_{b} - 1\\right)}{\\left(\\nu_{b} + 1\\right) \\left(2 \\nu_{b} - 1\\right)} & - \\frac{E_{a} \\nu_{b}}{\\left(\\nu_{b} + 1\\right) \\left(2 \\nu_{b} - 1\\right)} & 0 & 0 & 0\\\\- \\frac{E_{a} \\nu_{b}}{\\left(\\nu_{b} + 1\\right) \\left(2 \\nu_{b} - 1\\right)} & - \\frac{E_{a} \\nu_{b}}{\\left(\\nu_{b} + 1\\right) \\left(2 \\nu_{b} - 1\\right)} & \\frac{E_{a} \\left(\\nu_{b} - 1\\right)}{\\left(\\nu_{b} + 1\\right) \\left(2 \\nu_{b} - 1\\right)} & 0 & 0 & 0\\\\0 & 0 & 0 & \\frac{E_{a}}{2 \\left(\\nu_{b} + 1\\right)} & 0 & 0\\\\0 & 0 & 0 & 0 & \\frac{E_{a}}{2 \\left(\\nu_{b} + 1\\right)} & 0\\\\0 & 0 & 0 & 0 & 0 & \\frac{E_{a}}{2 \\left(\\nu_{b} + 1\\right)}\\end{matrix}\\right]$"
      ],
      "text/plain": [
       "Matrix([\n",
       "[E_a*(nu_b - 1)/((nu_b + 1)*(2*nu_b - 1)),      -E_a*nu_b/((nu_b + 1)*(2*nu_b - 1)),      -E_a*nu_b/((nu_b + 1)*(2*nu_b - 1)),                  0,                  0,                  0],\n",
       "[     -E_a*nu_b/((nu_b + 1)*(2*nu_b - 1)), E_a*(nu_b - 1)/((nu_b + 1)*(2*nu_b - 1)),      -E_a*nu_b/((nu_b + 1)*(2*nu_b - 1)),                  0,                  0,                  0],\n",
       "[     -E_a*nu_b/((nu_b + 1)*(2*nu_b - 1)),      -E_a*nu_b/((nu_b + 1)*(2*nu_b - 1)), E_a*(nu_b - 1)/((nu_b + 1)*(2*nu_b - 1)),                  0,                  0,                  0],\n",
       "[                                       0,                                        0,                                        0, E_a/(2*(nu_b + 1)),                  0,                  0],\n",
       "[                                       0,                                        0,                                        0,                  0, E_a/(2*(nu_b + 1)),                  0],\n",
       "[                                       0,                                        0,                                        0,                  0,                  0, E_a/(2*(nu_b + 1))]])"
      ]
     },
     "metadata": {},
     "output_type": "display_data"
    },
    {
     "data": {
      "text/latex": [
       "$\\displaystyle \\left[\\begin{matrix}\\frac{1}{E_{a}} & - \\frac{\\nu_{b}}{E_{a}} & - \\frac{\\nu_{b}}{E_{a}} & 0 & 0 & 0\\\\- \\frac{\\nu_{b}}{E_{a}} & \\frac{1}{E_{a}} & - \\frac{\\nu_{b}}{E_{a}} & 0 & 0 & 0\\\\- \\frac{\\nu_{b}}{E_{a}} & - \\frac{\\nu_{b}}{E_{a}} & \\frac{1}{E_{a}} & 0 & 0 & 0\\\\0 & 0 & 0 & \\frac{2 \\left(\\nu_{b} + 1\\right)}{E_{a}} & 0 & 0\\\\0 & 0 & 0 & 0 & \\frac{2 \\left(\\nu_{b} + 1\\right)}{E_{a}} & 0\\\\0 & 0 & 0 & 0 & 0 & \\frac{2 \\left(\\nu_{b} + 1\\right)}{E_{a}}\\end{matrix}\\right]$"
      ],
      "text/plain": [
       "Matrix([\n",
       "[    1/E_a, -nu_b/E_a, -nu_b/E_a,                0,                0,                0],\n",
       "[-nu_b/E_a,     1/E_a, -nu_b/E_a,                0,                0,                0],\n",
       "[-nu_b/E_a, -nu_b/E_a,     1/E_a,                0,                0,                0],\n",
       "[        0,         0,         0, 2*(nu_b + 1)/E_a,                0,                0],\n",
       "[        0,         0,         0,                0, 2*(nu_b + 1)/E_a,                0],\n",
       "[        0,         0,         0,                0,                0, 2*(nu_b + 1)/E_a]])"
      ]
     },
     "metadata": {},
     "output_type": "display_data"
    }
   ],
   "source": [
    "E_a, nu_b = sp.symbols(\"E_a nu_b\")\n",
    "symbolic_isotropic_material = SymbolicIsotropicMaterial(E_a, nu_b)\n",
    "display(symbolic_isotropic_material)\n",
    "display(symbolic_isotropic_material.stiffness_tensor().data)\n",
    "display(symbolic_isotropic_material.stiffness_tensor(lames_param=False).data)\n",
    "display(symbolic_isotropic_material.compliance_tensor().data)"
   ]
  },
  {
   "cell_type": "code",
   "execution_count": 7,
   "metadata": {},
   "outputs": [
    {
     "data": {
      "text/plain": [
       "SymbolicIsotropicMaterial(mu*(3*lamda + 2*mu)/(lamda + mu), lamda/(2*lamda + 2*mu))"
      ]
     },
     "metadata": {},
     "output_type": "display_data"
    },
    {
     "data": {
      "text/latex": [
       "$\\displaystyle \\left[\\begin{matrix}\\lambda + 2 \\mu & \\lambda & \\lambda & 0 & 0 & 0\\\\\\lambda & \\lambda + 2 \\mu & \\lambda & 0 & 0 & 0\\\\\\lambda & \\lambda & \\lambda + 2 \\mu & 0 & 0 & 0\\\\0 & 0 & 0 & \\mu & 0 & 0\\\\0 & 0 & 0 & 0 & \\mu & 0\\\\0 & 0 & 0 & 0 & 0 & \\mu\\end{matrix}\\right]$"
      ],
      "text/plain": [
       "Matrix([\n",
       "[lamda + 2*mu,        lamda,        lamda,  0,  0,  0],\n",
       "[       lamda, lamda + 2*mu,        lamda,  0,  0,  0],\n",
       "[       lamda,        lamda, lamda + 2*mu,  0,  0,  0],\n",
       "[           0,            0,            0, mu,  0,  0],\n",
       "[           0,            0,            0,  0, mu,  0],\n",
       "[           0,            0,            0,  0,  0, mu]])"
      ]
     },
     "metadata": {},
     "output_type": "display_data"
    },
    {
     "data": {
      "text/latex": [
       "$\\displaystyle \\left[\\begin{matrix}\\frac{\\lambda + \\mu}{\\mu \\left(3 \\lambda + 2 \\mu\\right)} & - \\frac{\\lambda}{2 \\mu \\left(3 \\lambda + 2 \\mu\\right)} & - \\frac{\\lambda}{2 \\mu \\left(3 \\lambda + 2 \\mu\\right)} & 0 & 0 & 0\\\\- \\frac{\\lambda}{2 \\mu \\left(3 \\lambda + 2 \\mu\\right)} & \\frac{\\lambda + \\mu}{\\mu \\left(3 \\lambda + 2 \\mu\\right)} & - \\frac{\\lambda}{2 \\mu \\left(3 \\lambda + 2 \\mu\\right)} & 0 & 0 & 0\\\\- \\frac{\\lambda}{2 \\mu \\left(3 \\lambda + 2 \\mu\\right)} & - \\frac{\\lambda}{2 \\mu \\left(3 \\lambda + 2 \\mu\\right)} & \\frac{\\lambda + \\mu}{\\mu \\left(3 \\lambda + 2 \\mu\\right)} & 0 & 0 & 0\\\\0 & 0 & 0 & \\frac{1}{\\mu} & 0 & 0\\\\0 & 0 & 0 & 0 & \\frac{1}{\\mu} & 0\\\\0 & 0 & 0 & 0 & 0 & \\frac{1}{\\mu}\\end{matrix}\\right]$"
      ],
      "text/plain": [
       "Matrix([\n",
       "[(lamda + mu)/(mu*(3*lamda + 2*mu)),     -lamda/(2*mu*(3*lamda + 2*mu)),     -lamda/(2*mu*(3*lamda + 2*mu)),    0,    0,    0],\n",
       "[    -lamda/(2*mu*(3*lamda + 2*mu)), (lamda + mu)/(mu*(3*lamda + 2*mu)),     -lamda/(2*mu*(3*lamda + 2*mu)),    0,    0,    0],\n",
       "[    -lamda/(2*mu*(3*lamda + 2*mu)),     -lamda/(2*mu*(3*lamda + 2*mu)), (lamda + mu)/(mu*(3*lamda + 2*mu)),    0,    0,    0],\n",
       "[                                 0,                                  0,                                  0, 1/mu,    0,    0],\n",
       "[                                 0,                                  0,                                  0,    0, 1/mu,    0],\n",
       "[                                 0,                                  0,                                  0,    0,    0, 1/mu]])"
      ]
     },
     "metadata": {},
     "output_type": "display_data"
    }
   ],
   "source": [
    "lamda, mu = sp.symbols(\"lamda mu\")\n",
    "symbolic_isotropic_material = SymbolicIsotropicMaterial(lamda=lamda, mu=mu)\n",
    "display(symbolic_isotropic_material)\n",
    "display(symbolic_isotropic_material.stiffness_tensor().data)\n",
    "display(symbolic_isotropic_material.compliance_tensor().data)\n"
   ]
  },
  {
   "cell_type": "code",
   "execution_count": 8,
   "metadata": {},
   "outputs": [
    {
     "data": {
      "text/plain": [
       "SymbolicIsotropicMaterial(mu_b*(3*lamda_a + 2*mu_b)/(lamda_a + mu_b), lamda_a/(2*lamda_a + 2*mu_b))"
      ]
     },
     "metadata": {},
     "output_type": "display_data"
    },
    {
     "data": {
      "text/latex": [
       "$\\displaystyle \\left[\\begin{matrix}\\lambda_{a} + 2 \\mu_{b} & \\lambda_{a} & \\lambda_{a} & 0 & 0 & 0\\\\\\lambda_{a} & \\lambda_{a} + 2 \\mu_{b} & \\lambda_{a} & 0 & 0 & 0\\\\\\lambda_{a} & \\lambda_{a} & \\lambda_{a} + 2 \\mu_{b} & 0 & 0 & 0\\\\0 & 0 & 0 & \\mu_{b} & 0 & 0\\\\0 & 0 & 0 & 0 & \\mu_{b} & 0\\\\0 & 0 & 0 & 0 & 0 & \\mu_{b}\\end{matrix}\\right]$"
      ],
      "text/plain": [
       "Matrix([\n",
       "[lamda_a + 2*mu_b,          lamda_a,          lamda_a,    0,    0,    0],\n",
       "[         lamda_a, lamda_a + 2*mu_b,          lamda_a,    0,    0,    0],\n",
       "[         lamda_a,          lamda_a, lamda_a + 2*mu_b,    0,    0,    0],\n",
       "[               0,                0,                0, mu_b,    0,    0],\n",
       "[               0,                0,                0,    0, mu_b,    0],\n",
       "[               0,                0,                0,    0,    0, mu_b]])"
      ]
     },
     "metadata": {},
     "output_type": "display_data"
    },
    {
     "data": {
      "text/latex": [
       "$\\displaystyle \\left[\\begin{matrix}\\frac{\\lambda_{a} + \\mu_{b}}{\\mu_{b} \\left(3 \\lambda_{a} + 2 \\mu_{b}\\right)} & - \\frac{\\lambda_{a}}{2 \\mu_{b} \\left(3 \\lambda_{a} + 2 \\mu_{b}\\right)} & - \\frac{\\lambda_{a}}{2 \\mu_{b} \\left(3 \\lambda_{a} + 2 \\mu_{b}\\right)} & 0 & 0 & 0\\\\- \\frac{\\lambda_{a}}{2 \\mu_{b} \\left(3 \\lambda_{a} + 2 \\mu_{b}\\right)} & \\frac{\\lambda_{a} + \\mu_{b}}{\\mu_{b} \\left(3 \\lambda_{a} + 2 \\mu_{b}\\right)} & - \\frac{\\lambda_{a}}{2 \\mu_{b} \\left(3 \\lambda_{a} + 2 \\mu_{b}\\right)} & 0 & 0 & 0\\\\- \\frac{\\lambda_{a}}{2 \\mu_{b} \\left(3 \\lambda_{a} + 2 \\mu_{b}\\right)} & - \\frac{\\lambda_{a}}{2 \\mu_{b} \\left(3 \\lambda_{a} + 2 \\mu_{b}\\right)} & \\frac{\\lambda_{a} + \\mu_{b}}{\\mu_{b} \\left(3 \\lambda_{a} + 2 \\mu_{b}\\right)} & 0 & 0 & 0\\\\0 & 0 & 0 & \\frac{1}{\\mu_{b}} & 0 & 0\\\\0 & 0 & 0 & 0 & \\frac{1}{\\mu_{b}} & 0\\\\0 & 0 & 0 & 0 & 0 & \\frac{1}{\\mu_{b}}\\end{matrix}\\right]$"
      ],
      "text/plain": [
       "Matrix([\n",
       "[(lamda_a + mu_b)/(mu_b*(3*lamda_a + 2*mu_b)),       -lamda_a/(2*mu_b*(3*lamda_a + 2*mu_b)),       -lamda_a/(2*mu_b*(3*lamda_a + 2*mu_b)),      0,      0,      0],\n",
       "[      -lamda_a/(2*mu_b*(3*lamda_a + 2*mu_b)), (lamda_a + mu_b)/(mu_b*(3*lamda_a + 2*mu_b)),       -lamda_a/(2*mu_b*(3*lamda_a + 2*mu_b)),      0,      0,      0],\n",
       "[      -lamda_a/(2*mu_b*(3*lamda_a + 2*mu_b)),       -lamda_a/(2*mu_b*(3*lamda_a + 2*mu_b)), (lamda_a + mu_b)/(mu_b*(3*lamda_a + 2*mu_b)),      0,      0,      0],\n",
       "[                                           0,                                            0,                                            0, 1/mu_b,      0,      0],\n",
       "[                                           0,                                            0,                                            0,      0, 1/mu_b,      0],\n",
       "[                                           0,                                            0,                                            0,      0,      0, 1/mu_b]])"
      ]
     },
     "metadata": {},
     "output_type": "display_data"
    }
   ],
   "source": [
    "lamda_a, mu_b = sp.symbols(\"lamda_a mu_b\")\n",
    "symbolic_isotropic_material = SymbolicIsotropicMaterial(lamda=lamda_a, mu=mu_b)\n",
    "display(symbolic_isotropic_material)\n",
    "display(symbolic_isotropic_material.stiffness_tensor().data)\n",
    "display(symbolic_isotropic_material.compliance_tensor().data)"
   ]
  },
  {
   "cell_type": "code",
   "execution_count": 9,
   "metadata": {},
   "outputs": [
    {
     "data": {
      "text/latex": [
       "$\\displaystyle \\left[\\begin{matrix}- \\frac{E_{L}}{\\nu^{2} - 1} & - \\frac{E_{L} \\nu}{\\nu - 1} & - \\frac{E_{L} \\nu}{\\nu - 1} & 0 & 0 & 0\\\\- \\frac{E_{L} \\nu}{\\nu - 1} & - \\frac{E_{L}}{\\nu^{2} - 1} & - \\frac{E_{L} \\nu}{\\nu - 1} & 0 & 0 & 0\\\\- \\frac{E_{L} \\nu}{\\nu - 1} & - \\frac{E_{L} \\nu}{\\nu - 1} & E_{T} & 0 & 0 & 0\\\\0 & 0 & 0 & G_{L} & 0 & 0\\\\0 & 0 & 0 & 0 & G_{L} & 0\\\\0 & 0 & 0 & 0 & 0 & G_{T}\\end{matrix}\\right]$"
      ],
      "text/plain": [
       "Matrix([\n",
       "[-E_L/(nu**2 - 1), -E_L*nu/(nu - 1), -E_L*nu/(nu - 1),   0,   0,   0],\n",
       "[-E_L*nu/(nu - 1), -E_L/(nu**2 - 1), -E_L*nu/(nu - 1),   0,   0,   0],\n",
       "[-E_L*nu/(nu - 1), -E_L*nu/(nu - 1),              E_T,   0,   0,   0],\n",
       "[               0,                0,                0, G_L,   0,   0],\n",
       "[               0,                0,                0,   0, G_L,   0],\n",
       "[               0,                0,                0,   0,   0, G_T]])"
      ]
     },
     "metadata": {},
     "output_type": "display_data"
    }
   ],
   "source": [
    "transverse_isotropic_material = SymbolicTransverseIsotropicMaterial()\n",
    "display(transverse_isotropic_material.stiffness_tensor().data)\n",
    "# display(transverse_isotropic_material.compliance_tensor().data)"
   ]
  },
  {
   "cell_type": "code",
   "execution_count": 10,
   "metadata": {},
   "outputs": [
    {
     "data": {
      "text/plain": [
       "SymbolicOrthotropicMaterial({'E1': E1, 'E2': E1*n, 'E3': E1*n, 'G12': G12, 'G23': G12*m, 'G31': G12*p, 'nu12': 0.3, 'nu23': 0.3, 'nu31': 0.3})"
      ]
     },
     "metadata": {},
     "output_type": "display_data"
    },
    {
     "data": {
      "text/plain": [
       "{'E1': E1,\n",
       " 'E2': E1*n,\n",
       " 'E3': E1*n,\n",
       " 'G12': G12,\n",
       " 'G23': G12*m,\n",
       " 'G31': G12*p,\n",
       " 'nu12': 0.3,\n",
       " 'nu23': 0.3,\n",
       " 'nu31': 0.3}"
      ]
     },
     "metadata": {},
     "output_type": "display_data"
    },
    {
     "data": {
      "text/latex": [
       "$\\displaystyle \\left[\\begin{matrix}E_{1} & 0.3 E_{1} n & 0.3 E_{1} & 0 & 0 & 0\\\\0.3 E_{1} n & E_{1} n & 0.3 E_{1} n & 0 & 0 & 0\\\\0.3 E_{1} & 0.3 E_{1} n & E_{1} n & 0 & 0 & 0\\\\0 & 0 & 0 & G_{12} m & 0 & 0\\\\0 & 0 & 0 & 0 & G_{12} p & 0\\\\0 & 0 & 0 & 0 & 0 & G_{12}\\end{matrix}\\right]$"
      ],
      "text/plain": [
       "Matrix([\n",
       "[      E1, 0.3*E1*n,   0.3*E1,     0,     0,   0],\n",
       "[0.3*E1*n,     E1*n, 0.3*E1*n,     0,     0,   0],\n",
       "[  0.3*E1, 0.3*E1*n,     E1*n,     0,     0,   0],\n",
       "[       0,        0,        0, G12*m,     0,   0],\n",
       "[       0,        0,        0,     0, G12*p,   0],\n",
       "[       0,        0,        0,     0,     0, G12]])"
      ]
     },
     "metadata": {},
     "output_type": "display_data"
    },
    {
     "data": {
      "text/latex": [
       "$\\displaystyle \\left[\\begin{matrix}\\frac{n \\left(0.91 - 0.0819 n\\right)}{E_{1} \\cdot \\left(0.0081 n^{3} - 0.17676 n^{2} + 0.9721 n - 0.09\\right)} & \\frac{0.027 n^{2} - 0.3081 n + 0.09}{E_{1} \\cdot \\left(0.0081 n^{3} - 0.17676 n^{2} + 0.9721 n - 0.09\\right)} & \\frac{- 0.0081 n^{2} + 0.117 n - 0.3}{E_{1} \\cdot \\left(0.0081 n^{3} - 0.17676 n^{2} + 0.9721 n - 0.09\\right)} & 0 & 0 & 0\\\\\\frac{0.027 n^{2} - 0.3081 n + 0.09}{E_{1} \\cdot \\left(0.0081 n^{3} - 0.17676 n^{2} + 0.9721 n - 0.09\\right)} & \\frac{- 0.09 n^{2} + 1.0081 n - 0.09}{E_{1} n \\left(0.0081 n^{3} - 0.17676 n^{2} + 0.9721 n - 0.09\\right)} & \\frac{0.0189 n - 0.21}{E_{1} \\cdot \\left(0.0081 n^{3} - 0.17676 n^{2} + 0.9721 n - 0.09\\right)} & 0 & 0 & 0\\\\\\frac{0.3 - 0.09 n}{E_{1} \\cdot \\left(0.09 n^{2} - 0.964 n + 0.09\\right)} & \\frac{0.21}{E_{1} \\cdot \\left(0.09 n^{2} - 0.964 n + 0.09\\right)} & \\frac{0.09 n - 1.0}{E_{1} \\cdot \\left(0.09 n^{2} - 0.964 n + 0.09\\right)} & 0 & 0 & 0\\\\0 & 0 & 0 & \\frac{1}{G_{12} m} & 0 & 0\\\\0 & 0 & 0 & 0 & \\frac{1}{G_{12} p} & 0\\\\0 & 0 & 0 & 0 & 0 & \\frac{1}{G_{12}}\\end{matrix}\\right]$"
      ],
      "text/plain": [
       "Matrix([\n",
       "[           n*(0.91 - 0.0819*n)/(E1*(0.0081*n**3 - 0.17676*n**2 + 0.9721*n - 0.09)),   (0.027*n**2 - 0.3081*n + 0.09)/(E1*(0.0081*n**3 - 0.17676*n**2 + 0.9721*n - 0.09)), (-0.0081*n**2 + 0.117*n - 0.3)/(E1*(0.0081*n**3 - 0.17676*n**2 + 0.9721*n - 0.09)),         0,         0,     0],\n",
       "[(0.027*n**2 - 0.3081*n + 0.09)/(E1*(0.0081*n**3 - 0.17676*n**2 + 0.9721*n - 0.09)), (-0.09*n**2 + 1.0081*n - 0.09)/(E1*n*(0.0081*n**3 - 0.17676*n**2 + 0.9721*n - 0.09)),              (0.0189*n - 0.21)/(E1*(0.0081*n**3 - 0.17676*n**2 + 0.9721*n - 0.09)),         0,         0,     0],\n",
       "[                                  (0.3 - 0.09*n)/(E1*(0.09*n**2 - 0.964*n + 0.09)),                                               0.21/(E1*(0.09*n**2 - 0.964*n + 0.09)),                                   (0.09*n - 1.0)/(E1*(0.09*n**2 - 0.964*n + 0.09)),         0,         0,     0],\n",
       "[                                                                                 0,                                                                                    0,                                                                                  0, 1/(G12*m),         0,     0],\n",
       "[                                                                                 0,                                                                                    0,                                                                                  0,         0, 1/(G12*p),     0],\n",
       "[                                                                                 0,                                                                                    0,                                                                                  0,         0,         0, 1/G12]])"
      ]
     },
     "metadata": {},
     "output_type": "display_data"
    }
   ],
   "source": [
    "E1 = sp.symbols(\"E1\")\n",
    "E2 = E1 * sp.symbols(\"n\")\n",
    "E3 = E2\n",
    "G12 = sp.symbols(\"G12\")\n",
    "G23 = G12 * sp.symbols(\"m\")\n",
    "G31 = G12 * sp.symbols(\"p\")\n",
    "orthotropic_material = SymbolicOrthotropicMaterial(E1=E1, E2=E2, E3=E3, G12=G12, G23=G23, G31=G31, nu12=0.3, nu23=0.3, nu31=0.3)\n",
    "display(orthotropic_material)\n",
    "display(orthotropic_material.mechanical_props)\n",
    "display(orthotropic_material.stiffness_tensor().data)\n",
    "display(orthotropic_material.compliance_tensor().data)"
   ]
  },
  {
   "cell_type": "code",
   "execution_count": null,
   "metadata": {},
   "outputs": [],
   "source": []
  }
 ],
 "metadata": {
  "kernelspec": {
   "display_name": "venv",
   "language": "python",
   "name": "python3"
  },
  "language_info": {
   "codemirror_mode": {
    "name": "ipython",
    "version": 3
   },
   "file_extension": ".py",
   "mimetype": "text/x-python",
   "name": "python",
   "nbconvert_exporter": "python",
   "pygments_lexer": "ipython3",
   "version": "3.10.12"
  }
 },
 "nbformat": 4,
 "nbformat_minor": 2
}
