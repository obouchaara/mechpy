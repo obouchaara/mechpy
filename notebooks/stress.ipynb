{
 "cells": [
  {
   "cell_type": "code",
   "execution_count": 1,
   "metadata": {},
   "outputs": [],
   "source": [
    "import sys\n",
    "import numpy as np\n",
    "import sympy as sp\n",
    "\n",
    "from mechpy.core.numeric.stress import (\n",
    "    StressTensor,\n",
    ")\n",
    "\n",
    "from mechpy.core.symbolic.stress import (\n",
    "    SymbolicStressTensor,\n",
    ")"
   ]
  },
  {
   "cell_type": "code",
   "execution_count": 2,
   "metadata": {},
   "outputs": [
    {
     "data": {
      "text/plain": [
       "StressTensor(\n",
       "[[ 200]\n",
       " [-150]\n",
       " [   0]\n",
       " [   0]\n",
       " [   0]\n",
       " [ 100]]\n",
       ")"
      ]
     },
     "metadata": {},
     "output_type": "display_data"
    }
   ],
   "source": [
    "sigma = StressTensor.from_list([200, -150, 0, 0, 0, 100])\n",
    "display(sigma)"
   ]
  },
  {
   "cell_type": "code",
   "execution_count": 3,
   "metadata": {},
   "outputs": [
    {
     "data": {
      "text/plain": [
       "array([[ 200],\n",
       "       [-150],\n",
       "       [   0]])"
      ]
     },
     "metadata": {},
     "output_type": "display_data"
    }
   ],
   "source": [
    "normal_components = sigma.normal_components()\n",
    "display(normal_components)"
   ]
  },
  {
   "cell_type": "code",
   "execution_count": 4,
   "metadata": {},
   "outputs": [
    {
     "data": {
      "text/plain": [
       "array([[  0],\n",
       "       [  0],\n",
       "       [100]])"
      ]
     },
     "metadata": {},
     "output_type": "display_data"
    }
   ],
   "source": [
    "shear_components = sigma.shear_components()\n",
    "display(shear_components)"
   ]
  },
  {
   "cell_type": "code",
   "execution_count": 5,
   "metadata": {},
   "outputs": [
    {
     "data": {
      "text/plain": [
       "16.666666666666668"
      ]
     },
     "metadata": {},
     "output_type": "display_data"
    }
   ],
   "source": [
    "pressure = sigma.pressure()\n",
    "display(pressure)"
   ]
  },
  {
   "cell_type": "code",
   "execution_count": 6,
   "metadata": {},
   "outputs": [
    {
     "data": {
      "text/plain": [
       "403.11288741492746"
      ]
     },
     "metadata": {},
     "output_type": "display_data"
    }
   ],
   "source": [
    "tresca = sigma.tresca()\n",
    "display(tresca)"
   ]
  },
  {
   "cell_type": "code",
   "execution_count": 7,
   "metadata": {},
   "outputs": [
    {
     "data": {
      "text/plain": [
       "array([350.])"
      ]
     },
     "metadata": {},
     "output_type": "display_data"
    }
   ],
   "source": [
    "sigma_eq = sigma.von_mises()\n",
    "display(sigma_eq)"
   ]
  },
  {
   "cell_type": "code",
   "execution_count": 8,
   "metadata": {},
   "outputs": [
    {
     "data": {
      "text/latex": [
       "$\\displaystyle \\left[\\begin{matrix}σ_{11}\\\\σ_{22}\\\\σ_{33}\\\\σ_{23}\\\\σ_{13}\\\\σ_{12}\\end{matrix}\\right]$"
      ],
      "text/plain": [
       "Matrix([\n",
       "[σ_11],\n",
       "[σ_22],\n",
       "[σ_33],\n",
       "[σ_23],\n",
       "[σ_13],\n",
       "[σ_12]])"
      ]
     },
     "metadata": {},
     "output_type": "display_data"
    },
    {
     "data": {
      "text/latex": [
       "$\\displaystyle \\left[\\begin{matrix}σ_{11} & σ_{12} & σ_{13}\\\\σ_{12} & σ_{22} & σ_{23}\\\\σ_{13} & σ_{23} & σ_{33}\\end{matrix}\\right]$"
      ],
      "text/plain": [
       "Matrix([\n",
       "[σ_11, σ_12, σ_13],\n",
       "[σ_12, σ_22, σ_23],\n",
       "[σ_13, σ_23, σ_33]])"
      ]
     },
     "metadata": {},
     "output_type": "display_data"
    }
   ],
   "source": [
    "sigma_11, sigma_22, sigma_33, sigma_23, sigma_13, sigma_12 = sp.symbols('σ_11 σ_22 σ_33 σ_23 σ_13 σ_12')\n",
    "sigma = SymbolicStressTensor(sp.Matrix([sigma_11, sigma_22, sigma_33, sigma_23, sigma_13, sigma_12]))\n",
    "display(sigma.data)\n",
    "display(sigma.to_general().data)"
   ]
  },
  {
   "cell_type": "code",
   "execution_count": 9,
   "metadata": {},
   "outputs": [
    {
     "data": {
      "text/plain": [
       "SymbolicStressTensor(\n",
       "Matrix([[\\sigma_11], [\\sigma_22], [\\sigma_33], [\\sigma_23], [\\sigma_13], [\\sigma_12]])\n",
       ")"
      ]
     },
     "metadata": {},
     "output_type": "display_data"
    },
    {
     "data": {
      "text/latex": [
       "$\\displaystyle \\left[\\begin{matrix}\\sigma_{11}\\\\\\sigma_{22}\\\\\\sigma_{33}\\\\\\sigma_{23}\\\\\\sigma_{13}\\\\\\sigma_{12}\\end{matrix}\\right]$"
      ],
      "text/plain": [
       "Matrix([\n",
       "[\\sigma_11],\n",
       "[\\sigma_22],\n",
       "[\\sigma_33],\n",
       "[\\sigma_23],\n",
       "[\\sigma_13],\n",
       "[\\sigma_12]])"
      ]
     },
     "metadata": {},
     "output_type": "display_data"
    },
    {
     "data": {
      "text/latex": [
       "$\\displaystyle \\left[\\begin{matrix}\\sigma_{11} & \\sigma_{12} & \\sigma_{13}\\\\\\sigma_{12} & \\sigma_{22} & \\sigma_{23}\\\\\\sigma_{13} & \\sigma_{23} & \\sigma_{33}\\end{matrix}\\right]$"
      ],
      "text/plain": [
       "Matrix([\n",
       "[\\sigma_11, \\sigma_12, \\sigma_13],\n",
       "[\\sigma_12, \\sigma_22, \\sigma_23],\n",
       "[\\sigma_13, \\sigma_23, \\sigma_33]])"
      ]
     },
     "metadata": {},
     "output_type": "display_data"
    }
   ],
   "source": [
    "sigma = SymbolicStressTensor.create()\n",
    "display(sigma)\n",
    "display(sigma.data)\n",
    "display(sigma.to_general().data)"
   ]
  },
  {
   "cell_type": "code",
   "execution_count": 10,
   "metadata": {},
   "outputs": [
    {
     "data": {
      "text/plain": [
       "SymbolicStressTensor(\n",
       "Matrix([[\\sigma_11], [\\sigma_22], [\\sigma_33], [\\sigma_23], [\\sigma_13], [\\sigma_12]])\n",
       ")"
      ]
     },
     "metadata": {},
     "output_type": "display_data"
    },
    {
     "data": {
      "text/latex": [
       "$\\displaystyle \\left[\\begin{matrix}\\sigma_{11}\\\\\\sigma_{22}\\\\\\sigma_{33}\\\\\\sigma_{23}\\\\\\sigma_{13}\\\\\\sigma_{12}\\end{matrix}\\right]$"
      ],
      "text/plain": [
       "Matrix([\n",
       "[\\sigma_11],\n",
       "[\\sigma_22],\n",
       "[\\sigma_33],\n",
       "[\\sigma_23],\n",
       "[\\sigma_13],\n",
       "[\\sigma_12]])"
      ]
     },
     "metadata": {},
     "output_type": "display_data"
    },
    {
     "data": {
      "text/latex": [
       "$\\displaystyle \\left[\\begin{matrix}\\sigma_{11} & \\sigma_{12} & \\sigma_{13}\\\\\\sigma_{12} & \\sigma_{22} & \\sigma_{23}\\\\\\sigma_{13} & \\sigma_{23} & \\sigma_{33}\\end{matrix}\\right]$"
      ],
      "text/plain": [
       "Matrix([\n",
       "[\\sigma_11, \\sigma_12, \\sigma_13],\n",
       "[\\sigma_12, \\sigma_22, \\sigma_23],\n",
       "[\\sigma_13, \\sigma_23, \\sigma_33]])"
      ]
     },
     "metadata": {},
     "output_type": "display_data"
    }
   ],
   "source": [
    "sigma = SymbolicStressTensor.create(r\"\\sigma\")\n",
    "display(sigma)\n",
    "display(sigma.data)\n",
    "display(sigma.to_general().data)"
   ]
  },
  {
   "cell_type": "code",
   "execution_count": 11,
   "metadata": {},
   "outputs": [
    {
     "data": {
      "text/latex": [
       "$\\displaystyle \\left[\\begin{matrix}\\sigma_{1}\\\\\\sigma_{1}\\\\\\sigma_{1}\\\\0\\\\0\\\\0\\end{matrix}\\right]$"
      ],
      "text/plain": [
       "Matrix([\n",
       "[sigma_1],\n",
       "[sigma_1],\n",
       "[sigma_1],\n",
       "[      0],\n",
       "[      0],\n",
       "[      0]])"
      ]
     },
     "metadata": {},
     "output_type": "display_data"
    },
    {
     "data": {
      "text/latex": [
       "$\\displaystyle 0$"
      ],
      "text/plain": [
       "0"
      ]
     },
     "metadata": {},
     "output_type": "display_data"
    }
   ],
   "source": [
    "sigma = SymbolicStressTensor.from_list([\"sigma_1\", \"sigma_1\", \"sigma_1\", 0, 0, 0])\n",
    "display(sigma.data)\n",
    "display(sigma.tresca())"
   ]
  },
  {
   "cell_type": "code",
   "execution_count": 12,
   "metadata": {},
   "outputs": [
    {
     "data": {
      "text/latex": [
       "$\\displaystyle \\left[\\begin{matrix}\\sigma_{1}\\\\\\sigma_{2}\\\\\\sigma_{3}\\\\0\\\\0\\\\0\\end{matrix}\\right]$"
      ],
      "text/plain": [
       "Matrix([\n",
       "[sigma_1],\n",
       "[sigma_2],\n",
       "[sigma_3],\n",
       "[      0],\n",
       "[      0],\n",
       "[      0]])"
      ]
     },
     "metadata": {},
     "output_type": "display_data"
    },
    {
     "data": {
      "text/latex": [
       "$\\displaystyle \\max\\left(\\left|{\\sigma_{1} - \\sigma_{2}}\\right|, \\left|{\\sigma_{1} - \\sigma_{3}}\\right|, \\left|{\\sigma_{2} - \\sigma_{3}}\\right|\\right)$"
      ],
      "text/plain": [
       "Max(Abs(sigma_1 - sigma_2), Abs(sigma_1 - sigma_3), Abs(sigma_2 - sigma_3))"
      ]
     },
     "metadata": {},
     "output_type": "display_data"
    }
   ],
   "source": [
    "sigma = SymbolicStressTensor.from_list([\"sigma_1\", \"sigma_2\", \"sigma_3\", 0, 0, 0])\n",
    "display(sigma.data)\n",
    "display(sigma.tresca())"
   ]
  },
  {
   "cell_type": "code",
   "execution_count": 13,
   "metadata": {},
   "outputs": [
    {
     "data": {
      "text/latex": [
       "$\\displaystyle \\left[\\begin{matrix}0\\\\0\\\\0\\\\\\sigma_{23}\\\\\\sigma_{13}\\\\0\\end{matrix}\\right]$"
      ],
      "text/plain": [
       "Matrix([\n",
       "[       0],\n",
       "[       0],\n",
       "[       0],\n",
       "[sigma_23],\n",
       "[sigma_13],\n",
       "[       0]])"
      ]
     },
     "metadata": {},
     "output_type": "display_data"
    },
    {
     "data": {
      "text/latex": [
       "$\\displaystyle 2 \\left|{\\sqrt{\\sigma_{13}^{2} + \\sigma_{23}^{2}}}\\right|$"
      ],
      "text/plain": [
       "2*Abs(sqrt(sigma_13**2 + sigma_23**2))"
      ]
     },
     "metadata": {},
     "output_type": "display_data"
    }
   ],
   "source": [
    "sigma = SymbolicStressTensor.from_list([0, 0, 0, \"sigma_23\", \"sigma_13\", 0])\n",
    "display(sigma.data)\n",
    "display(sigma.tresca())"
   ]
  },
  {
   "cell_type": "code",
   "execution_count": 14,
   "metadata": {},
   "outputs": [
    {
     "data": {
      "text/latex": [
       "$\\displaystyle \\left[\\begin{matrix}\\sigma_{11}\\\\\\sigma_{22}\\\\\\sigma_{33}\\\\\\sigma_{23}\\\\\\sigma_{13}\\\\\\sigma_{12}\\end{matrix}\\right]$"
      ],
      "text/plain": [
       "Matrix([\n",
       "[\\sigma_11],\n",
       "[\\sigma_22],\n",
       "[\\sigma_33],\n",
       "[\\sigma_23],\n",
       "[\\sigma_13],\n",
       "[\\sigma_12]])"
      ]
     },
     "metadata": {},
     "output_type": "display_data"
    },
    {
     "data": {
      "text/latex": [
       "$\\displaystyle \\sqrt{3 \\sigma_{12}^{2} + 3 \\sigma_{13}^{2} + 3 \\sigma_{23}^{2} + \\frac{\\left(- \\sigma_{11} + \\sigma_{33}\\right)^{2}}{2} + \\frac{\\left(\\sigma_{11} - \\sigma_{22}\\right)^{2}}{2} + \\frac{\\left(\\sigma_{22} - \\sigma_{33}\\right)^{2}}{2}}$"
      ],
      "text/plain": [
       "sqrt(3*\\sigma_12**2 + 3*\\sigma_13**2 + 3*\\sigma_23**2 + (-\\sigma_11 + \\sigma_33)**2/2 + (\\sigma_11 - \\sigma_22)**2/2 + (\\sigma_22 - \\sigma_33)**2/2)"
      ]
     },
     "metadata": {},
     "output_type": "display_data"
    },
    {
     "data": {
      "text/latex": [
       "$\\displaystyle \\sqrt{\\sigma_{11}^{2} - \\sigma_{11} \\sigma_{22} - \\sigma_{11} \\sigma_{33} + 3 \\sigma_{12}^{2} + 3 \\sigma_{13}^{2} + \\sigma_{22}^{2} - \\sigma_{22} \\sigma_{33} + 3 \\sigma_{23}^{2} + \\sigma_{33}^{2}}$"
      ],
      "text/plain": [
       "sqrt(\\sigma_11**2 - \\sigma_11*\\sigma_22 - \\sigma_11*\\sigma_33 + 3*\\sigma_12**2 + 3*\\sigma_13**2 + \\sigma_22**2 - \\sigma_22*\\sigma_33 + 3*\\sigma_23**2 + \\sigma_33**2)"
      ]
     },
     "metadata": {},
     "output_type": "display_data"
    }
   ],
   "source": [
    "sigma = SymbolicStressTensor.create()\n",
    "display(sigma.data)\n",
    "display(sigma.von_mises())\n",
    "display(sigma.von_mises().expand())"
   ]
  },
  {
   "cell_type": "code",
   "execution_count": null,
   "metadata": {},
   "outputs": [],
   "source": []
  }
 ],
 "metadata": {
  "kernelspec": {
   "display_name": "venv",
   "language": "python",
   "name": "python3"
  },
  "language_info": {
   "codemirror_mode": {
    "name": "ipython",
    "version": 3
   },
   "file_extension": ".py",
   "mimetype": "text/x-python",
   "name": "python",
   "nbconvert_exporter": "python",
   "pygments_lexer": "ipython3",
   "version": "3.10.12"
  }
 },
 "nbformat": 4,
 "nbformat_minor": 2
}
