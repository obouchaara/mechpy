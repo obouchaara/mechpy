{
 "cells": [
  {
   "cell_type": "code",
   "execution_count": 1,
   "metadata": {},
   "outputs": [],
   "source": [
    "import sys\n",
    "import numpy as np\n",
    "import sympy as sp\n",
    "\n",
    "sys.path.append(\"../src\")\n",
    "\n",
    "from core.stress import (\n",
    "    StressTensor,\n",
    "    SymbolicStressTensor,\n",
    ")"
   ]
  },
  {
   "cell_type": "code",
   "execution_count": 2,
   "metadata": {},
   "outputs": [
    {
     "data": {
      "text/plain": [
       "SymmetricThreeByThreeTensor(\n",
       "[ 200 -150    0    0    0  100]\n",
       ")"
      ]
     },
     "metadata": {},
     "output_type": "display_data"
    }
   ],
   "source": [
    "sigma = StressTensor.create([200, -150, 0, 0, 0, 100])\n",
    "display(sigma)"
   ]
  },
  {
   "cell_type": "code",
   "execution_count": 3,
   "metadata": {},
   "outputs": [
    {
     "data": {
      "text/plain": [
       "array([ 200, -150,    0])"
      ]
     },
     "metadata": {},
     "output_type": "display_data"
    }
   ],
   "source": [
    "normal_components = sigma.normal_components()\n",
    "display(normal_components)"
   ]
  },
  {
   "cell_type": "code",
   "execution_count": 4,
   "metadata": {},
   "outputs": [
    {
     "data": {
      "text/plain": [
       "array([  0,   0, 100])"
      ]
     },
     "metadata": {},
     "output_type": "display_data"
    }
   ],
   "source": [
    "shear_components = sigma.shear_components()\n",
    "display(shear_components)"
   ]
  },
  {
   "cell_type": "code",
   "execution_count": 5,
   "metadata": {},
   "outputs": [
    {
     "data": {
      "text/plain": [
       "16.666666666666668"
      ]
     },
     "metadata": {},
     "output_type": "display_data"
    }
   ],
   "source": [
    "pressure = sigma.pressure()\n",
    "display(pressure)"
   ]
  },
  {
   "cell_type": "code",
   "execution_count": 6,
   "metadata": {},
   "outputs": [
    {
     "data": {
      "text/plain": [
       "403.11288741492746"
      ]
     },
     "metadata": {},
     "output_type": "display_data"
    }
   ],
   "source": [
    "tresca = sigma.tresca()\n",
    "display(tresca)"
   ]
  },
  {
   "cell_type": "code",
   "execution_count": 7,
   "metadata": {},
   "outputs": [
    {
     "data": {
      "text/plain": [
       "350.0"
      ]
     },
     "metadata": {},
     "output_type": "display_data"
    }
   ],
   "source": [
    "sigma_eq = sigma.von_mises()\n",
    "display(sigma_eq)"
   ]
  },
  {
   "cell_type": "code",
   "execution_count": 8,
   "metadata": {},
   "outputs": [
    {
     "data": {
      "text/latex": [
       "$\\displaystyle \\left[\\begin{matrix}\\sigma_{11}\\\\\\sigma_{22}\\\\\\sigma_{33}\\\\\\sigma_{23}\\\\\\sigma_{13}\\\\\\sigma_{12}\\end{matrix}\\right]$"
      ],
      "text/plain": [
       "Matrix([\n",
       "[sigma_11],\n",
       "[sigma_22],\n",
       "[sigma_33],\n",
       "[sigma_23],\n",
       "[sigma_13],\n",
       "[sigma_12]])"
      ]
     },
     "metadata": {},
     "output_type": "display_data"
    },
    {
     "data": {
      "text/latex": [
       "$\\displaystyle \\left[\\begin{matrix}\\sigma_{11} & \\sigma_{12} & \\sigma_{13}\\\\\\sigma_{12} & \\sigma_{22} & \\sigma_{23}\\\\\\sigma_{13} & \\sigma_{23} & \\sigma_{33}\\end{matrix}\\right]$"
      ],
      "text/plain": [
       "Matrix([\n",
       "[sigma_11, sigma_12, sigma_13],\n",
       "[sigma_12, sigma_22, sigma_23],\n",
       "[sigma_13, sigma_23, sigma_33]])"
      ]
     },
     "metadata": {},
     "output_type": "display_data"
    }
   ],
   "source": [
    "sigma_11, sigma_22, sigma_33, sigma_23, sigma_13, sigma_12 = sp.symbols('sigma_11 sigma_22 sigma_33 sigma_23 sigma_13 sigma_12')\n",
    "sigma = SymbolicStressTensor(sp.Matrix([sigma_11, sigma_22, sigma_33, sigma_23, sigma_13, sigma_12]))\n",
    "display(sigma.data)\n",
    "display(sigma.to_general_tensor().data)"
   ]
  },
  {
   "cell_type": "code",
   "execution_count": 9,
   "metadata": {},
   "outputs": [
    {
     "data": {
      "text/latex": [
       "$\\displaystyle \\left[\\begin{matrix}\\sigma_{11}\\\\\\sigma_{22}\\\\\\sigma_{33}\\\\\\sigma_{23}\\\\\\sigma_{13}\\\\\\sigma_{12}\\end{matrix}\\right]$"
      ],
      "text/plain": [
       "Matrix([\n",
       "[sigma_11],\n",
       "[sigma_22],\n",
       "[sigma_33],\n",
       "[sigma_23],\n",
       "[sigma_13],\n",
       "[sigma_12]])"
      ]
     },
     "metadata": {},
     "output_type": "display_data"
    },
    {
     "data": {
      "text/latex": [
       "$\\displaystyle \\left[\\begin{matrix}\\sigma_{11} & \\sigma_{12} & \\sigma_{13}\\\\\\sigma_{12} & \\sigma_{22} & \\sigma_{23}\\\\\\sigma_{13} & \\sigma_{23} & \\sigma_{33}\\end{matrix}\\right]$"
      ],
      "text/plain": [
       "Matrix([\n",
       "[sigma_11, sigma_12, sigma_13],\n",
       "[sigma_12, sigma_22, sigma_23],\n",
       "[sigma_13, sigma_23, sigma_33]])"
      ]
     },
     "metadata": {},
     "output_type": "display_data"
    }
   ],
   "source": [
    "sigma = SymbolicStressTensor.create()\n",
    "display(sigma.data)\n",
    "display(sigma.to_general_tensor().data)"
   ]
  },
  {
   "cell_type": "code",
   "execution_count": null,
   "metadata": {},
   "outputs": [],
   "source": []
  }
 ],
 "metadata": {
  "kernelspec": {
   "display_name": "venv",
   "language": "python",
   "name": "python3"
  },
  "language_info": {
   "codemirror_mode": {
    "name": "ipython",
    "version": 3
   },
   "file_extension": ".py",
   "mimetype": "text/x-python",
   "name": "python",
   "nbconvert_exporter": "python",
   "pygments_lexer": "ipython3",
   "version": "3.10.12"
  }
 },
 "nbformat": 4,
 "nbformat_minor": 2
}
