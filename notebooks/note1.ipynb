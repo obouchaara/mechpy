{
 "cells": [
  {
   "cell_type": "code",
   "execution_count": 1,
   "metadata": {},
   "outputs": [
    {
     "data": {
      "text/latex": [
       "$\\displaystyle f{\\left(x,y \\right)}$"
      ],
      "text/plain": [
       "f(x, y)"
      ]
     },
     "metadata": {},
     "output_type": "display_data"
    }
   ],
   "source": [
    "import sympy as sp\n",
    "\n",
    "x, y = sp.symbols(\"x y\")\n",
    "f = sp.Function('f')(x, y)\n",
    "display(f)"
   ]
  },
  {
   "cell_type": "code",
   "execution_count": 2,
   "metadata": {},
   "outputs": [
    {
     "data": {
      "text/latex": [
       "$\\displaystyle M$"
      ],
      "text/plain": [
       "M"
      ]
     },
     "metadata": {},
     "output_type": "display_data"
    },
    {
     "data": {
      "text/latex": [
       "$\\displaystyle \\left[\\begin{array}{ccc}M_{0, 0} & M_{0, 1} & M_{0, 2}\\\\M_{1, 0} & M_{1, 1} & M_{1, 2}\\\\M_{2, 0} & M_{2, 1} & M_{2, 2}\\end{array}\\right]$"
      ],
      "text/plain": [
       "Matrix([\n",
       "[M[0, 0], M[0, 1], M[0, 2]],\n",
       "[M[1, 0], M[1, 1], M[1, 2]],\n",
       "[M[2, 0], M[2, 1], M[2, 2]]])"
      ]
     },
     "execution_count": 2,
     "metadata": {},
     "output_type": "execute_result"
    }
   ],
   "source": [
    "M = sp.MatrixSymbol('M', 3, 3)\n",
    "display(M)\n",
    "sp.Matrix(M)"
   ]
  },
  {
   "cell_type": "code",
   "execution_count": 4,
   "metadata": {},
   "outputs": [
    {
     "data": {
      "text/latex": [
       "$\\displaystyle \\left[\\begin{matrix}M_{0, 0} & M_{0, 1} & M_{0, 2}\\\\M_{0, 1} & M_{1, 1} & M_{1, 2}\\\\M_{0, 2} & M_{1, 2} & M_{2, 2}\\end{matrix}\\right]$"
      ],
      "text/plain": [
       "Matrix([\n",
       "[M[0, 0], M[0, 1], M[0, 2]],\n",
       "[M[0, 1], M[1, 1], M[1, 2]],\n",
       "[M[0, 2], M[1, 2], M[2, 2]]])"
      ]
     },
     "metadata": {},
     "output_type": "display_data"
    },
    {
     "data": {
      "text/latex": [
       "$\\displaystyle \\left[\\begin{matrix}M_{0, 0} & M_{0, 1} & M_{0, 2}\\\\M_{0, 1} & M_{1, 1} & M_{1, 2}\\\\M_{0, 2} & M_{1, 2} & M_{2, 2}\\end{matrix}\\right]$"
      ],
      "text/plain": [
       "Matrix([\n",
       "[M[0, 0], M[0, 1], M[0, 2]],\n",
       "[M[0, 1], M[1, 1], M[1, 2]],\n",
       "[M[0, 2], M[1, 2], M[2, 2]]])"
      ]
     },
     "execution_count": 4,
     "metadata": {},
     "output_type": "execute_result"
    }
   ],
   "source": [
    "M_symmetric = sp.Matrix([\n",
    "    [M[0, 0], M[0, 1], M[0, 2]],\n",
    "    [M[0, 1], M[1, 1], M[1, 2]],\n",
    "    [M[0, 2], M[1, 2], M[2, 2]]\n",
    "])\n",
    "display(M_symmetric)\n",
    "sp.Matrix(M_symmetric)"
   ]
  }
 ],
 "metadata": {
  "kernelspec": {
   "display_name": "Python 3 (ipykernel)",
   "language": "python",
   "name": "python3"
  },
  "language_info": {
   "codemirror_mode": {
    "name": "ipython",
    "version": 3
   },
   "file_extension": ".py",
   "mimetype": "text/x-python",
   "name": "python",
   "nbconvert_exporter": "python",
   "pygments_lexer": "ipython3",
   "version": "3.10.8"
  }
 },
 "nbformat": 4,
 "nbformat_minor": 2
}
