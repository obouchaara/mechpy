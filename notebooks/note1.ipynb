{
 "cells": [
  {
   "cell_type": "code",
   "execution_count": 1,
   "metadata": {},
   "outputs": [
    {
     "data": {
      "text/latex": [
       "$\\displaystyle f{\\left(x,y \\right)}$"
      ],
      "text/plain": [
       "f(x, y)"
      ]
     },
     "metadata": {},
     "output_type": "display_data"
    }
   ],
   "source": [
    "import sys\n",
    "import sympy as sp\n",
    "\n",
    "sys.path.append('/home/omar/mechpy/src')\n",
    "\n",
    "x, y = sp.symbols(\"x y\")\n",
    "f = sp.Function('f')(x, y)\n",
    "display(f)"
   ]
  },
  {
   "cell_type": "code",
   "execution_count": 2,
   "metadata": {},
   "outputs": [
    {
     "name": "stdout",
     "output_type": "stream",
     "text": [
      "<class 'sympy.matrices.expressions.matexpr.MatrixSymbol'>\n"
     ]
    },
    {
     "data": {
      "text/latex": [
       "$\\displaystyle M$"
      ],
      "text/plain": [
       "M"
      ]
     },
     "metadata": {},
     "output_type": "display_data"
    },
    {
     "data": {
      "text/latex": [
       "$\\displaystyle \\left[\\begin{array}{ccc}M_{0, 0} & M_{0, 1} & M_{0, 2}\\\\M_{1, 0} & M_{1, 1} & M_{1, 2}\\\\M_{2, 0} & M_{2, 1} & M_{2, 2}\\end{array}\\right]$"
      ],
      "text/plain": [
       "Matrix([\n",
       "[M[0, 0], M[0, 1], M[0, 2]],\n",
       "[M[1, 0], M[1, 1], M[1, 2]],\n",
       "[M[2, 0], M[2, 1], M[2, 2]]])"
      ]
     },
     "execution_count": 2,
     "metadata": {},
     "output_type": "execute_result"
    }
   ],
   "source": [
    "M = sp.MatrixSymbol('M', 3, 3)\n",
    "print(type(M))\n",
    "display(M)\n",
    "sp.Matrix(M)"
   ]
  },
  {
   "cell_type": "code",
   "execution_count": 3,
   "metadata": {},
   "outputs": [
    {
     "data": {
      "text/latex": [
       "$\\displaystyle \\left[\\begin{matrix}M_{0, 0} & M_{0, 1} & M_{0, 2}\\\\M_{0, 1} & M_{1, 1} & M_{1, 2}\\\\M_{0, 2} & M_{1, 2} & M_{2, 2}\\end{matrix}\\right]$"
      ],
      "text/plain": [
       "Matrix([\n",
       "[M[0, 0], M[0, 1], M[0, 2]],\n",
       "[M[0, 1], M[1, 1], M[1, 2]],\n",
       "[M[0, 2], M[1, 2], M[2, 2]]])"
      ]
     },
     "metadata": {},
     "output_type": "display_data"
    },
    {
     "data": {
      "text/latex": [
       "$\\displaystyle \\left[\\begin{matrix}M_{0, 0} & M_{0, 1} & M_{0, 2}\\\\M_{0, 1} & M_{1, 1} & M_{1, 2}\\\\M_{0, 2} & M_{1, 2} & M_{2, 2}\\end{matrix}\\right]$"
      ],
      "text/plain": [
       "Matrix([\n",
       "[M[0, 0], M[0, 1], M[0, 2]],\n",
       "[M[0, 1], M[1, 1], M[1, 2]],\n",
       "[M[0, 2], M[1, 2], M[2, 2]]])"
      ]
     },
     "execution_count": 3,
     "metadata": {},
     "output_type": "execute_result"
    }
   ],
   "source": [
    "M_symmetric = sp.Matrix([\n",
    "    [M[0, 0], M[0, 1], M[0, 2]],\n",
    "    [M[0, 1], M[1, 1], M[1, 2]],\n",
    "    [M[0, 2], M[1, 2], M[2, 2]]\n",
    "])\n",
    "display(M_symmetric)\n",
    "sp.Matrix(M_symmetric)"
   ]
  },
  {
   "cell_type": "code",
   "execution_count": 4,
   "metadata": {},
   "outputs": [
    {
     "data": {
      "text/latex": [
       "$\\displaystyle \\left[\\begin{matrix}M_{0, 0} & M_{0, 1} & M_{0, 2} & M_{0, 3} & M_{0, 4} & M_{0, 5}\\\\M_{0, 1} & M_{1, 1} & M_{1, 2} & M_{1, 3} & M_{1, 4} & M_{1, 5}\\\\M_{0, 2} & M_{1, 2} & M_{2, 2} & M_{2, 3} & M_{2, 4} & M_{2, 5}\\\\M_{0, 3} & M_{1, 3} & M_{2, 3} & M_{3, 3} & M_{3, 4} & M_{3, 5}\\\\M_{0, 4} & M_{1, 4} & M_{2, 4} & M_{3, 4} & M_{4, 4} & M_{4, 5}\\\\M_{0, 5} & M_{1, 5} & M_{2, 5} & M_{3, 5} & M_{4, 5} & M_{5, 5}\\end{matrix}\\right]$"
      ],
      "text/plain": [
       "Matrix([\n",
       "[M[0, 0], M[0, 1], M[0, 2], M[0, 3], M[0, 4], M[0, 5]],\n",
       "[M[0, 1], M[1, 1], M[1, 2], M[1, 3], M[1, 4], M[1, 5]],\n",
       "[M[0, 2], M[1, 2], M[2, 2], M[2, 3], M[2, 4], M[2, 5]],\n",
       "[M[0, 3], M[1, 3], M[2, 3], M[3, 3], M[3, 4], M[3, 5]],\n",
       "[M[0, 4], M[1, 4], M[2, 4], M[3, 4], M[4, 4], M[4, 5]],\n",
       "[M[0, 5], M[1, 5], M[2, 5], M[3, 5], M[4, 5], M[5, 5]]])"
      ]
     },
     "metadata": {},
     "output_type": "display_data"
    }
   ],
   "source": [
    "from utils.matrix import sym_matrix_symbol\n",
    "display(sym_matrix_symbol(6))\n",
    "\n"
   ]
  },
  {
   "cell_type": "code",
   "execution_count": null,
   "metadata": {},
   "outputs": [],
   "source": []
  }
 ],
 "metadata": {
  "kernelspec": {
   "display_name": "Python 3 (ipykernel)",
   "language": "python",
   "name": "python3"
  },
  "language_info": {
   "codemirror_mode": {
    "name": "ipython",
    "version": 3
   },
   "file_extension": ".py",
   "mimetype": "text/x-python",
   "name": "python",
   "nbconvert_exporter": "python",
   "pygments_lexer": "ipython3",
   "version": "3.10.12"
  }
 },
 "nbformat": 4,
 "nbformat_minor": 2
}
