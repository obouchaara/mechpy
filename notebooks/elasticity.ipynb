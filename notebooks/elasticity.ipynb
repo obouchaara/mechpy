{
 "cells": [
  {
   "cell_type": "code",
   "execution_count": 1,
   "metadata": {},
   "outputs": [],
   "source": [
    "import sys\n",
    "import numpy as np\n",
    "import sympy as sp\n",
    "\n",
    "sys.path.append(\"../src\")\n",
    "\n",
    "from core.numeric.material import IsotropicMaterial\n",
    "from core.numeric.displacement import Displacement\n",
    "from core.numeric.strain import StrainTensor\n",
    "from core.numeric.elasticity import LinearElasticity\n",
    "\n",
    "np.set_printoptions(formatter={\"float\": \"{:0.2e}\".format})"
   ]
  },
  {
   "cell_type": "code",
   "execution_count": 2,
   "metadata": {},
   "outputs": [
    {
     "data": {
      "text/plain": [
       "IsotropicMaterial(210000000000.0, 0.3)"
      ]
     },
     "metadata": {},
     "output_type": "display_data"
    },
    {
     "data": {
      "text/plain": [
       "ComplianceTensor(\n",
       "[[3.19e+11 1.58e+11 1.58e+11 0.00e+00 0.00e+00 0.00e+00]\n",
       " [1.58e+11 3.19e+11 1.58e+11 0.00e+00 0.00e+00 0.00e+00]\n",
       " [1.58e+11 1.58e+11 3.19e+11 0.00e+00 0.00e+00 0.00e+00]\n",
       " [0.00e+00 0.00e+00 0.00e+00 8.08e+10 0.00e+00 0.00e+00]\n",
       " [0.00e+00 0.00e+00 0.00e+00 0.00e+00 8.08e+10 0.00e+00]\n",
       " [0.00e+00 0.00e+00 0.00e+00 0.00e+00 0.00e+00 8.08e+10]]\n",
       ")"
      ]
     },
     "metadata": {},
     "output_type": "display_data"
    },
    {
     "data": {
      "text/plain": [
       "StrainTensor(\n",
       "[[1.00e-03]\n",
       " [0.00e+00]\n",
       " [0.00e+00]\n",
       " [0.00e+00]\n",
       " [0.00e+00]\n",
       " [0.00e+00]]\n",
       ")"
      ]
     },
     "metadata": {},
     "output_type": "display_data"
    },
    {
     "data": {
      "text/plain": [
       "StressTensor(\n",
       "[[3.19e+08]\n",
       " [1.58e+08]\n",
       " [1.58e+08]\n",
       " [0.00e+00]\n",
       " [0.00e+00]\n",
       " [0.00e+00]]\n",
       ")"
      ]
     },
     "metadata": {},
     "output_type": "display_data"
    },
    {
     "data": {
      "text/plain": [
       "StrainTensor(\n",
       "[[1.07e-03]\n",
       " [6.92e-05]\n",
       " [6.92e-05]\n",
       " [0.00e+00]\n",
       " [0.00e+00]\n",
       " [0.00e+00]]\n",
       ")"
      ]
     },
     "metadata": {},
     "output_type": "display_data"
    }
   ],
   "source": [
    "isotropic_material = IsotropicMaterial(210e9, 0.3)\n",
    "display(isotropic_material)\n",
    "compliance_tensor = isotropic_material.compliance_tensor()\n",
    "display(compliance_tensor)\n",
    "strain_tensor = StrainTensor.from_list([0.001, 0, 0, 0, 0, 0])\n",
    "display(strain_tensor)\n",
    "stress_tensor = LinearElasticity.hookes_law(compliance_tensor, strain_tensor)\n",
    "display(stress_tensor)\n",
    "stiffness_tensor = isotropic_material.stiffness_tensor()\n",
    "strain_tensor = LinearElasticity.hookes_law_inverse(stiffness_tensor, stress_tensor)\n",
    "display(strain_tensor)\n",
    "\n"
   ]
  },
  {
   "cell_type": "code",
   "execution_count": 3,
   "metadata": {},
   "outputs": [
    {
     "data": {
      "text/plain": [
       "(3, 3, 3, 3)"
      ]
     },
     "metadata": {},
     "output_type": "display_data"
    },
    {
     "data": {
      "text/plain": [
       "array([[[[0.00e+00, 0.00e+00, 0.00e+00],\n",
       "         [5.00e-01, 1.50e+00, 1.00e+00],\n",
       "         [1.00e+00, 3.00e+00, 2.00e+00]],\n",
       "\n",
       "        [[1.00e+00, 5.00e-01, 1.50e+00],\n",
       "         [1.50e+00, 2.00e+00, 2.50e+00],\n",
       "         [2.00e+00, 3.50e+00, 3.50e+00]],\n",
       "\n",
       "        [[2.00e+00, 1.00e+00, 3.00e+00],\n",
       "         [2.50e+00, 2.50e+00, 4.00e+00],\n",
       "         [3.00e+00, 4.00e+00, 5.00e+00]]],\n",
       "\n",
       "\n",
       "       [[[5.00e-01, 1.00e+00, 5.00e-01],\n",
       "         [1.00e+00, 2.50e+00, 1.50e+00],\n",
       "         [1.50e+00, 4.00e+00, 2.50e+00]],\n",
       "\n",
       "        [[1.50e+00, 1.50e+00, 2.00e+00],\n",
       "         [2.00e+00, 3.00e+00, 3.00e+00],\n",
       "         [2.50e+00, 4.50e+00, 4.00e+00]],\n",
       "\n",
       "        [[2.50e+00, 2.00e+00, 3.50e+00],\n",
       "         [3.00e+00, 3.50e+00, 4.50e+00],\n",
       "         [3.50e+00, 5.00e+00, 5.50e+00]]],\n",
       "\n",
       "\n",
       "       [[[1.00e+00, 2.00e+00, 1.00e+00],\n",
       "         [1.50e+00, 3.50e+00, 2.00e+00],\n",
       "         [2.00e+00, 5.00e+00, 3.00e+00]],\n",
       "\n",
       "        [[2.00e+00, 2.50e+00, 2.50e+00],\n",
       "         [2.50e+00, 4.00e+00, 3.50e+00],\n",
       "         [3.00e+00, 5.50e+00, 4.50e+00]],\n",
       "\n",
       "        [[3.00e+00, 3.00e+00, 4.00e+00],\n",
       "         [3.50e+00, 4.50e+00, 5.00e+00],\n",
       "         [4.00e+00, 6.00e+00, 6.00e+00]]]])"
      ]
     },
     "metadata": {},
     "output_type": "display_data"
    }
   ],
   "source": [
    "# Define the grid size\n",
    "nx, ny, nz = 3, 3, 3  # Grid size for x, y, and z directions\n",
    "x = np.linspace(0, 1, nx)\n",
    "y = np.linspace(0, 1, ny)\n",
    "z = np.linspace(0, 1, nz)\n",
    "xx, yy, zz = np.meshgrid(x, y, z, indexing='ij')\n",
    "\n",
    "# Define the displacement field\n",
    "u = xx + 2 * yy + zz\n",
    "v = 2 * xx + yy + 3 * zz\n",
    "w = xx + 3 * yy + 2 * zz\n",
    "\n",
    "# Stack the displacement components to form a 3D vector field\n",
    "displacement_field = np.stack((u, v, w), axis=-1)\n",
    "display(displacement_field.data.shape)\n",
    "display(displacement_field)"
   ]
  },
  {
   "cell_type": "code",
   "execution_count": null,
   "metadata": {},
   "outputs": [],
   "source": []
  }
 ],
 "metadata": {
  "kernelspec": {
   "display_name": "venv",
   "language": "python",
   "name": "python3"
  },
  "language_info": {
   "codemirror_mode": {
    "name": "ipython",
    "version": 3
   },
   "file_extension": ".py",
   "mimetype": "text/x-python",
   "name": "python",
   "nbconvert_exporter": "python",
   "pygments_lexer": "ipython3",
   "version": "3.10.12"
  }
 },
 "nbformat": 4,
 "nbformat_minor": 2
}
