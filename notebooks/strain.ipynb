{
 "cells": [
  {
   "cell_type": "code",
   "execution_count": 1,
   "metadata": {},
   "outputs": [],
   "source": [
    "import sys\n",
    "import numpy as np\n",
    "import sympy as sp\n",
    "\n",
    "sys.path.append(\"../src\")\n",
    "\n",
    "from core.numeric.strain import (\n",
    "    StrainTensor,\n",
    ")\n",
    "\n",
    "from core.symbolic.strain import (\n",
    "    SymbolicStrainTensor,\n",
    ")"
   ]
  },
  {
   "cell_type": "code",
   "execution_count": 2,
   "metadata": {},
   "outputs": [
    {
     "name": "stdout",
     "output_type": "stream",
     "text": [
      "(6, 1)\n"
     ]
    },
    {
     "data": {
      "text/plain": [
       "StrainTensor(\n",
       "[[ 200]\n",
       " [-150]\n",
       " [   0]\n",
       " [   0]\n",
       " [   0]\n",
       " [ 100]]\n",
       ")"
      ]
     },
     "metadata": {},
     "output_type": "display_data"
    },
    {
     "data": {
      "text/plain": [
       "ThreeByThreeTensor(\n",
       "[[ 200  100    0]\n",
       " [ 100 -150    0]\n",
       " [   0    0    0]]\n",
       ")"
      ]
     },
     "metadata": {},
     "output_type": "display_data"
    }
   ],
   "source": [
    "epsilon = StrainTensor.from_list([200, -150, 0, 0, 0, 100])\n",
    "display(epsilon)\n",
    "display(epsilon.to_general_tensor())"
   ]
  },
  {
   "cell_type": "code",
   "execution_count": 3,
   "metadata": {},
   "outputs": [
    {
     "data": {
      "text/plain": [
       "array([[ 200],\n",
       "       [-150],\n",
       "       [   0]])"
      ]
     },
     "metadata": {},
     "output_type": "display_data"
    }
   ],
   "source": [
    "normal_components = epsilon.normal_components()\n",
    "display(normal_components)"
   ]
  },
  {
   "cell_type": "code",
   "execution_count": 4,
   "metadata": {},
   "outputs": [
    {
     "data": {
      "text/plain": [
       "array([[  0],\n",
       "       [  0],\n",
       "       [100]])"
      ]
     },
     "metadata": {},
     "output_type": "display_data"
    }
   ],
   "source": [
    "shear_components = epsilon.shear_components()\n",
    "display(shear_components)"
   ]
  },
  {
   "cell_type": "code",
   "execution_count": 5,
   "metadata": {},
   "outputs": [
    {
     "data": {
      "text/latex": [
       "$\\displaystyle \\left[\\begin{matrix}\\epsilon_{11}\\\\\\epsilon_{22}\\\\\\epsilon_{33}\\\\\\epsilon_{23}\\\\\\epsilon_{13}\\\\\\epsilon_{12}\\end{matrix}\\right]$"
      ],
      "text/plain": [
       "Matrix([\n",
       "[epsilon_11],\n",
       "[epsilon_22],\n",
       "[epsilon_33],\n",
       "[epsilon_23],\n",
       "[epsilon_13],\n",
       "[epsilon_12]])"
      ]
     },
     "metadata": {},
     "output_type": "display_data"
    },
    {
     "data": {
      "text/latex": [
       "$\\displaystyle \\left[\\begin{matrix}\\epsilon_{11} & \\epsilon_{12} & \\epsilon_{13}\\\\\\epsilon_{12} & \\epsilon_{22} & \\epsilon_{23}\\\\\\epsilon_{13} & \\epsilon_{23} & \\epsilon_{33}\\end{matrix}\\right]$"
      ],
      "text/plain": [
       "Matrix([\n",
       "[epsilon_11, epsilon_12, epsilon_13],\n",
       "[epsilon_12, epsilon_22, epsilon_23],\n",
       "[epsilon_13, epsilon_23, epsilon_33]])"
      ]
     },
     "metadata": {},
     "output_type": "display_data"
    }
   ],
   "source": [
    "epsilon_11, epsilon_22, epsilon_33, epsilon_23, epsilon_13, epsilon_12 = sp.symbols('epsilon_11 epsilon_22 epsilon_33 epsilon_23 epsilon_13 epsilon_12')\n",
    "epsilon = SymbolicStrainTensor(sp.Matrix([epsilon_11, epsilon_22, epsilon_33, epsilon_23, epsilon_13, epsilon_12]))\n",
    "display(epsilon.data)\n",
    "display(epsilon.to_general_tensor().data)"
   ]
  },
  {
   "cell_type": "code",
   "execution_count": 6,
   "metadata": {},
   "outputs": [
    {
     "data": {
      "text/latex": [
       "$\\displaystyle \\left[\\begin{matrix}\\epsilon_{11}\\\\\\epsilon_{22}\\\\\\epsilon_{33}\\\\\\epsilon_{23}\\\\\\epsilon_{13}\\\\\\epsilon_{12}\\end{matrix}\\right]$"
      ],
      "text/plain": [
       "Matrix([\n",
       "[epsilon_11],\n",
       "[epsilon_22],\n",
       "[epsilon_33],\n",
       "[epsilon_23],\n",
       "[epsilon_13],\n",
       "[epsilon_12]])"
      ]
     },
     "metadata": {},
     "output_type": "display_data"
    },
    {
     "data": {
      "text/latex": [
       "$\\displaystyle \\left[\\begin{matrix}\\epsilon_{11} & \\epsilon_{12} & \\epsilon_{13}\\\\\\epsilon_{12} & \\epsilon_{22} & \\epsilon_{23}\\\\\\epsilon_{13} & \\epsilon_{23} & \\epsilon_{33}\\end{matrix}\\right]$"
      ],
      "text/plain": [
       "Matrix([\n",
       "[epsilon_11, epsilon_12, epsilon_13],\n",
       "[epsilon_12, epsilon_22, epsilon_23],\n",
       "[epsilon_13, epsilon_23, epsilon_33]])"
      ]
     },
     "metadata": {},
     "output_type": "display_data"
    }
   ],
   "source": [
    "epsilon = SymbolicStrainTensor.create()\n",
    "display(epsilon.data)\n",
    "display(epsilon.to_general_tensor().data)"
   ]
  },
  {
   "cell_type": "code",
   "execution_count": null,
   "metadata": {},
   "outputs": [],
   "source": []
  }
 ],
 "metadata": {
  "kernelspec": {
   "display_name": "venv",
   "language": "python",
   "name": "python3"
  },
  "language_info": {
   "codemirror_mode": {
    "name": "ipython",
    "version": 3
   },
   "file_extension": ".py",
   "mimetype": "text/x-python",
   "name": "python",
   "nbconvert_exporter": "python",
   "pygments_lexer": "ipython3",
   "version": "3.10.12"
  }
 },
 "nbformat": 4,
 "nbformat_minor": 2
}
