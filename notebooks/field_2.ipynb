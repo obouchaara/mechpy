{
 "cells": [
  {
   "cell_type": "code",
   "execution_count": 1,
   "metadata": {},
   "outputs": [],
   "source": [
    "%matplotlib widget\n",
    "\n",
    "import sys\n",
    "import numpy as np\n",
    "import sympy as sp\n",
    "import ipywidgets as widgets\n",
    "\n",
    "sys.path.append(\"../src\")\n",
    "\n",
    "from core.symbolic.coord import SymbolicCartesianCoordSystem, SymbolicCylindricalCoordSystem, SymbolicSphericalCoordSystem\n",
    "from core.symbolic.field import SymbolicScalarField, SymbolicVectorField, SymbolicTensorField"
   ]
  },
  {
   "cell_type": "code",
   "execution_count": 2,
   "metadata": {},
   "outputs": [
    {
     "data": {
      "text/plain": [
       "SymbolicScalarField(\n",
       "f(x, y, z)\n",
       ")"
      ]
     },
     "metadata": {},
     "output_type": "display_data"
    }
   ],
   "source": [
    "scalar_field = SymbolicScalarField.create()\n",
    "display(scalar_field)"
   ]
  },
  {
   "cell_type": "code",
   "execution_count": 3,
   "metadata": {},
   "outputs": [
    {
     "data": {
      "text/plain": [
       "SymbolicScalarField(\n",
       "f(r, theta, z)\n",
       ")"
      ]
     },
     "metadata": {},
     "output_type": "display_data"
    }
   ],
   "source": [
    "coord_system = SymbolicCylindricalCoordSystem()\n",
    "scalar_field = SymbolicScalarField.create(coord_system)\n",
    "display(scalar_field)"
   ]
  },
  {
   "cell_type": "code",
   "execution_count": 4,
   "metadata": {},
   "outputs": [
    {
     "data": {
      "text/plain": [
       "SymbolicScalarField(\n",
       "f(r, theta, phi)\n",
       ")"
      ]
     },
     "metadata": {},
     "output_type": "display_data"
    }
   ],
   "source": [
    "coord_system = SymbolicSphericalCoordSystem()\n",
    "scalar_field = SymbolicScalarField.create(coord_system)\n",
    "display(scalar_field)"
   ]
  },
  {
   "cell_type": "code",
   "execution_count": 5,
   "metadata": {},
   "outputs": [
    {
     "data": {
      "text/plain": [
       "SymbolicScalarField(\n",
       "r + 2*theta + 3*z\n",
       ")"
      ]
     },
     "metadata": {},
     "output_type": "display_data"
    }
   ],
   "source": [
    "\n",
    "data = sp.Array([1, 2, 3])\n",
    "linear_scalar_field = SymbolicScalarField.create_linear(data)\n",
    "display(linear_scalar_field)"
   ]
  },
  {
   "cell_type": "code",
   "execution_count": 7,
   "metadata": {},
   "outputs": [
    {
     "data": {
      "text/plain": [
       "SymbolicScalarField(\n",
       "r + 2*theta + 3*z\n",
       ")"
      ]
     },
     "metadata": {},
     "output_type": "display_data"
    }
   ],
   "source": [
    "coord_system = SymbolicCylindricalCoordSystem()\n",
    "data = sp.Array([1, 2, 3])\n",
    "linear_scalar_field = SymbolicScalarField.create_linear(data, coord_system)\n",
    "display(linear_scalar_field)"
   ]
  },
  {
   "cell_type": "code",
   "execution_count": 8,
   "metadata": {},
   "outputs": [
    {
     "data": {
      "text/plain": [
       "SymbolicScalarField(\n",
       "3*phi + r + 2*theta\n",
       ")"
      ]
     },
     "metadata": {},
     "output_type": "display_data"
    }
   ],
   "source": [
    "coord_system = SymbolicSphericalCoordSystem()\n",
    "data = sp.Array([1, 2, 3])\n",
    "linear_scalar_field = SymbolicScalarField.create_linear(data, coord_system)\n",
    "display(linear_scalar_field)"
   ]
  },
  {
   "cell_type": "code",
   "execution_count": null,
   "metadata": {},
   "outputs": [],
   "source": []
  }
 ],
 "metadata": {
  "kernelspec": {
   "display_name": "venv",
   "language": "python",
   "name": "python3"
  },
  "language_info": {
   "codemirror_mode": {
    "name": "ipython",
    "version": 3
   },
   "file_extension": ".py",
   "mimetype": "text/x-python",
   "name": "python",
   "nbconvert_exporter": "python",
   "pygments_lexer": "ipython3",
   "version": "3.10.12"
  }
 },
 "nbformat": 4,
 "nbformat_minor": 2
}
