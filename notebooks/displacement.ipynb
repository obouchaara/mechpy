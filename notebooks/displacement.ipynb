{
 "cells": [
  {
   "cell_type": "code",
   "execution_count": 1,
   "metadata": {},
   "outputs": [],
   "source": [
    "import sys\n",
    "import numpy as np\n",
    "import sympy as sp\n",
    "\n",
    "sys.path.append(\"../src\")\n",
    "\n",
    "from core.symbolic.displacement import SymbolicDisplacement"
   ]
  },
  {
   "cell_type": "code",
   "execution_count": 2,
   "metadata": {},
   "outputs": [
    {
     "data": {
      "text/latex": [
       "$\\displaystyle \\left[\\begin{matrix}x + 2 y + 3 z & 4 x + 5 y + 6 z & 7 x + 8 y + 9 z\\end{matrix}\\right]$"
      ],
      "text/plain": [
       "[x + 2*y + 3*z, 4*x + 5*y + 6*z, 7*x + 8*y + 9*z]"
      ]
     },
     "metadata": {},
     "output_type": "display_data"
    }
   ],
   "source": [
    "data = sp.Array([[1, 2, 3], [4, 5, 6], [7, 8, 9]])\n",
    "displacement_field = SymbolicDisplacement.create_linear(data)\n",
    "display(displacement_field.data)"
   ]
  },
  {
   "cell_type": "code",
   "execution_count": 3,
   "metadata": {},
   "outputs": [
    {
     "data": {
      "text/latex": [
       "$\\displaystyle \\left[\\begin{matrix}1 & 3 & 5\\\\3 & 5 & 7\\\\5 & 7 & 9\\end{matrix}\\right]$"
      ],
      "text/plain": [
       "Matrix([\n",
       "[1, 3, 5],\n",
       "[3, 5, 7],\n",
       "[5, 7, 9]])"
      ]
     },
     "metadata": {},
     "output_type": "display_data"
    }
   ],
   "source": [
    "x, y, z = sp.symbols(\"x y z\")\n",
    "u, v, w = displacement_field.data\n",
    "\n",
    "epsilon_xx = sp.diff(u, x)\n",
    "epsilon_yy = sp.diff(v, y)\n",
    "epsilon_zz = sp.diff(w, z)\n",
    "epsilon_xy = (sp.diff(u, y) + sp.diff(v, x)) / 2\n",
    "epsilon_yz = (sp.diff(v, z) + sp.diff(w, y)) / 2\n",
    "epsilon_zx = (sp.diff(w, x) + sp.diff(u, z)) / 2\n",
    "\n",
    "strain_tensor = sp.Matrix([[epsilon_xx, epsilon_xy, epsilon_zx],\n",
    "                           [epsilon_xy, epsilon_yy, epsilon_yz],\n",
    "                           [epsilon_zx, epsilon_yz, epsilon_zz]])\n",
    "\n",
    "display(strain_tensor)"
   ]
  },
  {
   "cell_type": "code",
   "execution_count": null,
   "metadata": {},
   "outputs": [],
   "source": []
  }
 ],
 "metadata": {
  "kernelspec": {
   "display_name": "venv",
   "language": "python",
   "name": "python3"
  },
  "language_info": {
   "codemirror_mode": {
    "name": "ipython",
    "version": 3
   },
   "file_extension": ".py",
   "mimetype": "text/x-python",
   "name": "python",
   "nbconvert_exporter": "python",
   "pygments_lexer": "ipython3",
   "version": "3.10.12"
  }
 },
 "nbformat": 4,
 "nbformat_minor": 2
}
