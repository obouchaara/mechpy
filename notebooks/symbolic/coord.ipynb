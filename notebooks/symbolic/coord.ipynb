{
 "cells": [
  {
   "cell_type": "markdown",
   "metadata": {},
   "source": [
    "# Symbolic Coord System Notebook"
   ]
  },
  {
   "cell_type": "code",
   "execution_count": 1,
   "metadata": {},
   "outputs": [],
   "source": [
    "import sympy as sp\n",
    "\n",
    "from mechpy.core.symbolic.coord import SymbolicCartesianCoordSystem, SymbolicCylindricalCoordSystem, SymbolicSphericalCoordSystem"
   ]
  },
  {
   "cell_type": "markdown",
   "metadata": {},
   "source": [
    "## Cartesian Coord System"
   ]
  },
  {
   "cell_type": "code",
   "execution_count": 2,
   "metadata": {},
   "outputs": [
    {
     "data": {
      "text/plain": [
       "SymbolicCartesianCoordSystem(origin=(0, 0, 0), basis_symbols=(x, y, z))"
      ]
     },
     "metadata": {},
     "output_type": "display_data"
    },
    {
     "data": {
      "text/plain": [
       "(x, y, z)"
      ]
     },
     "metadata": {},
     "output_type": "display_data"
    }
   ],
   "source": [
    "cartesian_system = SymbolicCartesianCoordSystem()\n",
    "display(cartesian_system)\n",
    "x1, x2, x3 = cartesian_system.basis_symbols\n",
    "display((x1, x2, x3))"
   ]
  },
  {
   "cell_type": "markdown",
   "metadata": {},
   "source": [
    "## Cylindrical Coord System"
   ]
  },
  {
   "cell_type": "code",
   "execution_count": 3,
   "metadata": {},
   "outputs": [
    {
     "data": {
      "text/plain": [
       "SymbolicCylindricalCoordSystem(origin=(0, 0, 0), basis_symbols=(r, theta, z))"
      ]
     },
     "metadata": {},
     "output_type": "display_data"
    },
    {
     "data": {
      "text/plain": [
       "(r, theta, z)"
      ]
     },
     "metadata": {},
     "output_type": "display_data"
    }
   ],
   "source": [
    "cylindrical_system = SymbolicCylindricalCoordSystem()\n",
    "display(cylindrical_system)\n",
    "x1, x2, x3 = cylindrical_system.basis_symbols\n",
    "display((x1, x2, x3))"
   ]
  },
  {
   "cell_type": "markdown",
   "metadata": {},
   "source": [
    "## Cartesian/Cylindrical Conversion"
   ]
  },
  {
   "cell_type": "code",
   "execution_count": 4,
   "metadata": {},
   "outputs": [
    {
     "data": {
      "text/plain": [
       "SymbolicCartesianCoordSystem(origin=(0, 0, 0), basis_symbols=[sqrt(x**2 + y**2), atan2(y, x), z])"
      ]
     },
     "metadata": {},
     "output_type": "display_data"
    },
    {
     "data": {
      "text/latex": [
       "$\\displaystyle \\left[\\begin{matrix}\\sqrt{x^{2} + y^{2}} & \\operatorname{atan}_{2}{\\left(y,x \\right)} & z\\end{matrix}\\right]$"
      ],
      "text/plain": [
       "[sqrt(x**2 + y**2), atan2(y, x), z]"
      ]
     },
     "metadata": {},
     "output_type": "display_data"
    }
   ],
   "source": [
    "symbolic_cylindrical_system = SymbolicCylindricalCoordSystem()\n",
    "new_coord_system = symbolic_cylindrical_system.to_cartesian()\n",
    "display(new_coord_system)\n",
    "display(new_coord_system.basis_symbols)"
   ]
  },
  {
   "cell_type": "code",
   "execution_count": 5,
   "metadata": {},
   "outputs": [
    {
     "data": {
      "text/plain": [
       "SymbolicCylindricalCoordSystem(origin=(0, 0, 0), basis_symbols=[sqrt(x**2 + y**2), atan2(y, x), z])"
      ]
     },
     "metadata": {},
     "output_type": "display_data"
    },
    {
     "data": {
      "text/latex": [
       "$\\displaystyle \\left[\\begin{matrix}\\sqrt{x^{2} + y^{2}} & \\operatorname{atan}_{2}{\\left(y,x \\right)} & z\\end{matrix}\\right]$"
      ],
      "text/plain": [
       "[sqrt(x**2 + y**2), atan2(y, x), z]"
      ]
     },
     "metadata": {},
     "output_type": "display_data"
    }
   ],
   "source": [
    "symbolic_cartesian_system = SymbolicCartesianCoordSystem()\n",
    "new_coord_system = symbolic_cartesian_system.to_cylindrical()\n",
    "display(new_coord_system)\n",
    "display(new_coord_system.basis_symbols)"
   ]
  },
  {
   "cell_type": "code",
   "execution_count": 6,
   "metadata": {},
   "outputs": [
    {
     "data": {
      "text/latex": [
       "$\\displaystyle \\left[\\begin{matrix}\\sqrt{x^{2} + y^{2}} & \\operatorname{atan}_{2}{\\left(y,x \\right)} & 1\\end{matrix}\\right]$"
      ],
      "text/plain": [
       "[sqrt(x**2 + y**2), atan2(y, x), 1]"
      ]
     },
     "metadata": {},
     "output_type": "display_data"
    }
   ],
   "source": [
    "cylindrical_coord = [2, sp.pi/3, 1]\n",
    "symbolic_cylindrical_system = SymbolicCylindricalCoordSystem()\n",
    "cartesian_coord = symbolic_cylindrical_system.get_cartesian_coords(cylindrical_coord)\n",
    "display(cartesian_coord)"
   ]
  },
  {
   "cell_type": "code",
   "execution_count": 7,
   "metadata": {},
   "outputs": [
    {
     "data": {
      "text/latex": [
       "$\\displaystyle \\left[\\begin{matrix}1 & \\frac{\\pi}{2} & 1\\end{matrix}\\right]$"
      ],
      "text/plain": [
       "[1, pi/2, 1]"
      ]
     },
     "metadata": {},
     "output_type": "display_data"
    }
   ],
   "source": [
    "cartesian_coord = [0, 1, 1]\n",
    "symbolic_cartesian_system = SymbolicCartesianCoordSystem()\n",
    "cylindrical_coord = symbolic_cartesian_system.get_cylindrical_coord(cartesian_coord)\n",
    "display(cylindrical_coord)"
   ]
  },
  {
   "cell_type": "markdown",
   "metadata": {},
   "source": [
    "### using params"
   ]
  },
  {
   "cell_type": "code",
   "execution_count": 8,
   "metadata": {},
   "outputs": [
    {
     "data": {
      "text/latex": [
       "$\\displaystyle \\left[\\begin{matrix}\\sqrt{x^{2} + y^{2}} & \\operatorname{atan}_{2}{\\left(y,x \\right)} & b\\end{matrix}\\right]$"
      ],
      "text/plain": [
       "[sqrt(x**2 + y**2), atan2(y, x), b]"
      ]
     },
     "metadata": {},
     "output_type": "display_data"
    }
   ],
   "source": [
    "a, b = sp.symbols(\"a b\", positive=True)\n",
    "cylindrical_coord = [a, sp.pi/3, b]\n",
    "symbolic_cylindrical_system = SymbolicCylindricalCoordSystem()\n",
    "cartesian_coord = symbolic_cylindrical_system.get_cartesian_coords(cylindrical_coord)\n",
    "display(cartesian_coord)"
   ]
  },
  {
   "cell_type": "markdown",
   "metadata": {},
   "source": [
    "Evaluation"
   ]
  },
  {
   "cell_type": "code",
   "execution_count": 9,
   "metadata": {},
   "outputs": [
    {
     "data": {
      "text/latex": [
       "$\\displaystyle \\left[\\begin{matrix}\\sqrt{x^{2} + y^{2}} & \\operatorname{atan}_{2}{\\left(y,x \\right)} & b\\end{matrix}\\right]$"
      ],
      "text/plain": [
       "[sqrt(x**2 + y**2), atan2(y, x), b]"
      ]
     },
     "metadata": {},
     "output_type": "display_data"
    },
    {
     "data": {
      "text/latex": [
       "$\\displaystyle \\left[\\begin{matrix}\\sqrt{x^{2} + y^{2}} & \\operatorname{atan}_{2}{\\left(y,x \\right)} & 5\\end{matrix}\\right]$"
      ],
      "text/plain": [
       "[sqrt(x**2 + y**2), atan2(y, x), 5]"
      ]
     },
     "metadata": {},
     "output_type": "display_data"
    },
    {
     "data": {
      "text/latex": [
       "$\\displaystyle \\left[\\begin{matrix}\\left(x^{2} + y^{2}\\right)^{0.5} & \\operatorname{atan}_{2}{\\left(y,x \\right)} & 5.0\\end{matrix}\\right]$"
      ],
      "text/plain": [
       "[(x**2 + y**2)**0.5, atan2(y, x), 5.0]"
      ]
     },
     "metadata": {},
     "output_type": "display_data"
    }
   ],
   "source": [
    "display(cartesian_coord)\n",
    "cartesian_coord= cartesian_coord.subs({a: 3, b: 5})\n",
    "display(cartesian_coord)\n",
    "cartesian_coord = cartesian_coord.applyfunc(lambda x: x.evalf())\n",
    "display(cartesian_coord)"
   ]
  },
  {
   "cell_type": "code",
   "execution_count": 10,
   "metadata": {},
   "outputs": [
    {
     "data": {
      "text/latex": [
       "$\\displaystyle \\left[\\begin{matrix}a & \\frac{\\pi}{2} & b\\end{matrix}\\right]$"
      ],
      "text/plain": [
       "[a, pi/2, b]"
      ]
     },
     "metadata": {},
     "output_type": "display_data"
    }
   ],
   "source": [
    "a, b = sp.symbols(\"a b\", positive=True)\n",
    "cartesian_coord = [0, a, b]\n",
    "symbolic_cartesian_system = SymbolicCartesianCoordSystem()\n",
    "cylindrical_coord = symbolic_cartesian_system.get_cylindrical_coord(cartesian_coord)\n",
    "display(cylindrical_coord)"
   ]
  },
  {
   "cell_type": "markdown",
   "metadata": {},
   "source": [
    "Evaluation"
   ]
  },
  {
   "cell_type": "code",
   "execution_count": 11,
   "metadata": {},
   "outputs": [
    {
     "data": {
      "text/latex": [
       "$\\displaystyle \\left[\\begin{matrix}a & \\frac{\\pi}{2} & b\\end{matrix}\\right]$"
      ],
      "text/plain": [
       "[a, pi/2, b]"
      ]
     },
     "metadata": {},
     "output_type": "display_data"
    },
    {
     "data": {
      "text/latex": [
       "$\\displaystyle \\left[\\begin{matrix}3 & \\frac{\\pi}{2} & 5\\end{matrix}\\right]$"
      ],
      "text/plain": [
       "[3, pi/2, 5]"
      ]
     },
     "metadata": {},
     "output_type": "display_data"
    },
    {
     "data": {
      "text/latex": [
       "$\\displaystyle \\left[\\begin{matrix}3.0 & 1.5707963267949 & 5.0\\end{matrix}\\right]$"
      ],
      "text/plain": [
       "[3.0, 1.5707963267949, 5.0]"
      ]
     },
     "metadata": {},
     "output_type": "display_data"
    }
   ],
   "source": [
    "display(cylindrical_coord)\n",
    "cylindrical_coord = cylindrical_coord.subs({a: 3, b: 5})\n",
    "display(cylindrical_coord)\n",
    "cylindrical_coord = cylindrical_coord.applyfunc(lambda x: x.evalf())\n",
    "display(cylindrical_coord)"
   ]
  }
 ],
 "metadata": {
  "kernelspec": {
   "display_name": "venv",
   "language": "python",
   "name": "python3"
  },
  "language_info": {
   "codemirror_mode": {
    "name": "ipython",
    "version": 3
   },
   "file_extension": ".py",
   "mimetype": "text/x-python",
   "name": "python",
   "nbconvert_exporter": "python",
   "pygments_lexer": "ipython3",
   "version": "3.10.12"
  }
 },
 "nbformat": 4,
 "nbformat_minor": 2
}
