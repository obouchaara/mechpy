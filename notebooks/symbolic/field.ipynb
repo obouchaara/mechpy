{
 "cells": [
  {
   "cell_type": "markdown",
   "metadata": {},
   "source": [
    "# Symbolic Field Notebook"
   ]
  },
  {
   "cell_type": "code",
   "execution_count": 1,
   "metadata": {},
   "outputs": [],
   "source": [
    "%matplotlib widget\n",
    "\n",
    "import sympy as sp\n",
    "\n",
    "from mechpy.core.symbolic.coord import (\n",
    "    SymbolicCartesianCoordSystem,\n",
    "    SymbolicCylindricalCoordSystem,\n",
    ")\n",
    "\n",
    "from mechpy.core.symbolic.field import (\n",
    "    SymbolicScalarField,\n",
    "    SymbolicVectorField,\n",
    "    SymbolicTensorField,\n",
    ")"
   ]
  },
  {
   "cell_type": "markdown",
   "metadata": {},
   "source": [
    "## Symbolic Field"
   ]
  },
  {
   "cell_type": "markdown",
   "metadata": {},
   "source": [
    "### Linear Scalar Field"
   ]
  },
  {
   "cell_type": "code",
   "execution_count": 2,
   "metadata": {},
   "outputs": [
    {
     "data": {
      "text/latex": [
       "$\\displaystyle x + 2 y + 3 z$"
      ],
      "text/plain": [
       "x + 2*y + 3*z"
      ]
     },
     "metadata": {},
     "output_type": "display_data"
    }
   ],
   "source": [
    "data = sp.Array([1, 2, 3])\n",
    "scalar_field = SymbolicScalarField.create_linear(data)\n",
    "display(scalar_field.data)"
   ]
  },
  {
   "cell_type": "code",
   "execution_count": 3,
   "metadata": {},
   "outputs": [],
   "source": [
    "scalar_field.plot()"
   ]
  },
  {
   "cell_type": "markdown",
   "metadata": {},
   "source": [
    "### Non Linear Scalar Field"
   ]
  },
  {
   "cell_type": "code",
   "execution_count": 4,
   "metadata": {},
   "outputs": [
    {
     "data": {
      "text/plain": [
       "SymbolicCartesianCoordSystem(origin=(0, 0, 0), basis_symbols=(x, y, z))"
      ]
     },
     "metadata": {},
     "output_type": "display_data"
    }
   ],
   "source": [
    "coord_system = SymbolicCartesianCoordSystem()\n",
    "display(coord_system)"
   ]
  },
  {
   "cell_type": "code",
   "execution_count": 5,
   "metadata": {},
   "outputs": [
    {
     "data": {
      "text/latex": [
       "$\\displaystyle x^{2} - y^{2}$"
      ],
      "text/plain": [
       "x**2 - y**2"
      ]
     },
     "metadata": {},
     "output_type": "display_data"
    }
   ],
   "source": [
    "x1, x2, x3 = coord_system.basis_symbols\n",
    "f = x1*x1 - x2*x2\n",
    "display(f)"
   ]
  },
  {
   "cell_type": "code",
   "execution_count": 6,
   "metadata": {},
   "outputs": [
    {
     "data": {
      "text/plain": [
       "SymbolicScalarField(\n",
       "x**2 - y**2,\n",
       "(x, y, z),\n",
       "{})"
      ]
     },
     "metadata": {},
     "output_type": "display_data"
    }
   ],
   "source": [
    "scalar_field = SymbolicScalarField.create(f, coord_system)\n",
    "display(scalar_field)"
   ]
  },
  {
   "cell_type": "code",
   "execution_count": 7,
   "metadata": {},
   "outputs": [],
   "source": [
    "scalar_field.plot()"
   ]
  },
  {
   "cell_type": "markdown",
   "metadata": {},
   "source": [
    "---"
   ]
  },
  {
   "cell_type": "code",
   "execution_count": 8,
   "metadata": {},
   "outputs": [
    {
     "data": {
      "text/plain": [
       "SymbolicCylindricalCoordSystem(origin=(0, 0, 0), basis_symbols=(r, theta, z))"
      ]
     },
     "metadata": {},
     "output_type": "display_data"
    }
   ],
   "source": [
    "coord_system = SymbolicCylindricalCoordSystem()\n",
    "display(coord_system)"
   ]
  },
  {
   "cell_type": "code",
   "execution_count": 9,
   "metadata": {},
   "outputs": [
    {
     "data": {
      "text/latex": [
       "$\\displaystyle r + z^{2}$"
      ],
      "text/plain": [
       "r + z**2"
      ]
     },
     "metadata": {},
     "output_type": "display_data"
    }
   ],
   "source": [
    "x1, x2, x3 = coord_system.basis_symbols\n",
    "f = x1 + x3*x3\n",
    "display(f)"
   ]
  },
  {
   "cell_type": "code",
   "execution_count": 10,
   "metadata": {},
   "outputs": [
    {
     "data": {
      "text/plain": [
       "SymbolicScalarField(\n",
       "r + z**2,\n",
       "(r, theta, z),\n",
       "{})"
      ]
     },
     "metadata": {},
     "output_type": "display_data"
    }
   ],
   "source": [
    "scalar_field = SymbolicScalarField.create(f, coord_system)\n",
    "display(scalar_field)"
   ]
  },
  {
   "cell_type": "code",
   "execution_count": 11,
   "metadata": {},
   "outputs": [],
   "source": [
    "scalar_field = scalar_field.to_cartesian()\n",
    "scalar_field.plot()"
   ]
  },
  {
   "cell_type": "markdown",
   "metadata": {},
   "source": [
    "### Linear Vector Field"
   ]
  },
  {
   "cell_type": "code",
   "execution_count": 12,
   "metadata": {},
   "outputs": [
    {
     "data": {
      "text/latex": [
       "$\\displaystyle \\left[\\begin{matrix}x + 2 y + 3 z & 4 x + 5 y + 6 z & 7 x + 8 y + 9 z\\end{matrix}\\right]$"
      ],
      "text/plain": [
       "[x + 2*y + 3*z, 4*x + 5*y + 6*z, 7*x + 8*y + 9*z]"
      ]
     },
     "metadata": {},
     "output_type": "display_data"
    }
   ],
   "source": [
    "data = sp.Array([[1, 2, 3], [4, 5, 6], [7, 8, 9]])\n",
    "vector_field = SymbolicVectorField.create_linear(data)\n",
    "display(vector_field.data)"
   ]
  },
  {
   "cell_type": "code",
   "execution_count": 13,
   "metadata": {},
   "outputs": [],
   "source": [
    "vector_field.plot()"
   ]
  },
  {
   "cell_type": "markdown",
   "metadata": {},
   "source": [
    "### Linear Tensor Field"
   ]
  },
  {
   "cell_type": "code",
   "execution_count": 14,
   "metadata": {},
   "outputs": [
    {
     "data": {
      "text/latex": [
       "$\\displaystyle \\left( 3, \\  3, \\  3\\right)$"
      ],
      "text/plain": [
       "(3, 3, 3)"
      ]
     },
     "metadata": {},
     "output_type": "display_data"
    },
    {
     "data": {
      "text/latex": [
       "$\\displaystyle \\left[\\begin{matrix}x + 2 y + 3 z & 4 x + 5 y + 6 z & 7 x + 8 y + 9 z\\\\11 x + 12 y + 13 z & 14 x + 15 y + 16 z & 17 x + 18 y + 19 z\\\\21 x + 22 y + 23 z & 24 x + 25 y + 26 z & 27 x + 28 y + 29 z\\end{matrix}\\right]$"
      ],
      "text/plain": [
       "[[x + 2*y + 3*z, 4*x + 5*y + 6*z, 7*x + 8*y + 9*z], [11*x + 12*y + 13*z, 14*x + 15*y + 16*z, 17*x + 18*y + 19*z], [21*x + 22*y + 23*z, 24*x + 25*y + 26*z, 27*x + 28*y + 29*z]]"
      ]
     },
     "metadata": {},
     "output_type": "display_data"
    }
   ],
   "source": [
    "data = sp.Array(\n",
    "    [\n",
    "        [[1, 2, 3], [4, 5, 6], [7, 8, 9]],\n",
    "        [[11, 12, 13], [14, 15, 16], [17, 18, 19]],\n",
    "        [[21, 22, 23], [24, 25, 26], [27, 28, 29]],\n",
    "    ]\n",
    ")\n",
    "display(data.shape)\n",
    "tensor_field = SymbolicTensorField.create_linear(data)\n",
    "display(tensor_field.data)"
   ]
  },
  {
   "cell_type": "markdown",
   "metadata": {},
   "source": [
    "### Field with params"
   ]
  },
  {
   "cell_type": "code",
   "execution_count": 15,
   "metadata": {},
   "outputs": [
    {
     "data": {
      "text/plain": [
       "SymbolicScalarField(\n",
       "-2*m*y + n*x,\n",
       "(x, y, z),\n",
       "(n, m))"
      ]
     },
     "metadata": {},
     "output_type": "display_data"
    },
    {
     "ename": "AttributeError",
     "evalue": "'tuple' object has no attribute 'remove'",
     "output_type": "error",
     "traceback": [
      "\u001b[0;31m---------------------------------------------------------------------------\u001b[0m",
      "\u001b[0;31mAttributeError\u001b[0m                            Traceback (most recent call last)",
      "Cell \u001b[0;32mIn[15], line 6\u001b[0m\n\u001b[1;32m      4\u001b[0m linear_scalar_field \u001b[38;5;241m=\u001b[39m SymbolicScalarField\u001b[38;5;241m.\u001b[39mcreate_linear(data, field_params\u001b[38;5;241m=\u001b[39mfield_params)\n\u001b[1;32m      5\u001b[0m display(linear_scalar_field)\n\u001b[0;32m----> 6\u001b[0m \u001b[43mlinear_scalar_field\u001b[49m\u001b[38;5;241;43m.\u001b[39;49m\u001b[43msubs_field_params\u001b[49m\u001b[43m(\u001b[49m\u001b[43m{\u001b[49m\u001b[43mn\u001b[49m\u001b[43m:\u001b[49m\u001b[43m \u001b[49m\u001b[38;5;241;43m3\u001b[39;49m\u001b[43m}\u001b[49m\u001b[43m)\u001b[49m\n\u001b[1;32m      7\u001b[0m linear_scalar_field\u001b[38;5;241m.\u001b[39msubs_field_params({m: \u001b[38;5;241m0\u001b[39m})\n\u001b[1;32m      8\u001b[0m linear_scalar_field\u001b[38;5;241m.\u001b[39mplot()\n",
      "File \u001b[0;32m~/mechpy/src/mechpy/core/symbolic/field.py:104\u001b[0m, in \u001b[0;36mSymbolicField.subs_field_params\u001b[0;34m(self, param_values)\u001b[0m\n\u001b[1;32m    102\u001b[0m \u001b[38;5;28;01mif\u001b[39;00m param \u001b[38;5;129;01min\u001b[39;00m \u001b[38;5;28mself\u001b[39m\u001b[38;5;241m.\u001b[39mfield_params:\n\u001b[1;32m    103\u001b[0m     \u001b[38;5;28mself\u001b[39m\u001b[38;5;241m.\u001b[39mdata \u001b[38;5;241m=\u001b[39m \u001b[38;5;28mself\u001b[39m\u001b[38;5;241m.\u001b[39mdata\u001b[38;5;241m.\u001b[39msubs(param, value)\n\u001b[0;32m--> 104\u001b[0m     \u001b[38;5;28;43mself\u001b[39;49m\u001b[38;5;241;43m.\u001b[39;49m\u001b[43mfield_params\u001b[49m\u001b[38;5;241;43m.\u001b[39;49m\u001b[43mremove\u001b[49m(param)\n\u001b[1;32m    105\u001b[0m \u001b[38;5;28;01melse\u001b[39;00m:\n\u001b[1;32m    106\u001b[0m     \u001b[38;5;28;01mraise\u001b[39;00m \u001b[38;5;167;01mValueError\u001b[39;00m(\u001b[38;5;124mf\u001b[39m\u001b[38;5;124m\"\u001b[39m\u001b[38;5;124mParameter \u001b[39m\u001b[38;5;132;01m{\u001b[39;00mparam\u001b[38;5;132;01m}\u001b[39;00m\u001b[38;5;124m not found in field parameters\u001b[39m\u001b[38;5;124m\"\u001b[39m)\n",
      "\u001b[0;31mAttributeError\u001b[0m: 'tuple' object has no attribute 'remove'"
     ]
    }
   ],
   "source": [
    "field_params = sp.symbols(\"n m\")\n",
    "n, m = field_params\n",
    "data = sp.Array([1*n, -2*m, 0])\n",
    "linear_scalar_field = SymbolicScalarField.create_linear(data, field_params=field_params)\n",
    "display(linear_scalar_field)\n",
    "linear_scalar_field.subs_field_params({n: 3})\n",
    "linear_scalar_field.subs_field_params({m: 0})\n",
    "linear_scalar_field.plot()"
   ]
  }
 ],
 "metadata": {
  "kernelspec": {
   "display_name": "Python 3 (ipykernel)",
   "language": "python",
   "name": "python3"
  },
  "language_info": {
   "codemirror_mode": {
    "name": "ipython",
    "version": 3
   },
   "file_extension": ".py",
   "mimetype": "text/x-python",
   "name": "python",
   "nbconvert_exporter": "python",
   "pygments_lexer": "ipython3",
   "version": "3.10.12"
  }
 },
 "nbformat": 4,
 "nbformat_minor": 4
}
