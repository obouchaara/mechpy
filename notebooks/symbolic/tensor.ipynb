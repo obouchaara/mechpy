{
 "cells": [
  {
   "cell_type": "markdown",
   "metadata": {},
   "source": [
    "# Symbolic Tensor Notebook"
   ]
  },
  {
   "cell_type": "code",
   "execution_count": 1,
   "metadata": {},
   "outputs": [],
   "source": [
    "import sympy as sp\n",
    "\n",
    "from mechpy.core.symbolic.tensor import (\n",
    "    SymbolicTensor,\n",
    "    SymbolicThreeByThreeTensor,\n",
    "    SymbolicSymmetricThreeByThreeTensor,\n",
    "    SymbolicSixBySixTensor,\n",
    ")"
   ]
  },
  {
   "cell_type": "markdown",
   "metadata": {},
   "source": [
    "## Symbolic Tensor"
   ]
  },
  {
   "cell_type": "code",
   "execution_count": 2,
   "metadata": {},
   "outputs": [],
   "source": [
    "a, b, c, d, e, f, g, h, i = sp.symbols(\"a b c d e f g h i\")"
   ]
  },
  {
   "cell_type": "markdown",
   "metadata": {},
   "source": [
    "### Init Method"
   ]
  },
  {
   "cell_type": "code",
   "execution_count": 3,
   "metadata": {},
   "outputs": [
    {
     "data": {
      "text/plain": [
       "SymbolicTensor(\n",
       "[[a, b], [c, d]]\n",
       ")"
      ]
     },
     "metadata": {},
     "output_type": "display_data"
    },
    {
     "data": {
      "text/latex": [
       "$\\displaystyle \\left[\\begin{matrix}a & b\\\\c & d\\end{matrix}\\right]$"
      ],
      "text/plain": [
       "[[a, b], [c, d]]"
      ]
     },
     "metadata": {},
     "output_type": "display_data"
    }
   ],
   "source": [
    "data = sp.ImmutableDenseNDimArray([[a, b], [c, d]])\n",
    "A = SymbolicTensor(data)\n",
    "display(A)\n",
    "display(A.data)"
   ]
  },
  {
   "cell_type": "markdown",
   "metadata": {},
   "source": [
    "### From List method"
   ]
  },
  {
   "cell_type": "markdown",
   "metadata": {},
   "source": [
    "#### Symbolic Tensor"
   ]
  },
  {
   "cell_type": "code",
   "execution_count": 4,
   "metadata": {},
   "outputs": [
    {
     "data": {
      "text/plain": [
       "SymbolicTensor(\n",
       "[[a, b], [c, d]]\n",
       ")"
      ]
     },
     "metadata": {},
     "output_type": "display_data"
    },
    {
     "data": {
      "text/latex": [
       "$\\displaystyle \\left[\\begin{matrix}a & b\\\\c & d\\end{matrix}\\right]$"
      ],
      "text/plain": [
       "[[a, b], [c, d]]"
      ]
     },
     "metadata": {},
     "output_type": "display_data"
    },
    {
     "data": {
      "text/plain": [
       "SymbolicTensor(\n",
       "[[a, b, c], [d, e, f], [g, h, i]]\n",
       ")"
      ]
     },
     "metadata": {},
     "output_type": "display_data"
    },
    {
     "data": {
      "text/latex": [
       "$\\displaystyle \\left[\\begin{matrix}a & b & c\\\\d & e & f\\\\g & h & i\\end{matrix}\\right]$"
      ],
      "text/plain": [
       "[[a, b, c], [d, e, f], [g, h, i]]"
      ]
     },
     "metadata": {},
     "output_type": "display_data"
    }
   ],
   "source": [
    "A = SymbolicTensor.from_list([a, b, c, d], shape=(2, 2))\n",
    "display(A)\n",
    "display(A.data)\n",
    "B = SymbolicTensor.from_list([a, b, c, d, e, f, g, h, i], shape=(3, 3))\n",
    "display(B)\n",
    "display(B.data)"
   ]
  },
  {
   "cell_type": "markdown",
   "metadata": {},
   "source": [
    "#### Symbolic 3x3 Tensor"
   ]
  },
  {
   "cell_type": "code",
   "execution_count": 5,
   "metadata": {},
   "outputs": [
    {
     "data": {
      "text/plain": [
       "SymbolicThreeByThreeTensor(\n",
       "[[a, b, c], [d, e, f], [g, h, i]]\n",
       ")"
      ]
     },
     "metadata": {},
     "output_type": "display_data"
    },
    {
     "data": {
      "text/latex": [
       "$\\displaystyle \\left[\\begin{matrix}a & b & c\\\\d & e & f\\\\g & h & i\\end{matrix}\\right]$"
      ],
      "text/plain": [
       "[[a, b, c], [d, e, f], [g, h, i]]"
      ]
     },
     "metadata": {},
     "output_type": "display_data"
    }
   ],
   "source": [
    "C = SymbolicThreeByThreeTensor.from_list([a, b, c, d, e, f, g, h, i])\n",
    "display(C)\n",
    "display(C.data)"
   ]
  },
  {
   "cell_type": "markdown",
   "metadata": {},
   "source": [
    "#### Symbolic Symmetric 3x3 Tensor"
   ]
  },
  {
   "cell_type": "code",
   "execution_count": 6,
   "metadata": {},
   "outputs": [],
   "source": [
    "list_mode1 = [a, f, e, f, b, d, e, d, c]\n",
    "list_mode2 = [a, b, c, b, d, e, c, e, f]"
   ]
  },
  {
   "cell_type": "code",
   "execution_count": 7,
   "metadata": {},
   "outputs": [
    {
     "data": {
      "text/latex": [
       "$\\displaystyle \\left[\\begin{matrix}a & b & c & d & e & f\\end{matrix}\\right]$"
      ],
      "text/plain": [
       "[a, b, c, d, e, f]"
      ]
     },
     "metadata": {},
     "output_type": "display_data"
    },
    {
     "data": {
      "text/latex": [
       "$\\displaystyle \\left[\\begin{matrix}a & f & e\\\\f & b & d\\\\e & d & c\\end{matrix}\\right]$"
      ],
      "text/plain": [
       "[[a, f, e], [f, b, d], [e, d, c]]"
      ]
     },
     "metadata": {},
     "output_type": "display_data"
    }
   ],
   "source": [
    "A = SymbolicSymmetricThreeByThreeTensor.from_list(list_mode1)\n",
    "# display(A)\n",
    "display(A.data)\n",
    "B = A.to_general()\n",
    "# display(B)\n",
    "display(B.data)"
   ]
  },
  {
   "cell_type": "code",
   "execution_count": 8,
   "metadata": {},
   "outputs": [
    {
     "data": {
      "text/latex": [
       "$\\displaystyle \\left[\\begin{matrix}a & d & f & e & c & b\\end{matrix}\\right]$"
      ],
      "text/plain": [
       "[a, d, f, e, c, b]"
      ]
     },
     "metadata": {},
     "output_type": "display_data"
    },
    {
     "data": {
      "text/latex": [
       "$\\displaystyle \\left[\\begin{matrix}a & b & c\\\\b & d & e\\\\c & e & f\\end{matrix}\\right]$"
      ],
      "text/plain": [
       "[[a, b, c], [b, d, e], [c, e, f]]"
      ]
     },
     "metadata": {},
     "output_type": "display_data"
    }
   ],
   "source": [
    "A = SymbolicSymmetricThreeByThreeTensor.from_list(list_mode2, mode=1)\n",
    "# display(A)\n",
    "display(A.data)\n",
    "B = A.to_general()\n",
    "# display(B)\n",
    "display(B.data)"
   ]
  },
  {
   "cell_type": "code",
   "execution_count": 9,
   "metadata": {},
   "outputs": [
    {
     "data": {
      "text/latex": [
       "$\\displaystyle \\left[\\begin{matrix}a & b & c & d & e & f\\end{matrix}\\right]$"
      ],
      "text/plain": [
       "[a, b, c, d, e, f]"
      ]
     },
     "metadata": {},
     "output_type": "display_data"
    },
    {
     "data": {
      "text/latex": [
       "$\\displaystyle \\left[\\begin{matrix}a & f & e\\\\f & b & d\\\\e & d & c\\end{matrix}\\right]$"
      ],
      "text/plain": [
       "[[a, f, e], [f, b, d], [e, d, c]]"
      ]
     },
     "metadata": {},
     "output_type": "display_data"
    }
   ],
   "source": [
    "A = SymbolicSymmetricThreeByThreeTensor.from_list(list_mode2, mode=2)\n",
    "# display(A)\n",
    "display(A.data)\n",
    "B = A.to_general()\n",
    "# display(B)\n",
    "display(B.data)"
   ]
  },
  {
   "cell_type": "code",
   "execution_count": 10,
   "metadata": {},
   "outputs": [
    {
     "data": {
      "text/latex": [
       "$\\displaystyle \\left[\\begin{matrix}a & b & c & d & e & f\\end{matrix}\\right]$"
      ],
      "text/plain": [
       "[a, b, c, d, e, f]"
      ]
     },
     "metadata": {},
     "output_type": "display_data"
    },
    {
     "data": {
      "text/latex": [
       "$\\displaystyle \\left[\\begin{matrix}a & f & e\\\\f & b & d\\\\e & d & c\\end{matrix}\\right]$"
      ],
      "text/plain": [
       "[[a, f, e], [f, b, d], [e, d, c]]"
      ]
     },
     "metadata": {},
     "output_type": "display_data"
    }
   ],
   "source": [
    "A = SymbolicSymmetricThreeByThreeTensor.from_list([a, b, c, d, e, f])\n",
    "# display(A)\n",
    "display(A.data)\n",
    "B = A.to_general()\n",
    "# display(B)\n",
    "display(B.data)"
   ]
  },
  {
   "cell_type": "code",
   "execution_count": 11,
   "metadata": {},
   "outputs": [
    {
     "data": {
      "text/latex": [
       "$\\displaystyle \\left[\\begin{matrix}a & d & f & e & c & b\\end{matrix}\\right]$"
      ],
      "text/plain": [
       "[a, d, f, e, c, b]"
      ]
     },
     "metadata": {},
     "output_type": "display_data"
    },
    {
     "data": {
      "text/latex": [
       "$\\displaystyle \\left[\\begin{matrix}a & b & c\\\\b & d & e\\\\c & e & f\\end{matrix}\\right]$"
      ],
      "text/plain": [
       "[[a, b, c], [b, d, e], [c, e, f]]"
      ]
     },
     "metadata": {},
     "output_type": "display_data"
    }
   ],
   "source": [
    "A = SymbolicSymmetricThreeByThreeTensor.from_list([a, b, c, d, e, f], mode=2)\n",
    "# display(A)\n",
    "display(A.data)\n",
    "B = A.to_general()\n",
    "# display(B)\n",
    "display(B.data)"
   ]
  },
  {
   "cell_type": "markdown",
   "metadata": {},
   "source": [
    "#### Symbolic 6x6 Tensor"
   ]
  },
  {
   "cell_type": "code",
   "execution_count": 12,
   "metadata": {},
   "outputs": [
    {
     "data": {
      "text/latex": [
       "$\\displaystyle \\left[\\begin{matrix}1 & 2 & 3 & 4 & 5 & 6\\\\7 & 8 & 9 & 10 & 11 & 12\\\\13 & 14 & 15 & 16 & 17 & 18\\\\19 & 20 & 21 & 22 & 23 & 24\\\\25 & 26 & 27 & 28 & 29 & 30\\\\31 & 32 & 33 & 34 & 35 & 36\\end{matrix}\\right]$"
      ],
      "text/plain": [
       "[[1, 2, 3, 4, 5, 6], [7, 8, 9, 10, 11, 12], [13, 14, 15, 16, 17, 18], [19, 20, 21, 22, 23, 24], [25, 26, 27, 28, 29, 30], [31, 32, 33, 34, 35, 36]]"
      ]
     },
     "metadata": {},
     "output_type": "display_data"
    }
   ],
   "source": [
    "data_list = list(range(1,36+1))\n",
    "# display(data_list)\n",
    "F = SymbolicSixBySixTensor.from_list(data_list)\n",
    "# display(F)\n",
    "display(F.data)"
   ]
  },
  {
   "cell_type": "code",
   "execution_count": 13,
   "metadata": {},
   "outputs": [
    {
     "data": {
      "text/latex": [
       "$\\displaystyle \\left[\\begin{matrix}1 & 2 & 3 & 4 & 5 & 6\\\\7 & 8 & 9 & 10 & 11 & 12\\\\13 & 14 & 15 & 16 & 17 & 18\\\\19 & 20 & 21 & 22 & 23 & 24\\\\25 & 26 & 27 & 28 & 29 & 30\\\\31 & 32 & 33 & 34 & 35 & 36\\end{matrix}\\right]$"
      ],
      "text/plain": [
       "[[1, 2, 3, 4, 5, 6], [7, 8, 9, 10, 11, 12], [13, 14, 15, 16, 17, 18], [19, 20, 21, 22, 23, 24], [25, 26, 27, 28, 29, 30], [31, 32, 33, 34, 35, 36]]"
      ]
     },
     "metadata": {},
     "output_type": "display_data"
    }
   ],
   "source": [
    "data_list = [[i * 6 + j + 1 for j in range(6)] for i in range(6)]\n",
    "# display(data_list)\n",
    "F = SymbolicSixBySixTensor.from_list(data_list)\n",
    "# display(F)\n",
    "display(F.data)"
   ]
  },
  {
   "cell_type": "markdown",
   "metadata": {},
   "source": [
    "### Create Method"
   ]
  },
  {
   "cell_type": "code",
   "execution_count": 14,
   "metadata": {},
   "outputs": [
    {
     "data": {
      "text/plain": [
       "SymbolicTensor(\n",
       "[[x_11, x_12], [x_21, x_22]]\n",
       ")"
      ]
     },
     "metadata": {},
     "output_type": "display_data"
    },
    {
     "data": {
      "text/latex": [
       "$\\displaystyle \\left[\\begin{matrix}x_{11} & x_{12}\\\\x_{21} & x_{22}\\end{matrix}\\right]$"
      ],
      "text/plain": [
       "[[x_11, x_12], [x_21, x_22]]"
      ]
     },
     "metadata": {},
     "output_type": "display_data"
    }
   ],
   "source": [
    "A = SymbolicTensor.create(\"x\", (2, 2))\n",
    "display(A)\n",
    "display(A.data)"
   ]
  },
  {
   "cell_type": "code",
   "execution_count": 15,
   "metadata": {},
   "outputs": [
    {
     "data": {
      "text/plain": [
       "SymbolicThreeByThreeTensor(\n",
       "[[x_11, x_12, x_13], [x_21, x_22, x_23], [x_31, x_32, x_33]]\n",
       ")"
      ]
     },
     "metadata": {},
     "output_type": "display_data"
    },
    {
     "data": {
      "text/latex": [
       "$\\displaystyle \\left[\\begin{matrix}x_{11} & x_{12} & x_{13}\\\\x_{21} & x_{22} & x_{23}\\\\x_{31} & x_{32} & x_{33}\\end{matrix}\\right]$"
      ],
      "text/plain": [
       "[[x_11, x_12, x_13], [x_21, x_22, x_23], [x_31, x_32, x_33]]"
      ]
     },
     "metadata": {},
     "output_type": "display_data"
    }
   ],
   "source": [
    "B = SymbolicThreeByThreeTensor.create(\"x\")\n",
    "display(B)\n",
    "display(B.data)"
   ]
  },
  {
   "cell_type": "code",
   "execution_count": 16,
   "metadata": {},
   "outputs": [
    {
     "data": {
      "text/plain": [
       "SymbolicSixBySixTensor(\n",
       "[[x_11, x_12, x_13, x_14, x_15, x_16], [x_21, x_22, x_23, x_24, x_25, x_26], [x_31, x_32, x_33, x_34, x_35, x_36], [x_41, x_42, x_43, x_44, x_45, x_46], [x_51, x_52, x_53, x_54, x_55, x_56], [x_61, x_62, x_63, x_64, x_65, x_66]]\n",
       ")"
      ]
     },
     "metadata": {},
     "output_type": "display_data"
    },
    {
     "data": {
      "text/latex": [
       "$\\displaystyle \\left[\\begin{matrix}x_{11} & x_{12} & x_{13} & x_{14} & x_{15} & x_{16}\\\\x_{21} & x_{22} & x_{23} & x_{24} & x_{25} & x_{26}\\\\x_{31} & x_{32} & x_{33} & x_{34} & x_{35} & x_{36}\\\\x_{41} & x_{42} & x_{43} & x_{44} & x_{45} & x_{46}\\\\x_{51} & x_{52} & x_{53} & x_{54} & x_{55} & x_{56}\\\\x_{61} & x_{62} & x_{63} & x_{64} & x_{65} & x_{66}\\end{matrix}\\right]$"
      ],
      "text/plain": [
       "[[x_11, x_12, x_13, x_14, x_15, x_16], [x_21, x_22, x_23, x_24, x_25, x_26], [x_31, x_32, x_33, x_34, x_35, x_36], [x_41, x_42, x_43, x_44, x_45, x_46], [x_51, x_52, x_53, x_54, x_55, x_56], [x_61, x_62, x_63, x_64, x_65, x_66]]"
      ]
     },
     "metadata": {},
     "output_type": "display_data"
    }
   ],
   "source": [
    "C = SymbolicSixBySixTensor.create(\"x\")\n",
    "display(C)\n",
    "display(C.data)"
   ]
  },
  {
   "cell_type": "markdown",
   "metadata": {},
   "source": [
    "## Multiplication"
   ]
  },
  {
   "cell_type": "code",
   "execution_count": 17,
   "metadata": {},
   "outputs": [
    {
     "data": {
      "text/plain": [
       "SymbolicTensor(\n",
       "[[a, a*c], [b, b*d]]\n",
       ")"
      ]
     },
     "metadata": {},
     "output_type": "display_data"
    },
    {
     "data": {
      "text/latex": [
       "$\\displaystyle \\left[\\begin{matrix}a & a c\\\\b & b d\\end{matrix}\\right]$"
      ],
      "text/plain": [
       "[[a, a*c], [b, b*d]]"
      ]
     },
     "metadata": {},
     "output_type": "display_data"
    }
   ],
   "source": [
    "A = SymbolicTensor.from_list([a, 0, 0, b], shape=(2, 2))\n",
    "B = SymbolicTensor.from_list([1, c, 1, d], shape=(2, 2))\n",
    "C = A @ B\n",
    "display(C)\n",
    "display(C.data)"
   ]
  },
  {
   "cell_type": "markdown",
   "metadata": {},
   "source": [
    "## Converting"
   ]
  },
  {
   "cell_type": "markdown",
   "metadata": {},
   "source": [
    "### Tensor to 3x3"
   ]
  },
  {
   "cell_type": "code",
   "execution_count": 18,
   "metadata": {},
   "outputs": [
    {
     "data": {
      "text/plain": [
       "SymbolicTensor(\n",
       "[[a, b, c], [b, d, e], [c, e, f]]\n",
       ")"
      ]
     },
     "metadata": {},
     "output_type": "display_data"
    },
    {
     "data": {
      "text/plain": [
       "SymbolicThreeByThreeTensor(\n",
       "[[a, b, c], [b, d, e], [c, e, f]]\n",
       ")"
      ]
     },
     "metadata": {},
     "output_type": "display_data"
    },
    {
     "data": {
      "text/latex": [
       "$\\displaystyle \\left[\\begin{matrix}a & b & c\\\\b & d & e\\\\c & e & f\\end{matrix}\\right]$"
      ],
      "text/plain": [
       "[[a, b, c], [b, d, e], [c, e, f]]"
      ]
     },
     "metadata": {},
     "output_type": "display_data"
    }
   ],
   "source": [
    "A = SymbolicTensor.from_list([a, b, c, b, d, e, c, e, f], shape=(3,3))\n",
    "display(A)\n",
    "B = A.to_3x3()\n",
    "display(B)\n",
    "display(B.data)"
   ]
  },
  {
   "cell_type": "markdown",
   "metadata": {},
   "source": [
    "### General to Symmetric 3x3"
   ]
  },
  {
   "cell_type": "code",
   "execution_count": 19,
   "metadata": {},
   "outputs": [
    {
     "data": {
      "text/plain": [
       "SymbolicTensor(\n",
       "[[a, f, e], [f, b, d], [e, d, c]]\n",
       ")"
      ]
     },
     "metadata": {},
     "output_type": "display_data"
    },
    {
     "data": {
      "text/plain": [
       "True"
      ]
     },
     "metadata": {},
     "output_type": "display_data"
    },
    {
     "data": {
      "text/plain": [
       "SymbolicSymmetricThreeByThreeTensor(\n",
       "[a, b, c, d, e, f]\n",
       ")"
      ]
     },
     "metadata": {},
     "output_type": "display_data"
    },
    {
     "data": {
      "text/latex": [
       "$\\displaystyle \\left[\\begin{matrix}a & b & c & d & e & f\\end{matrix}\\right]$"
      ],
      "text/plain": [
       "[a, b, c, d, e, f]"
      ]
     },
     "metadata": {},
     "output_type": "display_data"
    }
   ],
   "source": [
    "A = SymbolicTensor.from_list([a, f, e, f, b, d, e, d, c], shape=(3,3))\n",
    "display(A)\n",
    "display(A.is_symmetric())\n",
    "B = A.to_sym_3x3()\n",
    "display(B)\n",
    "display(B.data)"
   ]
  },
  {
   "cell_type": "markdown",
   "metadata": {},
   "source": [
    "### 3x3 to Symmetric"
   ]
  },
  {
   "cell_type": "code",
   "execution_count": 20,
   "metadata": {},
   "outputs": [
    {
     "data": {
      "text/plain": [
       "SymbolicThreeByThreeTensor(\n",
       "[[a, b, c], [b, d, e], [c, e, f]]\n",
       ")"
      ]
     },
     "metadata": {},
     "output_type": "display_data"
    },
    {
     "data": {
      "text/latex": [
       "$\\displaystyle \\left[\\begin{matrix}a & b & c\\\\b & d & e\\\\c & e & f\\end{matrix}\\right]$"
      ],
      "text/plain": [
       "[[a, b, c], [b, d, e], [c, e, f]]"
      ]
     },
     "metadata": {},
     "output_type": "display_data"
    },
    {
     "data": {
      "text/plain": [
       "True"
      ]
     },
     "metadata": {},
     "output_type": "display_data"
    },
    {
     "data": {
      "text/plain": [
       "SymbolicSymmetricThreeByThreeTensor(\n",
       "[a, d, f, e, c, b]\n",
       ")"
      ]
     },
     "metadata": {},
     "output_type": "display_data"
    },
    {
     "data": {
      "text/latex": [
       "$\\displaystyle \\left[\\begin{matrix}a & d & f & e & c & b\\end{matrix}\\right]$"
      ],
      "text/plain": [
       "[a, d, f, e, c, b]"
      ]
     },
     "metadata": {},
     "output_type": "display_data"
    }
   ],
   "source": [
    "A = SymbolicThreeByThreeTensor.from_list([a, b, c, b, d, e, c, e, f])\n",
    "display(A)\n",
    "display(A.data)\n",
    "display(A.is_symmetric())\n",
    "B = A.to_symmetric()\n",
    "display(B)\n",
    "display(B.data)"
   ]
  },
  {
   "cell_type": "markdown",
   "metadata": {},
   "source": [
    "### Converting to general"
   ]
  },
  {
   "cell_type": "code",
   "execution_count": 21,
   "metadata": {},
   "outputs": [
    {
     "data": {
      "text/plain": [
       "SymbolicSymmetricThreeByThreeTensor(\n",
       "[a, b, c, d, e, f]\n",
       ")"
      ]
     },
     "metadata": {},
     "output_type": "display_data"
    },
    {
     "data": {
      "text/latex": [
       "$\\displaystyle \\left[\\begin{matrix}a & b & c & d & e & f\\end{matrix}\\right]$"
      ],
      "text/plain": [
       "[a, b, c, d, e, f]"
      ]
     },
     "metadata": {},
     "output_type": "display_data"
    },
    {
     "data": {
      "text/plain": [
       "SymbolicThreeByThreeTensor(\n",
       "[[a, f, e], [f, b, d], [e, d, c]]\n",
       ")"
      ]
     },
     "metadata": {},
     "output_type": "display_data"
    },
    {
     "data": {
      "text/latex": [
       "$\\displaystyle \\left[\\begin{matrix}a & f & e\\\\f & b & d\\\\e & d & c\\end{matrix}\\right]$"
      ],
      "text/plain": [
       "[[a, f, e], [f, b, d], [e, d, c]]"
      ]
     },
     "metadata": {},
     "output_type": "display_data"
    }
   ],
   "source": [
    "A = SymbolicSymmetricThreeByThreeTensor.from_list([a, b, c, d, e, f])\n",
    "display(A)\n",
    "display(A.data)\n",
    "B = A.to_general()\n",
    "display(B)\n",
    "display(B.data)"
   ]
  },
  {
   "cell_type": "markdown",
   "metadata": {},
   "source": [
    "## Getting Tensor Components"
   ]
  },
  {
   "cell_type": "code",
   "execution_count": 22,
   "metadata": {},
   "outputs": [
    {
     "data": {
      "text/plain": [
       "SymbolicTensor(\n",
       "[[a, b], [c, d]]\n",
       ")"
      ]
     },
     "metadata": {},
     "output_type": "display_data"
    },
    {
     "data": {
      "text/latex": [
       "$\\displaystyle \\left[\\begin{matrix}a & b\\\\c & d\\end{matrix}\\right]$"
      ],
      "text/plain": [
       "[[a, b], [c, d]]"
      ]
     },
     "metadata": {},
     "output_type": "display_data"
    }
   ],
   "source": [
    "A = SymbolicTensor.from_list([a, b, c, d], shape=(2, 2))\n",
    "display(A)\n",
    "display(A.data)"
   ]
  },
  {
   "cell_type": "code",
   "execution_count": 23,
   "metadata": {},
   "outputs": [
    {
     "data": {
      "text/plain": [
       "[[a, b], [c, d]]"
      ]
     },
     "metadata": {},
     "output_type": "display_data"
    }
   ],
   "source": [
    "display([[A[0, 0], A[0, 1]], [A[1, 0], A[1, 1]]])"
   ]
  },
  {
   "cell_type": "code",
   "execution_count": 24,
   "metadata": {},
   "outputs": [
    {
     "data": {
      "text/plain": [
       "[[a, b], [c, d]]"
      ]
     },
     "metadata": {},
     "output_type": "display_data"
    }
   ],
   "source": [
    "display([[A[0][0], A[0][1]], [A[1][0], A[1][1]]])"
   ]
  },
  {
   "cell_type": "markdown",
   "metadata": {},
   "source": [
    "## Eigenvalues and Eigenvectors"
   ]
  },
  {
   "cell_type": "code",
   "execution_count": 25,
   "metadata": {},
   "outputs": [
    {
     "data": {
      "text/plain": [
       "[(a,\n",
       "  1,\n",
       "  [Matrix([\n",
       "   [1],\n",
       "   [0]])]),\n",
       " (b,\n",
       "  1,\n",
       "  [Matrix([\n",
       "   [0],\n",
       "   [1]])])]"
      ]
     },
     "metadata": {},
     "output_type": "display_data"
    }
   ],
   "source": [
    "A = SymbolicTensor.from_list([[a, 0], [0, b]], shape=(2, 2))\n",
    "eigenvectors = A.eigenvectors()\n",
    "display(eigenvectors)"
   ]
  },
  {
   "cell_type": "code",
   "execution_count": 26,
   "metadata": {},
   "outputs": [
    {
     "data": {
      "text/plain": [
       "[(a,\n",
       "  2,\n",
       "  [Matrix([\n",
       "   [1],\n",
       "   [0],\n",
       "   [0]]),\n",
       "   Matrix([\n",
       "   [0],\n",
       "   [1],\n",
       "   [0]])]),\n",
       " (b,\n",
       "  1,\n",
       "  [Matrix([\n",
       "   [0],\n",
       "   [0],\n",
       "   [1]])])]"
      ]
     },
     "metadata": {},
     "output_type": "display_data"
    }
   ],
   "source": [
    "A = SymbolicTensor.from_list([[a, 0, 0], [0, a, 0], [0, 0, b]], shape=(3, 3))\n",
    "eigenvectors = A.eigenvectors()\n",
    "display(eigenvectors)"
   ]
  },
  {
   "cell_type": "code",
   "execution_count": 27,
   "metadata": {},
   "outputs": [
    {
     "data": {
      "text/latex": [
       "$\\displaystyle \\left[\\begin{matrix}\\frac{4}{17}\\\\- \\frac{8}{17}\\\\1\\end{matrix}\\right]$"
      ],
      "text/plain": [
       "Matrix([\n",
       "[ 4/17],\n",
       "[-8/17],\n",
       "[    1]])"
      ]
     },
     "metadata": {},
     "output_type": "display_data"
    },
    {
     "data": {
      "text/latex": [
       "$\\displaystyle \\left[\\begin{matrix}\\frac{1}{2} - \\frac{\\sqrt{15} i}{6}\\\\1\\\\0\\end{matrix}\\right]$"
      ],
      "text/plain": [
       "Matrix([\n",
       "[1/2 - sqrt(15)*I/6],\n",
       "[                 1],\n",
       "[                 0]])"
      ]
     },
     "metadata": {},
     "output_type": "display_data"
    },
    {
     "data": {
      "text/latex": [
       "$\\displaystyle \\left[\\begin{matrix}\\frac{1}{2} + \\frac{\\sqrt{15} i}{6}\\\\1\\\\0\\end{matrix}\\right]$"
      ],
      "text/plain": [
       "Matrix([\n",
       "[1/2 + sqrt(15)*I/6],\n",
       "[                 1],\n",
       "[                 0]])"
      ]
     },
     "metadata": {},
     "output_type": "display_data"
    }
   ],
   "source": [
    "A = SymbolicTensor.from_list([[4, -2, 0], [3, 1, -4], [0, 0, 8]], shape=(3, 3))\n",
    "eigenvectors = A.eigenvectors()\n",
    "display(*[_[2][0] for _ in eigenvectors])"
   ]
  },
  {
   "cell_type": "code",
   "execution_count": 28,
   "metadata": {},
   "outputs": [
    {
     "data": {
      "text/latex": [
       "$\\displaystyle b$"
      ],
      "text/plain": [
       "b"
      ]
     },
     "metadata": {},
     "output_type": "display_data"
    },
    {
     "data": {
      "text/plain": [
       "1"
      ]
     },
     "metadata": {},
     "output_type": "display_data"
    },
    {
     "data": {
      "text/latex": [
       "$\\displaystyle \\left[\\begin{matrix}0\\\\1\\\\0\\end{matrix}\\right]$"
      ],
      "text/plain": [
       "Matrix([\n",
       "[0],\n",
       "[1],\n",
       "[0]])"
      ]
     },
     "metadata": {},
     "output_type": "display_data"
    },
    {
     "data": {
      "text/latex": [
       "$\\displaystyle \\frac{a}{2} + \\frac{b}{2} - \\frac{\\sqrt{a^{2} - 2 a b + 4 a c + b^{2}}}{2}$"
      ],
      "text/plain": [
       "a/2 + b/2 - sqrt(a**2 - 2*a*b + 4*a*c + b**2)/2"
      ]
     },
     "metadata": {},
     "output_type": "display_data"
    },
    {
     "data": {
      "text/plain": [
       "1"
      ]
     },
     "metadata": {},
     "output_type": "display_data"
    },
    {
     "data": {
      "text/latex": [
       "$\\displaystyle \\left[\\begin{matrix}- \\frac{b}{a} + \\frac{\\frac{a}{2} + \\frac{b}{2} - \\frac{\\sqrt{a^{2} - 2 a b + 4 a c + b^{2}}}{2}}{a}\\\\\\frac{- b + c}{c} + \\frac{b \\left(\\frac{a}{2} + \\frac{b}{2} - \\frac{\\sqrt{a^{2} - 2 a b + 4 a c + b^{2}}}{2}\\right)}{a c}\\\\1\\end{matrix}\\right]$"
      ],
      "text/plain": [
       "Matrix([\n",
       "[            -b/a + (a/2 + b/2 - sqrt(a**2 - 2*a*b + 4*a*c + b**2)/2)/a],\n",
       "[(-b + c)/c + b*(a/2 + b/2 - sqrt(a**2 - 2*a*b + 4*a*c + b**2)/2)/(a*c)],\n",
       "[                                                                     1]])"
      ]
     },
     "metadata": {},
     "output_type": "display_data"
    },
    {
     "data": {
      "text/latex": [
       "$\\displaystyle \\frac{a}{2} + \\frac{b}{2} + \\frac{\\sqrt{a^{2} - 2 a b + 4 a c + b^{2}}}{2}$"
      ],
      "text/plain": [
       "a/2 + b/2 + sqrt(a**2 - 2*a*b + 4*a*c + b**2)/2"
      ]
     },
     "metadata": {},
     "output_type": "display_data"
    },
    {
     "data": {
      "text/plain": [
       "1"
      ]
     },
     "metadata": {},
     "output_type": "display_data"
    },
    {
     "data": {
      "text/latex": [
       "$\\displaystyle \\left[\\begin{matrix}- \\frac{b}{a} + \\frac{\\frac{a}{2} + \\frac{b}{2} + \\frac{\\sqrt{a^{2} - 2 a b + 4 a c + b^{2}}}{2}}{a}\\\\\\frac{- b + c}{c} + \\frac{b \\left(\\frac{a}{2} + \\frac{b}{2} + \\frac{\\sqrt{a^{2} - 2 a b + 4 a c + b^{2}}}{2}\\right)}{a c}\\\\1\\end{matrix}\\right]$"
      ],
      "text/plain": [
       "Matrix([\n",
       "[            -b/a + (a/2 + b/2 + sqrt(a**2 - 2*a*b + 4*a*c + b**2)/2)/a],\n",
       "[(-b + c)/c + b*(a/2 + b/2 + sqrt(a**2 - 2*a*b + 4*a*c + b**2)/2)/(a*c)],\n",
       "[                                                                     1]])"
      ]
     },
     "metadata": {},
     "output_type": "display_data"
    }
   ],
   "source": [
    "A = SymbolicTensor.from_list([[a, 0, c], [a, b, b], [a, 0, b]], shape=(3, 3))\n",
    "eigenvectors = A.eigenvectors()\n",
    "for eig in eigenvectors:\n",
    "    eig_val = eig[0]\n",
    "    multiplicity = eig[1]\n",
    "    eig_vects = eig[2][0]\n",
    "    display(eig_val)\n",
    "    display(multiplicity)\n",
    "    display(eig_vects)"
   ]
  },
  {
   "cell_type": "code",
   "execution_count": 29,
   "metadata": {},
   "outputs": [
    {
     "data": {
      "text/latex": [
       "$\\displaystyle \\left[\\begin{matrix}0 & \\frac{a - b - \\sqrt{a^{2} - 2 a b + 4 a c + b^{2}}}{2 a} & \\frac{a - b + \\sqrt{a^{2} - 2 a b + 4 a c + b^{2}}}{2 a}\\\\1 & \\frac{a \\left(- b + c\\right) + \\frac{b \\left(a + b - \\sqrt{a^{2} - 2 a b + 4 a c + b^{2}}\\right)}{2}}{a c} & \\frac{a \\left(- b + c\\right) + \\frac{b \\left(a + b + \\sqrt{a^{2} - 2 a b + 4 a c + b^{2}}\\right)}{2}}{a c}\\\\0 & 1 & 1\\end{matrix}\\right]$"
      ],
      "text/plain": [
       "Matrix([\n",
       "[0,                    (a - b - sqrt(a**2 - 2*a*b + 4*a*c + b**2))/(2*a),                    (a - b + sqrt(a**2 - 2*a*b + 4*a*c + b**2))/(2*a)],\n",
       "[1, (a*(-b + c) + b*(a + b - sqrt(a**2 - 2*a*b + 4*a*c + b**2))/2)/(a*c), (a*(-b + c) + b*(a + b + sqrt(a**2 - 2*a*b + 4*a*c + b**2))/2)/(a*c)],\n",
       "[0,                                                                    1,                                                                    1]])"
      ]
     },
     "metadata": {},
     "output_type": "display_data"
    },
    {
     "data": {
      "text/latex": [
       "$\\displaystyle \\left[\\begin{matrix}b & 0 & 0\\\\0 & \\frac{a}{2} + \\frac{b}{2} - \\frac{\\sqrt{a^{2} - 2 a b + 4 a c + b^{2}}}{2} & 0\\\\0 & 0 & \\frac{a}{2} + \\frac{b}{2} + \\frac{\\sqrt{a^{2} - 2 a b + 4 a c + b^{2}}}{2}\\end{matrix}\\right]$"
      ],
      "text/plain": [
       "Matrix([\n",
       "[b,                                               0,                                               0],\n",
       "[0, a/2 + b/2 - sqrt(a**2 - 2*a*b + 4*a*c + b**2)/2,                                               0],\n",
       "[0,                                               0, a/2 + b/2 + sqrt(a**2 - 2*a*b + 4*a*c + b**2)/2]])"
      ]
     },
     "metadata": {},
     "output_type": "display_data"
    }
   ],
   "source": [
    "P, D = A.diagonalize()\n",
    "display(P)\n",
    "display(D)"
   ]
  },
  {
   "cell_type": "code",
   "execution_count": 30,
   "metadata": {},
   "outputs": [
    {
     "data": {
      "text/latex": [
       "$\\displaystyle \\left[\\begin{matrix}a & 0 & c\\\\0 & b & 0\\\\c & 0 & b\\end{matrix}\\right]$"
      ],
      "text/plain": [
       "[[a, 0, c], [0, b, 0], [c, 0, b]]"
      ]
     },
     "metadata": {},
     "output_type": "display_data"
    }
   ],
   "source": [
    "B = SymbolicSymmetricThreeByThreeTensor.from_list([a, b, b, 0, c, 0])\n",
    "display(B.to_general().data)"
   ]
  },
  {
   "cell_type": "code",
   "execution_count": 31,
   "metadata": {},
   "outputs": [
    {
     "data": {
      "text/latex": [
       "$\\displaystyle \\left[\\begin{matrix}0 & \\frac{a - b - \\sqrt{a^{2} - 2 a b + b^{2} + 4 c^{2}}}{2 c} & \\frac{a - b + \\sqrt{a^{2} - 2 a b + b^{2} + 4 c^{2}}}{2 c}\\\\1 & 0 & 0\\\\0 & 1 & 1\\end{matrix}\\right]$"
      ],
      "text/plain": [
       "Matrix([\n",
       "[0, (a - b - sqrt(a**2 - 2*a*b + b**2 + 4*c**2))/(2*c), (a - b + sqrt(a**2 - 2*a*b + b**2 + 4*c**2))/(2*c)],\n",
       "[1,                                                  0,                                                  0],\n",
       "[0,                                                  1,                                                  1]])"
      ]
     },
     "metadata": {},
     "output_type": "display_data"
    },
    {
     "data": {
      "text/latex": [
       "$\\displaystyle \\left[\\begin{matrix}b & 0 & 0\\\\0 & \\frac{a}{2} + \\frac{b}{2} - \\frac{\\sqrt{a^{2} - 2 a b + b^{2} + 4 c^{2}}}{2} & 0\\\\0 & 0 & \\frac{a}{2} + \\frac{b}{2} + \\frac{\\sqrt{a^{2} - 2 a b + b^{2} + 4 c^{2}}}{2}\\end{matrix}\\right]$"
      ],
      "text/plain": [
       "Matrix([\n",
       "[b,                                                0,                                                0],\n",
       "[0, a/2 + b/2 - sqrt(a**2 - 2*a*b + b**2 + 4*c**2)/2,                                                0],\n",
       "[0,                                                0, a/2 + b/2 + sqrt(a**2 - 2*a*b + b**2 + 4*c**2)/2]])"
      ]
     },
     "metadata": {},
     "output_type": "display_data"
    }
   ],
   "source": [
    "P, D = B.diagonalize()\n",
    "display(P)\n",
    "display(D)"
   ]
  },
  {
   "cell_type": "code",
   "execution_count": null,
   "metadata": {},
   "outputs": [],
   "source": []
  }
 ],
 "metadata": {
  "kernelspec": {
   "display_name": "venv",
   "language": "python",
   "name": "python3"
  },
  "language_info": {
   "codemirror_mode": {
    "name": "ipython",
    "version": 3
   },
   "file_extension": ".py",
   "mimetype": "text/x-python",
   "name": "python",
   "nbconvert_exporter": "python",
   "pygments_lexer": "ipython3",
   "version": "3.10.12"
  }
 },
 "nbformat": 4,
 "nbformat_minor": 2
}
