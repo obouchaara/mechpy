{
 "cells": [
  {
   "cell_type": "code",
   "execution_count": 1,
   "metadata": {},
   "outputs": [],
   "source": [
    "import sympy as sp\n",
    "\n",
    "from mechpy.core.symbolic.coord import (\n",
    "    SymbolicCartesianCoordSystem,\n",
    "    SymbolicCylindricalCoordSystem,\n",
    "    SymbolicSphericalCoordSystem,\n",
    ")\n",
    "from mechpy.core.symbolic.displacement import SymbolicDisplacement\n",
    "from mechpy.core.symbolic.material import SymbolicIsotropicMaterial\n",
    "from mechpy.core.symbolic.solicitation import SymbolicVolumeForce\n",
    "from mechpy.core.symbolic.navier import SymbolicNavier"
   ]
  },
  {
   "cell_type": "code",
   "execution_count": 2,
   "metadata": {},
   "outputs": [
    {
     "data": {
      "text/latex": [
       "$\\displaystyle \\mu \\left(\\frac{\\partial^{2}}{\\partial x^{2}} u_{x}{\\left(x,y,z \\right)} + \\frac{\\partial^{2}}{\\partial y^{2}} u_{x}{\\left(x,y,z \\right)} + \\frac{\\partial^{2}}{\\partial z^{2}} u_{x}{\\left(x,y,z \\right)}\\right) + \\left(\\lambda + \\mu\\right) \\left(\\frac{\\partial^{2}}{\\partial x^{2}} u_{x}{\\left(x,y,z \\right)} + \\frac{\\partial^{2}}{\\partial y\\partial x} u_{y}{\\left(x,y,z \\right)} + \\frac{\\partial^{2}}{\\partial z\\partial x} u_{z}{\\left(x,y,z \\right)}\\right)$"
      ],
      "text/plain": [
       "mu*(Derivative(u_x(x, y, z), (x, 2)) + Derivative(u_x(x, y, z), (y, 2)) + Derivative(u_x(x, y, z), (z, 2))) + (lamda + mu)*(Derivative(u_x(x, y, z), (x, 2)) + Derivative(u_y(x, y, z), x, y) + Derivative(u_z(x, y, z), x, z))"
      ]
     },
     "metadata": {},
     "output_type": "display_data"
    },
    {
     "data": {
      "text/latex": [
       "$\\displaystyle \\mu \\left(\\frac{\\partial^{2}}{\\partial x^{2}} u_{y}{\\left(x,y,z \\right)} + \\frac{\\partial^{2}}{\\partial y^{2}} u_{y}{\\left(x,y,z \\right)} + \\frac{\\partial^{2}}{\\partial z^{2}} u_{y}{\\left(x,y,z \\right)}\\right) + \\left(\\lambda + \\mu\\right) \\left(\\frac{\\partial^{2}}{\\partial y^{2}} u_{y}{\\left(x,y,z \\right)} + \\frac{\\partial^{2}}{\\partial y\\partial x} u_{x}{\\left(x,y,z \\right)} + \\frac{\\partial^{2}}{\\partial z\\partial y} u_{z}{\\left(x,y,z \\right)}\\right)$"
      ],
      "text/plain": [
       "mu*(Derivative(u_y(x, y, z), (x, 2)) + Derivative(u_y(x, y, z), (y, 2)) + Derivative(u_y(x, y, z), (z, 2))) + (lamda + mu)*(Derivative(u_y(x, y, z), (y, 2)) + Derivative(u_x(x, y, z), x, y) + Derivative(u_z(x, y, z), y, z))"
      ]
     },
     "metadata": {},
     "output_type": "display_data"
    },
    {
     "data": {
      "text/latex": [
       "$\\displaystyle \\mu \\left(\\frac{\\partial^{2}}{\\partial x^{2}} u_{z}{\\left(x,y,z \\right)} + \\frac{\\partial^{2}}{\\partial y^{2}} u_{z}{\\left(x,y,z \\right)} + \\frac{\\partial^{2}}{\\partial z^{2}} u_{z}{\\left(x,y,z \\right)}\\right) + \\left(\\lambda + \\mu\\right) \\left(\\frac{\\partial^{2}}{\\partial z^{2}} u_{z}{\\left(x,y,z \\right)} + \\frac{\\partial^{2}}{\\partial z\\partial x} u_{x}{\\left(x,y,z \\right)} + \\frac{\\partial^{2}}{\\partial z\\partial y} u_{y}{\\left(x,y,z \\right)}\\right)$"
      ],
      "text/plain": [
       "mu*(Derivative(u_z(x, y, z), (x, 2)) + Derivative(u_z(x, y, z), (y, 2)) + Derivative(u_z(x, y, z), (z, 2))) + (lamda + mu)*(Derivative(u_z(x, y, z), (z, 2)) + Derivative(u_x(x, y, z), x, z) + Derivative(u_y(x, y, z), y, z))"
      ]
     },
     "metadata": {},
     "output_type": "display_data"
    }
   ],
   "source": [
    "coord_system = SymbolicCartesianCoordSystem()\n",
    "material = SymbolicIsotropicMaterial(lamda=sp.Symbol(\"lamda\"), mu=sp.Symbol(\"mu\"))\n",
    "x, y, z = coord_system.basis\n",
    "u_x = sp.Function(\"u_x\")(x, y, z)\n",
    "u_y = sp.Function(\"u_y\")(x, y, z)\n",
    "u_z = sp.Function(\"u_z\")(x, y, z)\n",
    "data = sp.NDimArray([u_x, u_y, u_z])\n",
    "displacement = SymbolicDisplacement(coord_system, data)\n",
    "navier = SymbolicNavier(\n",
    "    coord_system=coord_system,\n",
    "    material=material,\n",
    "    displacement=displacement,\n",
    ")\n",
    "display(*navier.static_equation())"
   ]
  },
  {
   "cell_type": "code",
   "execution_count": 3,
   "metadata": {},
   "outputs": [
    {
     "data": {
      "text/latex": [
       "$\\displaystyle \\mu \\left(\\frac{\\partial^{2}}{\\partial x^{2}} u_{x}{\\left(x,y,z \\right)} + \\frac{\\partial^{2}}{\\partial y^{2}} u_{x}{\\left(x,y,z \\right)} + \\frac{\\partial^{2}}{\\partial z^{2}} u_{x}{\\left(x,y,z \\right)}\\right) + \\left(\\lambda + \\mu\\right) \\left(\\frac{\\partial^{2}}{\\partial x^{2}} u_{x}{\\left(x,y,z \\right)} + \\frac{\\partial^{2}}{\\partial y\\partial x} u_{y}{\\left(x,y,z \\right)} + \\frac{\\partial^{2}}{\\partial z\\partial x} u_{z}{\\left(x,y,z \\right)}\\right) + f_{x}{\\left(x,y,z \\right)}$"
      ],
      "text/plain": [
       "mu*(Derivative(u_x(x, y, z), (x, 2)) + Derivative(u_x(x, y, z), (y, 2)) + Derivative(u_x(x, y, z), (z, 2))) + (lamda + mu)*(Derivative(u_x(x, y, z), (x, 2)) + Derivative(u_y(x, y, z), x, y) + Derivative(u_z(x, y, z), x, z)) + f_x(x, y, z)"
      ]
     },
     "metadata": {},
     "output_type": "display_data"
    },
    {
     "data": {
      "text/latex": [
       "$\\displaystyle \\mu \\left(\\frac{\\partial^{2}}{\\partial x^{2}} u_{y}{\\left(x,y,z \\right)} + \\frac{\\partial^{2}}{\\partial y^{2}} u_{y}{\\left(x,y,z \\right)} + \\frac{\\partial^{2}}{\\partial z^{2}} u_{y}{\\left(x,y,z \\right)}\\right) + \\left(\\lambda + \\mu\\right) \\left(\\frac{\\partial^{2}}{\\partial y^{2}} u_{y}{\\left(x,y,z \\right)} + \\frac{\\partial^{2}}{\\partial y\\partial x} u_{x}{\\left(x,y,z \\right)} + \\frac{\\partial^{2}}{\\partial z\\partial y} u_{z}{\\left(x,y,z \\right)}\\right) + f_{y}{\\left(x,y,z \\right)}$"
      ],
      "text/plain": [
       "mu*(Derivative(u_y(x, y, z), (x, 2)) + Derivative(u_y(x, y, z), (y, 2)) + Derivative(u_y(x, y, z), (z, 2))) + (lamda + mu)*(Derivative(u_y(x, y, z), (y, 2)) + Derivative(u_x(x, y, z), x, y) + Derivative(u_z(x, y, z), y, z)) + f_y(x, y, z)"
      ]
     },
     "metadata": {},
     "output_type": "display_data"
    },
    {
     "data": {
      "text/latex": [
       "$\\displaystyle \\mu \\left(\\frac{\\partial^{2}}{\\partial x^{2}} u_{z}{\\left(x,y,z \\right)} + \\frac{\\partial^{2}}{\\partial y^{2}} u_{z}{\\left(x,y,z \\right)} + \\frac{\\partial^{2}}{\\partial z^{2}} u_{z}{\\left(x,y,z \\right)}\\right) + \\left(\\lambda + \\mu\\right) \\left(\\frac{\\partial^{2}}{\\partial z^{2}} u_{z}{\\left(x,y,z \\right)} + \\frac{\\partial^{2}}{\\partial z\\partial x} u_{x}{\\left(x,y,z \\right)} + \\frac{\\partial^{2}}{\\partial z\\partial y} u_{y}{\\left(x,y,z \\right)}\\right) + f_{z}{\\left(x,y,z \\right)}$"
      ],
      "text/plain": [
       "mu*(Derivative(u_z(x, y, z), (x, 2)) + Derivative(u_z(x, y, z), (y, 2)) + Derivative(u_z(x, y, z), (z, 2))) + (lamda + mu)*(Derivative(u_z(x, y, z), (z, 2)) + Derivative(u_x(x, y, z), x, z) + Derivative(u_y(x, y, z), y, z)) + f_z(x, y, z)"
      ]
     },
     "metadata": {},
     "output_type": "display_data"
    }
   ],
   "source": [
    "coord_system = SymbolicCartesianCoordSystem()\n",
    "material = SymbolicIsotropicMaterial(lamda=sp.Symbol(\"lamda\"), mu=sp.Symbol(\"mu\"))\n",
    "x, y, z = coord_system.basis\n",
    "u_x = sp.Function(\"u_x\")(x, y, z)\n",
    "u_y = sp.Function(\"u_y\")(x, y, z)\n",
    "u_z = sp.Function(\"u_z\")(x, y, z)\n",
    "displacement_data = sp.NDimArray([u_x, u_y, u_z])\n",
    "displacement = SymbolicDisplacement(coord_system, displacement_data)\n",
    "f_x = sp.Function(\"f_x\")(x, y, z)\n",
    "f_y = sp.Function(\"f_y\")(x, y, z)\n",
    "f_z = sp.Function(\"f_z\")(x, y, z)\n",
    "volume_force_data = sp.NDimArray([f_x, f_y, f_z])\n",
    "volume_force = SymbolicVolumeForce(coord_system, volume_force_data)\n",
    "navier = SymbolicNavier(\n",
    "    coord_system=coord_system,\n",
    "    material=material,\n",
    "    displacement=displacement,\n",
    "    volume_force=volume_force,\n",
    ")\n",
    "display(*navier.static_equation())"
   ]
  },
  {
   "cell_type": "code",
   "execution_count": 4,
   "metadata": {},
   "outputs": [
    {
     "data": {
      "text/latex": [
       "$\\displaystyle - \\mu \\left(\\frac{\\partial^{2}}{\\partial x^{2}} u_{x}{\\left(x,y,z,t \\right)} + \\frac{\\partial^{2}}{\\partial y^{2}} u_{x}{\\left(x,y,z,t \\right)} + \\frac{\\partial^{2}}{\\partial z^{2}} u_{x}{\\left(x,y,z,t \\right)}\\right) + \\rho \\frac{\\partial^{2}}{\\partial t^{2}} u_{x}{\\left(x,y,z,t \\right)} - \\left(\\lambda + \\mu\\right) \\left(\\frac{\\partial^{2}}{\\partial x^{2}} u_{x}{\\left(x,y,z,t \\right)} + \\frac{\\partial^{2}}{\\partial y\\partial x} u_{y}{\\left(x,y,z,t \\right)} + \\frac{\\partial^{2}}{\\partial z\\partial x} u_{z}{\\left(x,y,z,t \\right)}\\right)$"
      ],
      "text/plain": [
       "-mu*(Derivative(u_x(x, y, z, t), (x, 2)) + Derivative(u_x(x, y, z, t), (y, 2)) + Derivative(u_x(x, y, z, t), (z, 2))) + rho*Derivative(u_x(x, y, z, t), (t, 2)) - (lamda + mu)*(Derivative(u_x(x, y, z, t), (x, 2)) + Derivative(u_y(x, y, z, t), x, y) + Derivative(u_z(x, y, z, t), x, z))"
      ]
     },
     "metadata": {},
     "output_type": "display_data"
    },
    {
     "data": {
      "text/latex": [
       "$\\displaystyle - \\mu \\left(\\frac{\\partial^{2}}{\\partial x^{2}} u_{y}{\\left(x,y,z,t \\right)} + \\frac{\\partial^{2}}{\\partial y^{2}} u_{y}{\\left(x,y,z,t \\right)} + \\frac{\\partial^{2}}{\\partial z^{2}} u_{y}{\\left(x,y,z,t \\right)}\\right) + \\rho \\frac{\\partial^{2}}{\\partial t^{2}} u_{y}{\\left(x,y,z,t \\right)} - \\left(\\lambda + \\mu\\right) \\left(\\frac{\\partial^{2}}{\\partial y^{2}} u_{y}{\\left(x,y,z,t \\right)} + \\frac{\\partial^{2}}{\\partial y\\partial x} u_{x}{\\left(x,y,z,t \\right)} + \\frac{\\partial^{2}}{\\partial z\\partial y} u_{z}{\\left(x,y,z,t \\right)}\\right)$"
      ],
      "text/plain": [
       "-mu*(Derivative(u_y(x, y, z, t), (x, 2)) + Derivative(u_y(x, y, z, t), (y, 2)) + Derivative(u_y(x, y, z, t), (z, 2))) + rho*Derivative(u_y(x, y, z, t), (t, 2)) - (lamda + mu)*(Derivative(u_y(x, y, z, t), (y, 2)) + Derivative(u_x(x, y, z, t), x, y) + Derivative(u_z(x, y, z, t), y, z))"
      ]
     },
     "metadata": {},
     "output_type": "display_data"
    },
    {
     "data": {
      "text/latex": [
       "$\\displaystyle - \\mu \\left(\\frac{\\partial^{2}}{\\partial x^{2}} u_{z}{\\left(x,y,z,t \\right)} + \\frac{\\partial^{2}}{\\partial y^{2}} u_{z}{\\left(x,y,z,t \\right)} + \\frac{\\partial^{2}}{\\partial z^{2}} u_{z}{\\left(x,y,z,t \\right)}\\right) + \\rho \\frac{\\partial^{2}}{\\partial t^{2}} u_{z}{\\left(x,y,z,t \\right)} - \\left(\\lambda + \\mu\\right) \\left(\\frac{\\partial^{2}}{\\partial z^{2}} u_{z}{\\left(x,y,z,t \\right)} + \\frac{\\partial^{2}}{\\partial z\\partial x} u_{x}{\\left(x,y,z,t \\right)} + \\frac{\\partial^{2}}{\\partial z\\partial y} u_{y}{\\left(x,y,z,t \\right)}\\right)$"
      ],
      "text/plain": [
       "-mu*(Derivative(u_z(x, y, z, t), (x, 2)) + Derivative(u_z(x, y, z, t), (y, 2)) + Derivative(u_z(x, y, z, t), (z, 2))) + rho*Derivative(u_z(x, y, z, t), (t, 2)) - (lamda + mu)*(Derivative(u_z(x, y, z, t), (z, 2)) + Derivative(u_x(x, y, z, t), x, z) + Derivative(u_y(x, y, z, t), y, z))"
      ]
     },
     "metadata": {},
     "output_type": "display_data"
    }
   ],
   "source": [
    "coord_system = SymbolicCartesianCoordSystem()\n",
    "material = SymbolicIsotropicMaterial(lamda=sp.Symbol(\"lamda\"), mu=sp.Symbol(\"mu\"), rho=sp.Symbol(\"rho\"))\n",
    "x, y, z = coord_system.basis\n",
    "t = sp.Symbol(\"t\")\n",
    "u_x = sp.Function(\"u_x\")(x, y, z, t)\n",
    "u_y = sp.Function(\"u_y\")(x, y, z, t)\n",
    "u_z = sp.Function(\"u_z\")(x, y, z, t)\n",
    "data = sp.NDimArray([u_x, u_y, u_z])\n",
    "displacement = SymbolicDisplacement(coord_system, data)\n",
    "navier = SymbolicNavier(coord_system, material, displacement)\n",
    "display(*navier.general_equation())"
   ]
  },
  {
   "cell_type": "code",
   "execution_count": 5,
   "metadata": {},
   "outputs": [
    {
     "data": {
      "text/latex": [
       "$\\displaystyle \\mu \\left(\\frac{\\partial^{2}}{\\partial x^{2}} u_{x}{\\left(x,y,z,t \\right)} + \\frac{\\partial^{2}}{\\partial y^{2}} u_{x}{\\left(x,y,z,t \\right)} + \\frac{\\partial^{2}}{\\partial z^{2}} u_{x}{\\left(x,y,z,t \\right)}\\right) + \\left(\\lambda + \\mu\\right) \\left(\\frac{\\partial^{2}}{\\partial x^{2}} u_{x}{\\left(x,y,z,t \\right)} + \\frac{\\partial^{2}}{\\partial y\\partial x} u_{y}{\\left(x,y,z,t \\right)} + \\frac{\\partial^{2}}{\\partial z\\partial x} u_{z}{\\left(x,y,z,t \\right)}\\right)$"
      ],
      "text/plain": [
       "mu*(Derivative(u_x(x, y, z, t), (x, 2)) + Derivative(u_x(x, y, z, t), (y, 2)) + Derivative(u_x(x, y, z, t), (z, 2))) + (lamda + mu)*(Derivative(u_x(x, y, z, t), (x, 2)) + Derivative(u_y(x, y, z, t), x, y) + Derivative(u_z(x, y, z, t), x, z))"
      ]
     },
     "metadata": {},
     "output_type": "display_data"
    },
    {
     "data": {
      "text/latex": [
       "$\\displaystyle \\mu \\left(\\frac{\\partial^{2}}{\\partial x^{2}} u_{y}{\\left(x,y,z,t \\right)} + \\frac{\\partial^{2}}{\\partial y^{2}} u_{y}{\\left(x,y,z,t \\right)} + \\frac{\\partial^{2}}{\\partial z^{2}} u_{y}{\\left(x,y,z,t \\right)}\\right) + \\left(\\lambda + \\mu\\right) \\left(\\frac{\\partial^{2}}{\\partial y^{2}} u_{y}{\\left(x,y,z,t \\right)} + \\frac{\\partial^{2}}{\\partial y\\partial x} u_{x}{\\left(x,y,z,t \\right)} + \\frac{\\partial^{2}}{\\partial z\\partial y} u_{z}{\\left(x,y,z,t \\right)}\\right)$"
      ],
      "text/plain": [
       "mu*(Derivative(u_y(x, y, z, t), (x, 2)) + Derivative(u_y(x, y, z, t), (y, 2)) + Derivative(u_y(x, y, z, t), (z, 2))) + (lamda + mu)*(Derivative(u_y(x, y, z, t), (y, 2)) + Derivative(u_x(x, y, z, t), x, y) + Derivative(u_z(x, y, z, t), y, z))"
      ]
     },
     "metadata": {},
     "output_type": "display_data"
    },
    {
     "data": {
      "text/latex": [
       "$\\displaystyle \\mu \\left(\\frac{\\partial^{2}}{\\partial x^{2}} u_{z}{\\left(x,y,z,t \\right)} + \\frac{\\partial^{2}}{\\partial y^{2}} u_{z}{\\left(x,y,z,t \\right)} + \\frac{\\partial^{2}}{\\partial z^{2}} u_{z}{\\left(x,y,z,t \\right)}\\right) + \\left(\\lambda + \\mu\\right) \\left(\\frac{\\partial^{2}}{\\partial z^{2}} u_{z}{\\left(x,y,z,t \\right)} + \\frac{\\partial^{2}}{\\partial z\\partial x} u_{x}{\\left(x,y,z,t \\right)} + \\frac{\\partial^{2}}{\\partial z\\partial y} u_{y}{\\left(x,y,z,t \\right)}\\right)$"
      ],
      "text/plain": [
       "mu*(Derivative(u_z(x, y, z, t), (x, 2)) + Derivative(u_z(x, y, z, t), (y, 2)) + Derivative(u_z(x, y, z, t), (z, 2))) + (lamda + mu)*(Derivative(u_z(x, y, z, t), (z, 2)) + Derivative(u_x(x, y, z, t), x, z) + Derivative(u_y(x, y, z, t), y, z))"
      ]
     },
     "metadata": {},
     "output_type": "display_data"
    }
   ],
   "source": [
    "coord_system = SymbolicCylindricalCoordSystem()\n",
    "material = SymbolicIsotropicMaterial(lamda=sp.Symbol(\"lamda\"), mu=sp.Symbol(\"mu\"))\n",
    "r, theta, z = coord_system.basis\n",
    "u_r = sp.Function(\"u_r\")(r, theta, z)\n",
    "u_theta = sp.Function(\"u_theta\")(r, theta, z)\n",
    "u_z = sp.Function(\"u_z\")(r, theta, z)\n",
    "data = sp.NDimArray([u_r, u_theta, u_z])\n",
    "displacement_field = SymbolicDisplacement(coord_system, data)\n",
    "navier = SymbolicNavier(coord_system, material, displacement)\n",
    "display(*navier.static_equation())"
   ]
  },
  {
   "cell_type": "code",
   "execution_count": 6,
   "metadata": {},
   "outputs": [
    {
     "data": {
      "text/latex": [
       "$\\displaystyle - \\mu \\left(\\frac{\\partial^{2}}{\\partial x^{2}} u_{x}{\\left(x,y,z,t \\right)} + \\frac{\\partial^{2}}{\\partial y^{2}} u_{x}{\\left(x,y,z,t \\right)} + \\frac{\\partial^{2}}{\\partial z^{2}} u_{x}{\\left(x,y,z,t \\right)}\\right) + \\rho \\frac{\\partial^{2}}{\\partial t^{2}} u_{x}{\\left(x,y,z,t \\right)} - \\left(\\lambda + \\mu\\right) \\left(\\frac{\\partial^{2}}{\\partial x^{2}} u_{x}{\\left(x,y,z,t \\right)} + \\frac{\\partial^{2}}{\\partial y\\partial x} u_{y}{\\left(x,y,z,t \\right)} + \\frac{\\partial^{2}}{\\partial z\\partial x} u_{z}{\\left(x,y,z,t \\right)}\\right)$"
      ],
      "text/plain": [
       "-mu*(Derivative(u_x(x, y, z, t), (x, 2)) + Derivative(u_x(x, y, z, t), (y, 2)) + Derivative(u_x(x, y, z, t), (z, 2))) + rho*Derivative(u_x(x, y, z, t), (t, 2)) - (lamda + mu)*(Derivative(u_x(x, y, z, t), (x, 2)) + Derivative(u_y(x, y, z, t), x, y) + Derivative(u_z(x, y, z, t), x, z))"
      ]
     },
     "metadata": {},
     "output_type": "display_data"
    },
    {
     "data": {
      "text/latex": [
       "$\\displaystyle - \\mu \\left(\\frac{\\partial^{2}}{\\partial x^{2}} u_{y}{\\left(x,y,z,t \\right)} + \\frac{\\partial^{2}}{\\partial y^{2}} u_{y}{\\left(x,y,z,t \\right)} + \\frac{\\partial^{2}}{\\partial z^{2}} u_{y}{\\left(x,y,z,t \\right)}\\right) + \\rho \\frac{\\partial^{2}}{\\partial t^{2}} u_{y}{\\left(x,y,z,t \\right)} - \\left(\\lambda + \\mu\\right) \\left(\\frac{\\partial^{2}}{\\partial y^{2}} u_{y}{\\left(x,y,z,t \\right)} + \\frac{\\partial^{2}}{\\partial y\\partial x} u_{x}{\\left(x,y,z,t \\right)} + \\frac{\\partial^{2}}{\\partial z\\partial y} u_{z}{\\left(x,y,z,t \\right)}\\right)$"
      ],
      "text/plain": [
       "-mu*(Derivative(u_y(x, y, z, t), (x, 2)) + Derivative(u_y(x, y, z, t), (y, 2)) + Derivative(u_y(x, y, z, t), (z, 2))) + rho*Derivative(u_y(x, y, z, t), (t, 2)) - (lamda + mu)*(Derivative(u_y(x, y, z, t), (y, 2)) + Derivative(u_x(x, y, z, t), x, y) + Derivative(u_z(x, y, z, t), y, z))"
      ]
     },
     "metadata": {},
     "output_type": "display_data"
    },
    {
     "data": {
      "text/latex": [
       "$\\displaystyle - \\mu \\left(\\frac{\\partial^{2}}{\\partial x^{2}} u_{z}{\\left(x,y,z,t \\right)} + \\frac{\\partial^{2}}{\\partial y^{2}} u_{z}{\\left(x,y,z,t \\right)} + \\frac{\\partial^{2}}{\\partial z^{2}} u_{z}{\\left(x,y,z,t \\right)}\\right) + \\rho \\frac{\\partial^{2}}{\\partial t^{2}} u_{z}{\\left(x,y,z,t \\right)} - \\left(\\lambda + \\mu\\right) \\left(\\frac{\\partial^{2}}{\\partial z^{2}} u_{z}{\\left(x,y,z,t \\right)} + \\frac{\\partial^{2}}{\\partial z\\partial x} u_{x}{\\left(x,y,z,t \\right)} + \\frac{\\partial^{2}}{\\partial z\\partial y} u_{y}{\\left(x,y,z,t \\right)}\\right)$"
      ],
      "text/plain": [
       "-mu*(Derivative(u_z(x, y, z, t), (x, 2)) + Derivative(u_z(x, y, z, t), (y, 2)) + Derivative(u_z(x, y, z, t), (z, 2))) + rho*Derivative(u_z(x, y, z, t), (t, 2)) - (lamda + mu)*(Derivative(u_z(x, y, z, t), (z, 2)) + Derivative(u_x(x, y, z, t), x, z) + Derivative(u_y(x, y, z, t), y, z))"
      ]
     },
     "metadata": {},
     "output_type": "display_data"
    }
   ],
   "source": [
    "coord_system = SymbolicCylindricalCoordSystem()\n",
    "material = SymbolicIsotropicMaterial(lamda=sp.Symbol(\"lamda\"), mu=sp.Symbol(\"mu\"), rho=sp.Symbol(\"rho\"))\n",
    "r, theta, z = coord_system.basis\n",
    "t = sp.Symbol(\"t\")\n",
    "u_r = sp.Function(\"u_r\")(r, theta, z, t)\n",
    "u_theta = sp.Function(\"u_theta\")(r, theta, z, t)\n",
    "u_z = sp.Function(\"u_z\")(r, theta, z, t)\n",
    "data = sp.NDimArray([u_r, u_theta, u_z])\n",
    "displacement_field = SymbolicDisplacement(coord_system, data)\n",
    "navier = SymbolicNavier(coord_system, material, displacement)\n",
    "display(*navier.general_equation())"
   ]
  },
  {
   "cell_type": "code",
   "execution_count": 7,
   "metadata": {},
   "outputs": [
    {
     "data": {
      "text/latex": [
       "$\\displaystyle \\mu \\left(\\frac{\\partial^{2}}{\\partial x^{2}} u_{x}{\\left(x,y,z,t \\right)} + \\frac{\\partial^{2}}{\\partial y^{2}} u_{x}{\\left(x,y,z,t \\right)} + \\frac{\\partial^{2}}{\\partial z^{2}} u_{x}{\\left(x,y,z,t \\right)}\\right) + \\left(\\lambda + \\mu\\right) \\left(\\frac{\\partial^{2}}{\\partial x^{2}} u_{x}{\\left(x,y,z,t \\right)} + \\frac{\\partial^{2}}{\\partial y\\partial x} u_{y}{\\left(x,y,z,t \\right)} + \\frac{\\partial^{2}}{\\partial z\\partial x} u_{z}{\\left(x,y,z,t \\right)}\\right)$"
      ],
      "text/plain": [
       "mu*(Derivative(u_x(x, y, z, t), (x, 2)) + Derivative(u_x(x, y, z, t), (y, 2)) + Derivative(u_x(x, y, z, t), (z, 2))) + (lamda + mu)*(Derivative(u_x(x, y, z, t), (x, 2)) + Derivative(u_y(x, y, z, t), x, y) + Derivative(u_z(x, y, z, t), x, z))"
      ]
     },
     "metadata": {},
     "output_type": "display_data"
    },
    {
     "data": {
      "text/latex": [
       "$\\displaystyle \\mu \\left(\\frac{\\partial^{2}}{\\partial x^{2}} u_{y}{\\left(x,y,z,t \\right)} + \\frac{\\partial^{2}}{\\partial y^{2}} u_{y}{\\left(x,y,z,t \\right)} + \\frac{\\partial^{2}}{\\partial z^{2}} u_{y}{\\left(x,y,z,t \\right)}\\right) + \\left(\\lambda + \\mu\\right) \\left(\\frac{\\partial^{2}}{\\partial y^{2}} u_{y}{\\left(x,y,z,t \\right)} + \\frac{\\partial^{2}}{\\partial y\\partial x} u_{x}{\\left(x,y,z,t \\right)} + \\frac{\\partial^{2}}{\\partial z\\partial y} u_{z}{\\left(x,y,z,t \\right)}\\right)$"
      ],
      "text/plain": [
       "mu*(Derivative(u_y(x, y, z, t), (x, 2)) + Derivative(u_y(x, y, z, t), (y, 2)) + Derivative(u_y(x, y, z, t), (z, 2))) + (lamda + mu)*(Derivative(u_y(x, y, z, t), (y, 2)) + Derivative(u_x(x, y, z, t), x, y) + Derivative(u_z(x, y, z, t), y, z))"
      ]
     },
     "metadata": {},
     "output_type": "display_data"
    },
    {
     "data": {
      "text/latex": [
       "$\\displaystyle \\mu \\left(\\frac{\\partial^{2}}{\\partial x^{2}} u_{z}{\\left(x,y,z,t \\right)} + \\frac{\\partial^{2}}{\\partial y^{2}} u_{z}{\\left(x,y,z,t \\right)} + \\frac{\\partial^{2}}{\\partial z^{2}} u_{z}{\\left(x,y,z,t \\right)}\\right) + \\left(\\lambda + \\mu\\right) \\left(\\frac{\\partial^{2}}{\\partial z^{2}} u_{z}{\\left(x,y,z,t \\right)} + \\frac{\\partial^{2}}{\\partial z\\partial x} u_{x}{\\left(x,y,z,t \\right)} + \\frac{\\partial^{2}}{\\partial z\\partial y} u_{y}{\\left(x,y,z,t \\right)}\\right)$"
      ],
      "text/plain": [
       "mu*(Derivative(u_z(x, y, z, t), (x, 2)) + Derivative(u_z(x, y, z, t), (y, 2)) + Derivative(u_z(x, y, z, t), (z, 2))) + (lamda + mu)*(Derivative(u_z(x, y, z, t), (z, 2)) + Derivative(u_x(x, y, z, t), x, z) + Derivative(u_y(x, y, z, t), y, z))"
      ]
     },
     "metadata": {},
     "output_type": "display_data"
    }
   ],
   "source": [
    "coord_system = SymbolicSphericalCoordSystem()\n",
    "material = SymbolicIsotropicMaterial(lamda=sp.Symbol(\"lamda\"), mu=sp.Symbol(\"mu\"))\n",
    "r, theta, phi = coord_system.basis\n",
    "u_r = sp.Function(\"u_r\")(r, theta, phi)\n",
    "u_theta = sp.Function(\"u_theta\")(r, theta, phi)\n",
    "u_phi = sp.Function(\"u_z\")(r, theta, phi)\n",
    "data = sp.NDimArray([u_r, u_theta, u_phi])\n",
    "displacement_field = SymbolicDisplacement(coord_system, data)\n",
    "navier = SymbolicNavier(coord_system, material, displacement)\n",
    "display(*navier.static_equation())"
   ]
  },
  {
   "cell_type": "code",
   "execution_count": 8,
   "metadata": {},
   "outputs": [
    {
     "data": {
      "text/latex": [
       "$\\displaystyle - \\mu \\left(\\frac{\\partial^{2}}{\\partial x^{2}} u_{x}{\\left(x,y,z,t \\right)} + \\frac{\\partial^{2}}{\\partial y^{2}} u_{x}{\\left(x,y,z,t \\right)} + \\frac{\\partial^{2}}{\\partial z^{2}} u_{x}{\\left(x,y,z,t \\right)}\\right) + \\rho \\frac{\\partial^{2}}{\\partial t^{2}} u_{x}{\\left(x,y,z,t \\right)} - \\left(\\lambda + \\mu\\right) \\left(\\frac{\\partial^{2}}{\\partial x^{2}} u_{x}{\\left(x,y,z,t \\right)} + \\frac{\\partial^{2}}{\\partial y\\partial x} u_{y}{\\left(x,y,z,t \\right)} + \\frac{\\partial^{2}}{\\partial z\\partial x} u_{z}{\\left(x,y,z,t \\right)}\\right)$"
      ],
      "text/plain": [
       "-mu*(Derivative(u_x(x, y, z, t), (x, 2)) + Derivative(u_x(x, y, z, t), (y, 2)) + Derivative(u_x(x, y, z, t), (z, 2))) + rho*Derivative(u_x(x, y, z, t), (t, 2)) - (lamda + mu)*(Derivative(u_x(x, y, z, t), (x, 2)) + Derivative(u_y(x, y, z, t), x, y) + Derivative(u_z(x, y, z, t), x, z))"
      ]
     },
     "metadata": {},
     "output_type": "display_data"
    },
    {
     "data": {
      "text/latex": [
       "$\\displaystyle - \\mu \\left(\\frac{\\partial^{2}}{\\partial x^{2}} u_{y}{\\left(x,y,z,t \\right)} + \\frac{\\partial^{2}}{\\partial y^{2}} u_{y}{\\left(x,y,z,t \\right)} + \\frac{\\partial^{2}}{\\partial z^{2}} u_{y}{\\left(x,y,z,t \\right)}\\right) + \\rho \\frac{\\partial^{2}}{\\partial t^{2}} u_{y}{\\left(x,y,z,t \\right)} - \\left(\\lambda + \\mu\\right) \\left(\\frac{\\partial^{2}}{\\partial y^{2}} u_{y}{\\left(x,y,z,t \\right)} + \\frac{\\partial^{2}}{\\partial y\\partial x} u_{x}{\\left(x,y,z,t \\right)} + \\frac{\\partial^{2}}{\\partial z\\partial y} u_{z}{\\left(x,y,z,t \\right)}\\right)$"
      ],
      "text/plain": [
       "-mu*(Derivative(u_y(x, y, z, t), (x, 2)) + Derivative(u_y(x, y, z, t), (y, 2)) + Derivative(u_y(x, y, z, t), (z, 2))) + rho*Derivative(u_y(x, y, z, t), (t, 2)) - (lamda + mu)*(Derivative(u_y(x, y, z, t), (y, 2)) + Derivative(u_x(x, y, z, t), x, y) + Derivative(u_z(x, y, z, t), y, z))"
      ]
     },
     "metadata": {},
     "output_type": "display_data"
    },
    {
     "data": {
      "text/latex": [
       "$\\displaystyle - \\mu \\left(\\frac{\\partial^{2}}{\\partial x^{2}} u_{z}{\\left(x,y,z,t \\right)} + \\frac{\\partial^{2}}{\\partial y^{2}} u_{z}{\\left(x,y,z,t \\right)} + \\frac{\\partial^{2}}{\\partial z^{2}} u_{z}{\\left(x,y,z,t \\right)}\\right) + \\rho \\frac{\\partial^{2}}{\\partial t^{2}} u_{z}{\\left(x,y,z,t \\right)} - \\left(\\lambda + \\mu\\right) \\left(\\frac{\\partial^{2}}{\\partial z^{2}} u_{z}{\\left(x,y,z,t \\right)} + \\frac{\\partial^{2}}{\\partial z\\partial x} u_{x}{\\left(x,y,z,t \\right)} + \\frac{\\partial^{2}}{\\partial z\\partial y} u_{y}{\\left(x,y,z,t \\right)}\\right)$"
      ],
      "text/plain": [
       "-mu*(Derivative(u_z(x, y, z, t), (x, 2)) + Derivative(u_z(x, y, z, t), (y, 2)) + Derivative(u_z(x, y, z, t), (z, 2))) + rho*Derivative(u_z(x, y, z, t), (t, 2)) - (lamda + mu)*(Derivative(u_z(x, y, z, t), (z, 2)) + Derivative(u_x(x, y, z, t), x, z) + Derivative(u_y(x, y, z, t), y, z))"
      ]
     },
     "metadata": {},
     "output_type": "display_data"
    }
   ],
   "source": [
    "coord_system = SymbolicSphericalCoordSystem()\n",
    "material = SymbolicIsotropicMaterial(lamda=sp.Symbol(\"lamda\"), mu=sp.Symbol(\"mu\"), rho=sp.Symbol(\"rho\"))\n",
    "r, theta, phi = coord_system.basis\n",
    "t = sp.Symbol(\"t\")\n",
    "u_r = sp.Function(\"u_r\")(r, theta, phi, t)\n",
    "u_theta = sp.Function(\"u_theta\")(r, theta, phi, t)\n",
    "u_phi = sp.Function(\"u_z\")(r, theta, phi, t)\n",
    "data = sp.NDimArray([u_r, u_theta, u_phi])\n",
    "displacement_field = SymbolicDisplacement(coord_system, data)\n",
    "navier = SymbolicNavier(coord_system, material, displacement)\n",
    "display(*navier.general_equation())"
   ]
  }
 ],
 "metadata": {
  "kernelspec": {
   "display_name": "venv",
   "language": "python",
   "name": "python3"
  },
  "language_info": {
   "codemirror_mode": {
    "name": "ipython",
    "version": 3
   },
   "file_extension": ".py",
   "mimetype": "text/x-python",
   "name": "python",
   "nbconvert_exporter": "python",
   "pygments_lexer": "ipython3",
   "version": "3.10.12"
  }
 },
 "nbformat": 4,
 "nbformat_minor": 2
}
