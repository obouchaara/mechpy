{
 "cells": [
  {
   "cell_type": "code",
   "execution_count": 1,
   "metadata": {},
   "outputs": [],
   "source": [
    "import sympy as sp\n",
    "\n",
    "from mechpy.core.symbolic.coord import (\n",
    "    SymbolicCoordSystem,\n",
    "    SymbolicCartesianCoordSystem,\n",
    "    SymbolicCylindricalCoordSystem,\n",
    "    SymbolicSphericalCoordSystem,\n",
    "    SymbolicDynamicCoordSystem,\n",
    "    SymbolicDynamicCartesianCoordSystem,\n",
    "    SymbolicDynamicCylindricalCoordSystem,\n",
    "    SymbolicDynamicSphericalCoordSystem,\n",
    ")\n",
    "from mechpy.core.symbolic.displacement import SymbolicDisplacement\n",
    "from mechpy.core.symbolic.material import SymbolicIsotropicMaterial\n",
    "from mechpy.core.symbolic.solicitation import SymbolicVolumeForce\n",
    "from mechpy.core.symbolic.navier import SymbolicNavier"
   ]
  },
  {
   "cell_type": "code",
   "execution_count": 2,
   "metadata": {},
   "outputs": [
    {
     "data": {
      "text/latex": [
       "$\\displaystyle \\mu \\left(\\frac{\\partial^{2}}{\\partial x^{2}} u_{x}{\\left(x,y,z \\right)} + \\frac{\\partial^{2}}{\\partial y^{2}} u_{x}{\\left(x,y,z \\right)} + \\frac{\\partial^{2}}{\\partial z^{2}} u_{x}{\\left(x,y,z \\right)}\\right) + \\left(\\lambda + \\mu\\right) \\left(\\frac{\\partial^{2}}{\\partial x^{2}} u_{x}{\\left(x,y,z \\right)} + \\frac{\\partial^{2}}{\\partial y\\partial x} u_{y}{\\left(x,y,z \\right)} + \\frac{\\partial^{2}}{\\partial z\\partial x} u_{z}{\\left(x,y,z \\right)}\\right)$"
      ],
      "text/plain": [
       "mu*(Derivative(u_x(x, y, z), (x, 2)) + Derivative(u_x(x, y, z), (y, 2)) + Derivative(u_x(x, y, z), (z, 2))) + (lamda + mu)*(Derivative(u_x(x, y, z), (x, 2)) + Derivative(u_y(x, y, z), x, y) + Derivative(u_z(x, y, z), x, z))"
      ]
     },
     "metadata": {},
     "output_type": "display_data"
    },
    {
     "data": {
      "text/latex": [
       "$\\displaystyle \\mu \\left(\\frac{\\partial^{2}}{\\partial x^{2}} u_{y}{\\left(x,y,z \\right)} + \\frac{\\partial^{2}}{\\partial y^{2}} u_{y}{\\left(x,y,z \\right)} + \\frac{\\partial^{2}}{\\partial z^{2}} u_{y}{\\left(x,y,z \\right)}\\right) + \\left(\\lambda + \\mu\\right) \\left(\\frac{\\partial^{2}}{\\partial y^{2}} u_{y}{\\left(x,y,z \\right)} + \\frac{\\partial^{2}}{\\partial y\\partial x} u_{x}{\\left(x,y,z \\right)} + \\frac{\\partial^{2}}{\\partial z\\partial y} u_{z}{\\left(x,y,z \\right)}\\right)$"
      ],
      "text/plain": [
       "mu*(Derivative(u_y(x, y, z), (x, 2)) + Derivative(u_y(x, y, z), (y, 2)) + Derivative(u_y(x, y, z), (z, 2))) + (lamda + mu)*(Derivative(u_y(x, y, z), (y, 2)) + Derivative(u_x(x, y, z), x, y) + Derivative(u_z(x, y, z), y, z))"
      ]
     },
     "metadata": {},
     "output_type": "display_data"
    },
    {
     "data": {
      "text/latex": [
       "$\\displaystyle \\mu \\left(\\frac{\\partial^{2}}{\\partial x^{2}} u_{z}{\\left(x,y,z \\right)} + \\frac{\\partial^{2}}{\\partial y^{2}} u_{z}{\\left(x,y,z \\right)} + \\frac{\\partial^{2}}{\\partial z^{2}} u_{z}{\\left(x,y,z \\right)}\\right) + \\left(\\lambda + \\mu\\right) \\left(\\frac{\\partial^{2}}{\\partial z^{2}} u_{z}{\\left(x,y,z \\right)} + \\frac{\\partial^{2}}{\\partial z\\partial x} u_{x}{\\left(x,y,z \\right)} + \\frac{\\partial^{2}}{\\partial z\\partial y} u_{y}{\\left(x,y,z \\right)}\\right)$"
      ],
      "text/plain": [
       "mu*(Derivative(u_z(x, y, z), (x, 2)) + Derivative(u_z(x, y, z), (y, 2)) + Derivative(u_z(x, y, z), (z, 2))) + (lamda + mu)*(Derivative(u_z(x, y, z), (z, 2)) + Derivative(u_x(x, y, z), x, z) + Derivative(u_y(x, y, z), y, z))"
      ]
     },
     "metadata": {},
     "output_type": "display_data"
    }
   ],
   "source": [
    "coord_system = SymbolicCartesianCoordSystem()\n",
    "material = SymbolicIsotropicMaterial(lamda=sp.Symbol(\"lamda\"), mu=sp.Symbol(\"mu\"))\n",
    "x, y, z = coord_system.basis\n",
    "u_x = sp.Function(\"u_x\")(x, y, z)\n",
    "u_y = sp.Function(\"u_y\")(x, y, z)\n",
    "u_z = sp.Function(\"u_z\")(x, y, z)\n",
    "data = sp.NDimArray([u_x, u_y, u_z])\n",
    "displacement = SymbolicDisplacement(coord_system, data)\n",
    "navier = SymbolicNavier(\n",
    "    coord_system=coord_system,\n",
    "    material=material,\n",
    "    displacement=displacement,\n",
    ")\n",
    "display(*navier.equation())"
   ]
  },
  {
   "cell_type": "code",
   "execution_count": 3,
   "metadata": {},
   "outputs": [
    {
     "data": {
      "text/latex": [
       "$\\displaystyle \\mu \\left(\\frac{\\partial^{2}}{\\partial x^{2}} u_{x}{\\left(x,y,z \\right)} + \\frac{\\partial^{2}}{\\partial y^{2}} u_{x}{\\left(x,y,z \\right)} + \\frac{\\partial^{2}}{\\partial z^{2}} u_{x}{\\left(x,y,z \\right)}\\right) + \\left(\\lambda + \\mu\\right) \\left(\\frac{\\partial^{2}}{\\partial x^{2}} u_{x}{\\left(x,y,z \\right)} + \\frac{\\partial^{2}}{\\partial y\\partial x} u_{y}{\\left(x,y,z \\right)} + \\frac{\\partial^{2}}{\\partial z\\partial x} u_{z}{\\left(x,y,z \\right)}\\right) + f_{x}{\\left(x,y,z \\right)}$"
      ],
      "text/plain": [
       "mu*(Derivative(u_x(x, y, z), (x, 2)) + Derivative(u_x(x, y, z), (y, 2)) + Derivative(u_x(x, y, z), (z, 2))) + (lamda + mu)*(Derivative(u_x(x, y, z), (x, 2)) + Derivative(u_y(x, y, z), x, y) + Derivative(u_z(x, y, z), x, z)) + f_x(x, y, z)"
      ]
     },
     "metadata": {},
     "output_type": "display_data"
    },
    {
     "data": {
      "text/latex": [
       "$\\displaystyle \\mu \\left(\\frac{\\partial^{2}}{\\partial x^{2}} u_{y}{\\left(x,y,z \\right)} + \\frac{\\partial^{2}}{\\partial y^{2}} u_{y}{\\left(x,y,z \\right)} + \\frac{\\partial^{2}}{\\partial z^{2}} u_{y}{\\left(x,y,z \\right)}\\right) + \\left(\\lambda + \\mu\\right) \\left(\\frac{\\partial^{2}}{\\partial y^{2}} u_{y}{\\left(x,y,z \\right)} + \\frac{\\partial^{2}}{\\partial y\\partial x} u_{x}{\\left(x,y,z \\right)} + \\frac{\\partial^{2}}{\\partial z\\partial y} u_{z}{\\left(x,y,z \\right)}\\right) + f_{y}{\\left(x,y,z \\right)}$"
      ],
      "text/plain": [
       "mu*(Derivative(u_y(x, y, z), (x, 2)) + Derivative(u_y(x, y, z), (y, 2)) + Derivative(u_y(x, y, z), (z, 2))) + (lamda + mu)*(Derivative(u_y(x, y, z), (y, 2)) + Derivative(u_x(x, y, z), x, y) + Derivative(u_z(x, y, z), y, z)) + f_y(x, y, z)"
      ]
     },
     "metadata": {},
     "output_type": "display_data"
    },
    {
     "data": {
      "text/latex": [
       "$\\displaystyle \\mu \\left(\\frac{\\partial^{2}}{\\partial x^{2}} u_{z}{\\left(x,y,z \\right)} + \\frac{\\partial^{2}}{\\partial y^{2}} u_{z}{\\left(x,y,z \\right)} + \\frac{\\partial^{2}}{\\partial z^{2}} u_{z}{\\left(x,y,z \\right)}\\right) + \\left(\\lambda + \\mu\\right) \\left(\\frac{\\partial^{2}}{\\partial z^{2}} u_{z}{\\left(x,y,z \\right)} + \\frac{\\partial^{2}}{\\partial z\\partial x} u_{x}{\\left(x,y,z \\right)} + \\frac{\\partial^{2}}{\\partial z\\partial y} u_{y}{\\left(x,y,z \\right)}\\right) + f_{z}{\\left(x,y,z \\right)}$"
      ],
      "text/plain": [
       "mu*(Derivative(u_z(x, y, z), (x, 2)) + Derivative(u_z(x, y, z), (y, 2)) + Derivative(u_z(x, y, z), (z, 2))) + (lamda + mu)*(Derivative(u_z(x, y, z), (z, 2)) + Derivative(u_x(x, y, z), x, z) + Derivative(u_y(x, y, z), y, z)) + f_z(x, y, z)"
      ]
     },
     "metadata": {},
     "output_type": "display_data"
    }
   ],
   "source": [
    "coord_system = SymbolicCartesianCoordSystem()\n",
    "material = SymbolicIsotropicMaterial(lamda=sp.Symbol(\"lamda\"), mu=sp.Symbol(\"mu\"))\n",
    "x, y, z = coord_system.basis\n",
    "u_x = sp.Function(\"u_x\")(x, y, z)\n",
    "u_y = sp.Function(\"u_y\")(x, y, z)\n",
    "u_z = sp.Function(\"u_z\")(x, y, z)\n",
    "displacement_data = sp.NDimArray([u_x, u_y, u_z])\n",
    "displacement = SymbolicDisplacement(coord_system, displacement_data)\n",
    "f_x = sp.Function(\"f_x\")(x, y, z)\n",
    "f_y = sp.Function(\"f_y\")(x, y, z)\n",
    "f_z = sp.Function(\"f_z\")(x, y, z)\n",
    "volume_force_data = sp.NDimArray([f_x, f_y, f_z])\n",
    "volume_force = SymbolicVolumeForce(coord_system, volume_force_data)\n",
    "navier = SymbolicNavier(\n",
    "    coord_system=coord_system,\n",
    "    material=material,\n",
    "    displacement=displacement,\n",
    "    volume_force=volume_force,\n",
    ")\n",
    "display(*navier.equation())"
   ]
  },
  {
   "cell_type": "code",
   "execution_count": 4,
   "metadata": {},
   "outputs": [
    {
     "data": {
      "text/latex": [
       "$\\displaystyle - \\mu \\left(\\frac{\\partial^{2}}{\\partial x^{2}} u_{x}{\\left(x,y,z,t \\right)} + \\frac{\\partial^{2}}{\\partial y^{2}} u_{x}{\\left(x,y,z,t \\right)} + \\frac{\\partial^{2}}{\\partial z^{2}} u_{x}{\\left(x,y,z,t \\right)}\\right) + \\rho \\frac{\\partial^{2}}{\\partial t^{2}} u_{x}{\\left(x,y,z,t \\right)} - \\left(\\lambda + \\mu\\right) \\left(\\frac{\\partial^{2}}{\\partial x^{2}} u_{x}{\\left(x,y,z,t \\right)} + \\frac{\\partial^{2}}{\\partial y\\partial x} u_{y}{\\left(x,y,z,t \\right)} + \\frac{\\partial^{2}}{\\partial z\\partial x} u_{z}{\\left(x,y,z,t \\right)}\\right)$"
      ],
      "text/plain": [
       "-mu*(Derivative(u_x(x, y, z, t), (x, 2)) + Derivative(u_x(x, y, z, t), (y, 2)) + Derivative(u_x(x, y, z, t), (z, 2))) + rho*Derivative(u_x(x, y, z, t), (t, 2)) - (lamda + mu)*(Derivative(u_x(x, y, z, t), (x, 2)) + Derivative(u_y(x, y, z, t), x, y) + Derivative(u_z(x, y, z, t), x, z))"
      ]
     },
     "metadata": {},
     "output_type": "display_data"
    },
    {
     "data": {
      "text/latex": [
       "$\\displaystyle - \\mu \\left(\\frac{\\partial^{2}}{\\partial x^{2}} u_{y}{\\left(x,y,z,t \\right)} + \\frac{\\partial^{2}}{\\partial y^{2}} u_{y}{\\left(x,y,z,t \\right)} + \\frac{\\partial^{2}}{\\partial z^{2}} u_{y}{\\left(x,y,z,t \\right)}\\right) + \\rho \\frac{\\partial^{2}}{\\partial t^{2}} u_{y}{\\left(x,y,z,t \\right)} - \\left(\\lambda + \\mu\\right) \\left(\\frac{\\partial^{2}}{\\partial y^{2}} u_{y}{\\left(x,y,z,t \\right)} + \\frac{\\partial^{2}}{\\partial y\\partial x} u_{x}{\\left(x,y,z,t \\right)} + \\frac{\\partial^{2}}{\\partial z\\partial y} u_{z}{\\left(x,y,z,t \\right)}\\right)$"
      ],
      "text/plain": [
       "-mu*(Derivative(u_y(x, y, z, t), (x, 2)) + Derivative(u_y(x, y, z, t), (y, 2)) + Derivative(u_y(x, y, z, t), (z, 2))) + rho*Derivative(u_y(x, y, z, t), (t, 2)) - (lamda + mu)*(Derivative(u_y(x, y, z, t), (y, 2)) + Derivative(u_x(x, y, z, t), x, y) + Derivative(u_z(x, y, z, t), y, z))"
      ]
     },
     "metadata": {},
     "output_type": "display_data"
    },
    {
     "data": {
      "text/latex": [
       "$\\displaystyle - \\mu \\left(\\frac{\\partial^{2}}{\\partial x^{2}} u_{z}{\\left(x,y,z,t \\right)} + \\frac{\\partial^{2}}{\\partial y^{2}} u_{z}{\\left(x,y,z,t \\right)} + \\frac{\\partial^{2}}{\\partial z^{2}} u_{z}{\\left(x,y,z,t \\right)}\\right) + \\rho \\frac{\\partial^{2}}{\\partial t^{2}} u_{z}{\\left(x,y,z,t \\right)} - \\left(\\lambda + \\mu\\right) \\left(\\frac{\\partial^{2}}{\\partial z^{2}} u_{z}{\\left(x,y,z,t \\right)} + \\frac{\\partial^{2}}{\\partial z\\partial x} u_{x}{\\left(x,y,z,t \\right)} + \\frac{\\partial^{2}}{\\partial z\\partial y} u_{y}{\\left(x,y,z,t \\right)}\\right)$"
      ],
      "text/plain": [
       "-mu*(Derivative(u_z(x, y, z, t), (x, 2)) + Derivative(u_z(x, y, z, t), (y, 2)) + Derivative(u_z(x, y, z, t), (z, 2))) + rho*Derivative(u_z(x, y, z, t), (t, 2)) - (lamda + mu)*(Derivative(u_z(x, y, z, t), (z, 2)) + Derivative(u_x(x, y, z, t), x, z) + Derivative(u_y(x, y, z, t), y, z))"
      ]
     },
     "metadata": {},
     "output_type": "display_data"
    }
   ],
   "source": [
    "coord_system = SymbolicDynamicCartesianCoordSystem()\n",
    "material = SymbolicIsotropicMaterial(lamda=sp.Symbol(\"lamda\"), mu=sp.Symbol(\"mu\"), rho=sp.Symbol(\"rho\"))\n",
    "x, y, z, t = coord_system.space_time_basis\n",
    "u_x = sp.Function(\"u_x\")(x, y, z, t)\n",
    "u_y = sp.Function(\"u_y\")(x, y, z, t)\n",
    "u_z = sp.Function(\"u_z\")(x, y, z, t)\n",
    "data = sp.NDimArray([u_x, u_y, u_z])\n",
    "displacement = SymbolicDisplacement(coord_system, data)\n",
    "navier = SymbolicNavier(coord_system, material, displacement)\n",
    "display(*navier.equation())"
   ]
  },
  {
   "cell_type": "code",
   "execution_count": 5,
   "metadata": {},
   "outputs": [
    {
     "data": {
      "text/latex": [
       "$\\displaystyle \\mu \\left(\\frac{\\partial^{2}}{\\partial r^{2}} u_{r}{\\left(r,\\theta,z \\right)} + \\frac{\\partial^{2}}{\\partial z^{2}} u_{r}{\\left(r,\\theta,z \\right)} + \\frac{\\frac{\\partial}{\\partial r} u_{r}{\\left(r,\\theta,z \\right)}}{r} - \\frac{u_{r}{\\left(r,\\theta,z \\right)}}{r^{2}} + \\frac{\\frac{\\partial^{2}}{\\partial \\theta^{2}} u_{r}{\\left(r,\\theta,z \\right)}}{r^{2}} - \\frac{2 \\frac{\\partial}{\\partial \\theta} u_{\\theta}{\\left(r,\\theta,z \\right)}}{r^{2}}\\right) + \\left(\\lambda + \\mu\\right) \\left(\\frac{\\partial^{2}}{\\partial r^{2}} u_{r}{\\left(r,\\theta,z \\right)} + \\frac{\\partial^{2}}{\\partial z\\partial r} u_{z}{\\left(r,\\theta,z \\right)} + \\frac{\\frac{\\partial}{\\partial r} u_{r}{\\left(r,\\theta,z \\right)}}{r} + \\frac{\\frac{\\partial^{2}}{\\partial \\theta\\partial r} u_{\\theta}{\\left(r,\\theta,z \\right)}}{r} - \\frac{u_{r}{\\left(r,\\theta,z \\right)}}{r^{2}} - \\frac{\\frac{\\partial}{\\partial \\theta} u_{\\theta}{\\left(r,\\theta,z \\right)}}{r^{2}}\\right)$"
      ],
      "text/plain": [
       "mu*(Derivative(u_r(r, theta, z), (r, 2)) + Derivative(u_r(r, theta, z), (z, 2)) + Derivative(u_r(r, theta, z), r)/r - u_r(r, theta, z)/r**2 + Derivative(u_r(r, theta, z), (theta, 2))/r**2 - 2*Derivative(u_theta(r, theta, z), theta)/r**2) + (lamda + mu)*(Derivative(u_r(r, theta, z), (r, 2)) + Derivative(u_z(r, theta, z), r, z) + Derivative(u_r(r, theta, z), r)/r + Derivative(u_theta(r, theta, z), r, theta)/r - u_r(r, theta, z)/r**2 - Derivative(u_theta(r, theta, z), theta)/r**2)"
      ]
     },
     "metadata": {},
     "output_type": "display_data"
    },
    {
     "data": {
      "text/latex": [
       "$\\displaystyle \\mu \\left(\\frac{\\partial^{2}}{\\partial r^{2}} u_{\\theta}{\\left(r,\\theta,z \\right)} + \\frac{\\partial^{2}}{\\partial z^{2}} u_{\\theta}{\\left(r,\\theta,z \\right)} + \\frac{\\frac{\\partial}{\\partial r} u_{\\theta}{\\left(r,\\theta,z \\right)}}{r} - \\frac{u_{\\theta}{\\left(r,\\theta,z \\right)}}{r^{2}} + \\frac{2 \\frac{\\partial}{\\partial \\theta} u_{r}{\\left(r,\\theta,z \\right)}}{r^{2}} + \\frac{\\frac{\\partial^{2}}{\\partial \\theta^{2}} u_{\\theta}{\\left(r,\\theta,z \\right)}}{r^{2}}\\right) + \\frac{\\left(\\lambda + \\mu\\right) \\left(\\frac{\\partial^{2}}{\\partial \\theta\\partial r} u_{r}{\\left(r,\\theta,z \\right)} + \\frac{\\partial^{2}}{\\partial z\\partial \\theta} u_{z}{\\left(r,\\theta,z \\right)} + \\frac{\\frac{\\partial}{\\partial \\theta} u_{r}{\\left(r,\\theta,z \\right)}}{r} + \\frac{\\frac{\\partial^{2}}{\\partial \\theta^{2}} u_{\\theta}{\\left(r,\\theta,z \\right)}}{r}\\right)}{r}$"
      ],
      "text/plain": [
       "mu*(Derivative(u_theta(r, theta, z), (r, 2)) + Derivative(u_theta(r, theta, z), (z, 2)) + Derivative(u_theta(r, theta, z), r)/r - u_theta(r, theta, z)/r**2 + 2*Derivative(u_r(r, theta, z), theta)/r**2 + Derivative(u_theta(r, theta, z), (theta, 2))/r**2) + (lamda + mu)*(Derivative(u_r(r, theta, z), r, theta) + Derivative(u_z(r, theta, z), theta, z) + Derivative(u_r(r, theta, z), theta)/r + Derivative(u_theta(r, theta, z), (theta, 2))/r)/r"
      ]
     },
     "metadata": {},
     "output_type": "display_data"
    },
    {
     "data": {
      "text/latex": [
       "$\\displaystyle \\mu \\left(\\frac{\\partial^{2}}{\\partial r^{2}} u_{z}{\\left(r,\\theta,z \\right)} + \\frac{\\partial^{2}}{\\partial z^{2}} u_{z}{\\left(r,\\theta,z \\right)} + \\frac{\\frac{\\partial}{\\partial r} u_{z}{\\left(r,\\theta,z \\right)}}{r} + \\frac{\\frac{\\partial^{2}}{\\partial \\theta^{2}} u_{z}{\\left(r,\\theta,z \\right)}}{r^{2}}\\right) + \\left(\\lambda + \\mu\\right) \\left(\\frac{\\partial^{2}}{\\partial z^{2}} u_{z}{\\left(r,\\theta,z \\right)} + \\frac{\\partial^{2}}{\\partial z\\partial r} u_{r}{\\left(r,\\theta,z \\right)} + \\frac{\\frac{\\partial}{\\partial z} u_{r}{\\left(r,\\theta,z \\right)}}{r} + \\frac{\\frac{\\partial^{2}}{\\partial z\\partial \\theta} u_{\\theta}{\\left(r,\\theta,z \\right)}}{r}\\right)$"
      ],
      "text/plain": [
       "mu*(Derivative(u_z(r, theta, z), (r, 2)) + Derivative(u_z(r, theta, z), (z, 2)) + Derivative(u_z(r, theta, z), r)/r + Derivative(u_z(r, theta, z), (theta, 2))/r**2) + (lamda + mu)*(Derivative(u_z(r, theta, z), (z, 2)) + Derivative(u_r(r, theta, z), r, z) + Derivative(u_r(r, theta, z), z)/r + Derivative(u_theta(r, theta, z), theta, z)/r)"
      ]
     },
     "metadata": {},
     "output_type": "display_data"
    }
   ],
   "source": [
    "coord_system = SymbolicCylindricalCoordSystem()\n",
    "material = SymbolicIsotropicMaterial(lamda=sp.Symbol(\"lamda\"), mu=sp.Symbol(\"mu\"))\n",
    "r, theta, z = coord_system.basis\n",
    "u_r = sp.Function(\"u_r\")(r, theta, z)\n",
    "u_theta = sp.Function(\"u_theta\")(r, theta, z)\n",
    "u_z = sp.Function(\"u_z\")(r, theta, z)\n",
    "data = sp.NDimArray([u_r, u_theta, u_z])\n",
    "displacement = SymbolicDisplacement(coord_system, data)\n",
    "navier = SymbolicNavier(coord_system, material, displacement)\n",
    "display(*navier.equation())"
   ]
  },
  {
   "cell_type": "code",
   "execution_count": 6,
   "metadata": {},
   "outputs": [
    {
     "data": {
      "text/latex": [
       "$\\displaystyle - \\mu \\left(\\frac{\\partial^{2}}{\\partial r^{2}} u_{r}{\\left(r,\\theta,z,t \\right)} + \\frac{\\partial^{2}}{\\partial z^{2}} u_{r}{\\left(r,\\theta,z,t \\right)} + \\frac{\\frac{\\partial}{\\partial r} u_{r}{\\left(r,\\theta,z,t \\right)}}{r} - \\frac{u_{r}{\\left(r,\\theta,z,t \\right)}}{r^{2}} + \\frac{\\frac{\\partial^{2}}{\\partial \\theta^{2}} u_{r}{\\left(r,\\theta,z,t \\right)}}{r^{2}} - \\frac{2 \\frac{\\partial}{\\partial \\theta} u_{\\theta}{\\left(r,\\theta,z,t \\right)}}{r^{2}}\\right) + \\rho \\frac{\\partial^{2}}{\\partial t^{2}} u_{r}{\\left(r,\\theta,z,t \\right)} - \\left(\\lambda + \\mu\\right) \\left(\\frac{\\partial^{2}}{\\partial r^{2}} u_{r}{\\left(r,\\theta,z,t \\right)} + \\frac{\\partial^{2}}{\\partial z\\partial r} u_{z}{\\left(r,\\theta,z,t \\right)} + \\frac{\\frac{\\partial}{\\partial r} u_{r}{\\left(r,\\theta,z,t \\right)}}{r} + \\frac{\\frac{\\partial^{2}}{\\partial \\theta\\partial r} u_{\\theta}{\\left(r,\\theta,z,t \\right)}}{r} - \\frac{u_{r}{\\left(r,\\theta,z,t \\right)}}{r^{2}} - \\frac{\\frac{\\partial}{\\partial \\theta} u_{\\theta}{\\left(r,\\theta,z,t \\right)}}{r^{2}}\\right)$"
      ],
      "text/plain": [
       "-mu*(Derivative(u_r(r, theta, z, t), (r, 2)) + Derivative(u_r(r, theta, z, t), (z, 2)) + Derivative(u_r(r, theta, z, t), r)/r - u_r(r, theta, z, t)/r**2 + Derivative(u_r(r, theta, z, t), (theta, 2))/r**2 - 2*Derivative(u_theta(r, theta, z, t), theta)/r**2) + rho*Derivative(u_r(r, theta, z, t), (t, 2)) - (lamda + mu)*(Derivative(u_r(r, theta, z, t), (r, 2)) + Derivative(u_z(r, theta, z, t), r, z) + Derivative(u_r(r, theta, z, t), r)/r + Derivative(u_theta(r, theta, z, t), r, theta)/r - u_r(r, theta, z, t)/r**2 - Derivative(u_theta(r, theta, z, t), theta)/r**2)"
      ]
     },
     "metadata": {},
     "output_type": "display_data"
    },
    {
     "data": {
      "text/latex": [
       "$\\displaystyle - \\mu \\left(\\frac{\\partial^{2}}{\\partial r^{2}} u_{\\theta}{\\left(r,\\theta,z,t \\right)} + \\frac{\\partial^{2}}{\\partial z^{2}} u_{\\theta}{\\left(r,\\theta,z,t \\right)} + \\frac{\\frac{\\partial}{\\partial r} u_{\\theta}{\\left(r,\\theta,z,t \\right)}}{r} - \\frac{u_{\\theta}{\\left(r,\\theta,z,t \\right)}}{r^{2}} + \\frac{2 \\frac{\\partial}{\\partial \\theta} u_{r}{\\left(r,\\theta,z,t \\right)}}{r^{2}} + \\frac{\\frac{\\partial^{2}}{\\partial \\theta^{2}} u_{\\theta}{\\left(r,\\theta,z,t \\right)}}{r^{2}}\\right) + \\rho \\frac{\\partial^{2}}{\\partial t^{2}} u_{\\theta}{\\left(r,\\theta,z,t \\right)} - \\frac{\\left(\\lambda + \\mu\\right) \\left(\\frac{\\partial^{2}}{\\partial \\theta\\partial r} u_{r}{\\left(r,\\theta,z,t \\right)} + \\frac{\\partial^{2}}{\\partial z\\partial \\theta} u_{z}{\\left(r,\\theta,z,t \\right)} + \\frac{\\frac{\\partial}{\\partial \\theta} u_{r}{\\left(r,\\theta,z,t \\right)}}{r} + \\frac{\\frac{\\partial^{2}}{\\partial \\theta^{2}} u_{\\theta}{\\left(r,\\theta,z,t \\right)}}{r}\\right)}{r}$"
      ],
      "text/plain": [
       "-mu*(Derivative(u_theta(r, theta, z, t), (r, 2)) + Derivative(u_theta(r, theta, z, t), (z, 2)) + Derivative(u_theta(r, theta, z, t), r)/r - u_theta(r, theta, z, t)/r**2 + 2*Derivative(u_r(r, theta, z, t), theta)/r**2 + Derivative(u_theta(r, theta, z, t), (theta, 2))/r**2) + rho*Derivative(u_theta(r, theta, z, t), (t, 2)) - (lamda + mu)*(Derivative(u_r(r, theta, z, t), r, theta) + Derivative(u_z(r, theta, z, t), theta, z) + Derivative(u_r(r, theta, z, t), theta)/r + Derivative(u_theta(r, theta, z, t), (theta, 2))/r)/r"
      ]
     },
     "metadata": {},
     "output_type": "display_data"
    },
    {
     "data": {
      "text/latex": [
       "$\\displaystyle - \\mu \\left(\\frac{\\partial^{2}}{\\partial r^{2}} u_{z}{\\left(r,\\theta,z,t \\right)} + \\frac{\\partial^{2}}{\\partial z^{2}} u_{z}{\\left(r,\\theta,z,t \\right)} + \\frac{\\frac{\\partial}{\\partial r} u_{z}{\\left(r,\\theta,z,t \\right)}}{r} + \\frac{\\frac{\\partial^{2}}{\\partial \\theta^{2}} u_{z}{\\left(r,\\theta,z,t \\right)}}{r^{2}}\\right) + \\rho \\frac{\\partial^{2}}{\\partial t^{2}} u_{z}{\\left(r,\\theta,z,t \\right)} - \\left(\\lambda + \\mu\\right) \\left(\\frac{\\partial^{2}}{\\partial z^{2}} u_{z}{\\left(r,\\theta,z,t \\right)} + \\frac{\\partial^{2}}{\\partial z\\partial r} u_{r}{\\left(r,\\theta,z,t \\right)} + \\frac{\\frac{\\partial}{\\partial z} u_{r}{\\left(r,\\theta,z,t \\right)}}{r} + \\frac{\\frac{\\partial^{2}}{\\partial z\\partial \\theta} u_{\\theta}{\\left(r,\\theta,z,t \\right)}}{r}\\right)$"
      ],
      "text/plain": [
       "-mu*(Derivative(u_z(r, theta, z, t), (r, 2)) + Derivative(u_z(r, theta, z, t), (z, 2)) + Derivative(u_z(r, theta, z, t), r)/r + Derivative(u_z(r, theta, z, t), (theta, 2))/r**2) + rho*Derivative(u_z(r, theta, z, t), (t, 2)) - (lamda + mu)*(Derivative(u_z(r, theta, z, t), (z, 2)) + Derivative(u_r(r, theta, z, t), r, z) + Derivative(u_r(r, theta, z, t), z)/r + Derivative(u_theta(r, theta, z, t), theta, z)/r)"
      ]
     },
     "metadata": {},
     "output_type": "display_data"
    }
   ],
   "source": [
    "coord_system = SymbolicDynamicCylindricalCoordSystem()\n",
    "material = SymbolicIsotropicMaterial(lamda=sp.Symbol(\"lamda\"), mu=sp.Symbol(\"mu\"), rho=sp.Symbol(\"rho\"))\n",
    "r, theta, z, t = coord_system.space_time_basis\n",
    "u_r = sp.Function(\"u_r\")(r, theta, z, t)\n",
    "u_theta = sp.Function(\"u_theta\")(r, theta, z, t)\n",
    "u_z = sp.Function(\"u_z\")(r, theta, z, t)\n",
    "data = sp.NDimArray([u_r, u_theta, u_z])\n",
    "displacement = SymbolicDisplacement(coord_system, data)\n",
    "navier = SymbolicNavier(coord_system, material, displacement)\n",
    "display(*navier.equation())"
   ]
  },
  {
   "cell_type": "code",
   "execution_count": 7,
   "metadata": {},
   "outputs": [
    {
     "data": {
      "text/latex": [
       "$\\displaystyle \\mu \\left(\\frac{\\partial^{2}}{\\partial r^{2}} u_{r}{\\left(r,\\theta,\\phi \\right)} + \\frac{2 \\frac{\\partial}{\\partial r} u_{r}{\\left(r,\\theta,\\phi \\right)}}{r} - \\frac{2 u_{r}{\\left(r,\\theta,\\phi \\right)}}{r^{2}} + \\frac{\\cot{\\left(\\theta \\right)} \\frac{\\partial}{\\partial \\theta} u_{r}{\\left(r,\\theta,\\phi \\right)}}{r^{2}} + \\frac{\\frac{\\partial^{2}}{\\partial \\theta^{2}} u_{r}{\\left(r,\\theta,\\phi \\right)}}{r^{2}} - \\frac{2 \\frac{\\partial}{\\partial \\theta} u_{\\theta}{\\left(r,\\theta,\\phi \\right)}}{r^{2}} - \\frac{2 \\frac{\\partial}{\\partial \\phi} u_{z}{\\left(r,\\theta,\\phi \\right)}}{r^{2} \\sin{\\left(\\theta \\right)}} + \\frac{\\frac{\\partial^{2}}{\\partial \\phi^{2}} u_{r}{\\left(r,\\theta,\\phi \\right)}}{r^{2} \\sin^{2}{\\left(\\theta \\right)}}\\right) + \\left(\\lambda + \\mu\\right) \\left(\\frac{\\partial^{2}}{\\partial r^{2}} u_{r}{\\left(r,\\theta,\\phi \\right)} + \\frac{\\cot{\\left(\\theta \\right)} \\frac{\\partial}{\\partial r} u_{\\theta}{\\left(r,\\theta,\\phi \\right)}}{r} + \\frac{2 \\frac{\\partial}{\\partial r} u_{r}{\\left(r,\\theta,\\phi \\right)}}{r} + \\frac{\\frac{\\partial^{2}}{\\partial \\theta\\partial r} u_{\\theta}{\\left(r,\\theta,\\phi \\right)}}{r} + \\frac{\\frac{\\partial^{2}}{\\partial r\\partial \\phi} u_{z}{\\left(r,\\theta,\\phi \\right)}}{r \\sin{\\left(\\theta \\right)}} - \\frac{2 u_{r}{\\left(r,\\theta,\\phi \\right)}}{r^{2}} - \\frac{u_{\\theta}{\\left(r,\\theta,\\phi \\right)} \\cot{\\left(\\theta \\right)}}{r^{2}} - \\frac{\\frac{\\partial}{\\partial \\theta} u_{\\theta}{\\left(r,\\theta,\\phi \\right)}}{r^{2}} - \\frac{\\frac{\\partial}{\\partial \\phi} u_{z}{\\left(r,\\theta,\\phi \\right)}}{r^{2} \\sin{\\left(\\theta \\right)}}\\right)$"
      ],
      "text/plain": [
       "mu*(Derivative(u_r(r, theta, phi), (r, 2)) + 2*Derivative(u_r(r, theta, phi), r)/r - 2*u_r(r, theta, phi)/r**2 + cot(theta)*Derivative(u_r(r, theta, phi), theta)/r**2 + Derivative(u_r(r, theta, phi), (theta, 2))/r**2 - 2*Derivative(u_theta(r, theta, phi), theta)/r**2 - 2*Derivative(u_z(r, theta, phi), phi)/(r**2*sin(theta)) + Derivative(u_r(r, theta, phi), (phi, 2))/(r**2*sin(theta)**2)) + (lamda + mu)*(Derivative(u_r(r, theta, phi), (r, 2)) + cot(theta)*Derivative(u_theta(r, theta, phi), r)/r + 2*Derivative(u_r(r, theta, phi), r)/r + Derivative(u_theta(r, theta, phi), r, theta)/r + Derivative(u_z(r, theta, phi), phi, r)/(r*sin(theta)) - 2*u_r(r, theta, phi)/r**2 - u_theta(r, theta, phi)*cot(theta)/r**2 - Derivative(u_theta(r, theta, phi), theta)/r**2 - Derivative(u_z(r, theta, phi), phi)/(r**2*sin(theta)))"
      ]
     },
     "metadata": {},
     "output_type": "display_data"
    },
    {
     "data": {
      "text/latex": [
       "$\\displaystyle \\mu \\left(\\frac{\\partial^{2}}{\\partial r^{2}} u_{\\theta}{\\left(r,\\theta,\\phi \\right)} + \\frac{2 \\frac{\\partial}{\\partial r} u_{\\theta}{\\left(r,\\theta,\\phi \\right)}}{r} - \\frac{u_{\\theta}{\\left(r,\\theta,\\phi \\right)}}{r^{2} \\sin^{2}{\\left(\\theta \\right)}} + \\frac{\\cot{\\left(\\theta \\right)} \\frac{\\partial}{\\partial \\theta} u_{\\theta}{\\left(r,\\theta,\\phi \\right)}}{r^{2}} + \\frac{2 \\frac{\\partial}{\\partial \\theta} u_{r}{\\left(r,\\theta,\\phi \\right)}}{r^{2}} + \\frac{\\frac{\\partial^{2}}{\\partial \\theta^{2}} u_{\\theta}{\\left(r,\\theta,\\phi \\right)}}{r^{2}} - \\frac{2 \\cot{\\left(\\theta \\right)} \\frac{\\partial}{\\partial \\phi} u_{z}{\\left(r,\\theta,\\phi \\right)}}{r^{2} \\sin{\\left(\\theta \\right)}} + \\frac{\\frac{\\partial^{2}}{\\partial \\phi^{2}} u_{\\theta}{\\left(r,\\theta,\\phi \\right)}}{r^{2} \\sin^{2}{\\left(\\theta \\right)}}\\right) + \\frac{\\left(\\lambda + \\mu\\right) \\left(\\frac{\\partial^{2}}{\\partial \\theta\\partial r} u_{r}{\\left(r,\\theta,\\phi \\right)} + \\frac{\\left(- \\cot^{2}{\\left(\\theta \\right)} - 1\\right) u_{\\theta}{\\left(r,\\theta,\\phi \\right)}}{r} + \\frac{\\cot{\\left(\\theta \\right)} \\frac{\\partial}{\\partial \\theta} u_{\\theta}{\\left(r,\\theta,\\phi \\right)}}{r} + \\frac{2 \\frac{\\partial}{\\partial \\theta} u_{r}{\\left(r,\\theta,\\phi \\right)}}{r} + \\frac{\\frac{\\partial^{2}}{\\partial \\theta^{2}} u_{\\theta}{\\left(r,\\theta,\\phi \\right)}}{r} + \\frac{\\frac{\\partial^{2}}{\\partial \\theta\\partial \\phi} u_{z}{\\left(r,\\theta,\\phi \\right)}}{r \\sin{\\left(\\theta \\right)}} - \\frac{\\cos{\\left(\\theta \\right)} \\frac{\\partial}{\\partial \\phi} u_{z}{\\left(r,\\theta,\\phi \\right)}}{r \\sin^{2}{\\left(\\theta \\right)}}\\right)}{r}$"
      ],
      "text/plain": [
       "mu*(Derivative(u_theta(r, theta, phi), (r, 2)) + 2*Derivative(u_theta(r, theta, phi), r)/r - u_theta(r, theta, phi)/(r**2*sin(theta)**2) + cot(theta)*Derivative(u_theta(r, theta, phi), theta)/r**2 + 2*Derivative(u_r(r, theta, phi), theta)/r**2 + Derivative(u_theta(r, theta, phi), (theta, 2))/r**2 - 2*cot(theta)*Derivative(u_z(r, theta, phi), phi)/(r**2*sin(theta)) + Derivative(u_theta(r, theta, phi), (phi, 2))/(r**2*sin(theta)**2)) + (lamda + mu)*(Derivative(u_r(r, theta, phi), r, theta) + (-cot(theta)**2 - 1)*u_theta(r, theta, phi)/r + cot(theta)*Derivative(u_theta(r, theta, phi), theta)/r + 2*Derivative(u_r(r, theta, phi), theta)/r + Derivative(u_theta(r, theta, phi), (theta, 2))/r + Derivative(u_z(r, theta, phi), phi, theta)/(r*sin(theta)) - cos(theta)*Derivative(u_z(r, theta, phi), phi)/(r*sin(theta)**2))/r"
      ]
     },
     "metadata": {},
     "output_type": "display_data"
    },
    {
     "data": {
      "text/latex": [
       "$\\displaystyle \\mu \\left(\\frac{\\partial^{2}}{\\partial r^{2}} u_{z}{\\left(r,\\theta,\\phi \\right)} + \\frac{2 \\frac{\\partial}{\\partial r} u_{z}{\\left(r,\\theta,\\phi \\right)}}{r} - \\frac{u_{z}{\\left(r,\\theta,\\phi \\right)}}{r^{2} \\sin^{2}{\\left(\\theta \\right)}} + \\frac{\\cot{\\left(\\theta \\right)} \\frac{\\partial}{\\partial \\theta} u_{z}{\\left(r,\\theta,\\phi \\right)}}{r^{2}} + \\frac{\\frac{\\partial^{2}}{\\partial \\theta^{2}} u_{z}{\\left(r,\\theta,\\phi \\right)}}{r^{2}} + \\frac{2 \\cot{\\left(\\theta \\right)} \\frac{\\partial}{\\partial \\phi} u_{\\theta}{\\left(r,\\theta,\\phi \\right)}}{r^{2} \\sin{\\left(\\theta \\right)}} + \\frac{2 \\frac{\\partial}{\\partial \\phi} u_{r}{\\left(r,\\theta,\\phi \\right)}}{r^{2} \\sin{\\left(\\theta \\right)}} + \\frac{\\frac{\\partial^{2}}{\\partial \\phi^{2}} u_{z}{\\left(r,\\theta,\\phi \\right)}}{r^{2} \\sin^{2}{\\left(\\theta \\right)}}\\right) + \\frac{\\left(\\lambda + \\mu\\right) \\left(\\frac{\\partial^{2}}{\\partial r\\partial \\phi} u_{r}{\\left(r,\\theta,\\phi \\right)} + \\frac{\\cot{\\left(\\theta \\right)} \\frac{\\partial}{\\partial \\phi} u_{\\theta}{\\left(r,\\theta,\\phi \\right)}}{r} + \\frac{2 \\frac{\\partial}{\\partial \\phi} u_{r}{\\left(r,\\theta,\\phi \\right)}}{r} + \\frac{\\frac{\\partial^{2}}{\\partial \\theta\\partial \\phi} u_{\\theta}{\\left(r,\\theta,\\phi \\right)}}{r} + \\frac{\\frac{\\partial^{2}}{\\partial \\phi^{2}} u_{z}{\\left(r,\\theta,\\phi \\right)}}{r \\sin{\\left(\\theta \\right)}}\\right)}{r \\sin{\\left(\\theta \\right)}}$"
      ],
      "text/plain": [
       "mu*(Derivative(u_z(r, theta, phi), (r, 2)) + 2*Derivative(u_z(r, theta, phi), r)/r - u_z(r, theta, phi)/(r**2*sin(theta)**2) + cot(theta)*Derivative(u_z(r, theta, phi), theta)/r**2 + Derivative(u_z(r, theta, phi), (theta, 2))/r**2 + 2*cot(theta)*Derivative(u_theta(r, theta, phi), phi)/(r**2*sin(theta)) + 2*Derivative(u_r(r, theta, phi), phi)/(r**2*sin(theta)) + Derivative(u_z(r, theta, phi), (phi, 2))/(r**2*sin(theta)**2)) + (lamda + mu)*(Derivative(u_r(r, theta, phi), phi, r) + cot(theta)*Derivative(u_theta(r, theta, phi), phi)/r + 2*Derivative(u_r(r, theta, phi), phi)/r + Derivative(u_theta(r, theta, phi), phi, theta)/r + Derivative(u_z(r, theta, phi), (phi, 2))/(r*sin(theta)))/(r*sin(theta))"
      ]
     },
     "metadata": {},
     "output_type": "display_data"
    }
   ],
   "source": [
    "coord_system = SymbolicSphericalCoordSystem()\n",
    "material = SymbolicIsotropicMaterial(lamda=sp.Symbol(\"lamda\"), mu=sp.Symbol(\"mu\"))\n",
    "r, theta, phi = coord_system.basis\n",
    "u_r = sp.Function(\"u_r\")(r, theta, phi)\n",
    "u_theta = sp.Function(\"u_theta\")(r, theta, phi)\n",
    "u_phi = sp.Function(\"u_z\")(r, theta, phi)\n",
    "data = sp.NDimArray([u_r, u_theta, u_phi])\n",
    "displacement = SymbolicDisplacement(coord_system, data)\n",
    "navier = SymbolicNavier(coord_system, material, displacement)\n",
    "display(*navier.equation())"
   ]
  },
  {
   "cell_type": "code",
   "execution_count": 8,
   "metadata": {},
   "outputs": [
    {
     "data": {
      "text/latex": [
       "$\\displaystyle - \\mu \\left(\\frac{\\partial^{2}}{\\partial r^{2}} u_{r}{\\left(r,\\theta,\\phi,t \\right)} + \\frac{2 \\frac{\\partial}{\\partial r} u_{r}{\\left(r,\\theta,\\phi,t \\right)}}{r} - \\frac{2 u_{r}{\\left(r,\\theta,\\phi,t \\right)}}{r^{2}} + \\frac{\\cot{\\left(\\theta \\right)} \\frac{\\partial}{\\partial \\theta} u_{r}{\\left(r,\\theta,\\phi,t \\right)}}{r^{2}} + \\frac{\\frac{\\partial^{2}}{\\partial \\theta^{2}} u_{r}{\\left(r,\\theta,\\phi,t \\right)}}{r^{2}} - \\frac{2 \\frac{\\partial}{\\partial \\theta} u_{\\theta}{\\left(r,\\theta,\\phi,t \\right)}}{r^{2}} - \\frac{2 \\frac{\\partial}{\\partial \\phi} u_{z}{\\left(r,\\theta,\\phi,t \\right)}}{r^{2} \\sin{\\left(\\theta \\right)}} + \\frac{\\frac{\\partial^{2}}{\\partial \\phi^{2}} u_{r}{\\left(r,\\theta,\\phi,t \\right)}}{r^{2} \\sin^{2}{\\left(\\theta \\right)}}\\right) + \\rho \\frac{\\partial^{2}}{\\partial t^{2}} u_{r}{\\left(r,\\theta,\\phi,t \\right)} - \\left(\\lambda + \\mu\\right) \\left(\\frac{\\partial^{2}}{\\partial r^{2}} u_{r}{\\left(r,\\theta,\\phi,t \\right)} + \\frac{\\cot{\\left(\\theta \\right)} \\frac{\\partial}{\\partial r} u_{\\theta}{\\left(r,\\theta,\\phi,t \\right)}}{r} + \\frac{2 \\frac{\\partial}{\\partial r} u_{r}{\\left(r,\\theta,\\phi,t \\right)}}{r} + \\frac{\\frac{\\partial^{2}}{\\partial \\theta\\partial r} u_{\\theta}{\\left(r,\\theta,\\phi,t \\right)}}{r} + \\frac{\\frac{\\partial^{2}}{\\partial r\\partial \\phi} u_{z}{\\left(r,\\theta,\\phi,t \\right)}}{r \\sin{\\left(\\theta \\right)}} - \\frac{2 u_{r}{\\left(r,\\theta,\\phi,t \\right)}}{r^{2}} - \\frac{u_{\\theta}{\\left(r,\\theta,\\phi,t \\right)} \\cot{\\left(\\theta \\right)}}{r^{2}} - \\frac{\\frac{\\partial}{\\partial \\theta} u_{\\theta}{\\left(r,\\theta,\\phi,t \\right)}}{r^{2}} - \\frac{\\frac{\\partial}{\\partial \\phi} u_{z}{\\left(r,\\theta,\\phi,t \\right)}}{r^{2} \\sin{\\left(\\theta \\right)}}\\right)$"
      ],
      "text/plain": [
       "-mu*(Derivative(u_r(r, theta, phi, t), (r, 2)) + 2*Derivative(u_r(r, theta, phi, t), r)/r - 2*u_r(r, theta, phi, t)/r**2 + cot(theta)*Derivative(u_r(r, theta, phi, t), theta)/r**2 + Derivative(u_r(r, theta, phi, t), (theta, 2))/r**2 - 2*Derivative(u_theta(r, theta, phi, t), theta)/r**2 - 2*Derivative(u_z(r, theta, phi, t), phi)/(r**2*sin(theta)) + Derivative(u_r(r, theta, phi, t), (phi, 2))/(r**2*sin(theta)**2)) + rho*Derivative(u_r(r, theta, phi, t), (t, 2)) - (lamda + mu)*(Derivative(u_r(r, theta, phi, t), (r, 2)) + cot(theta)*Derivative(u_theta(r, theta, phi, t), r)/r + 2*Derivative(u_r(r, theta, phi, t), r)/r + Derivative(u_theta(r, theta, phi, t), r, theta)/r + Derivative(u_z(r, theta, phi, t), phi, r)/(r*sin(theta)) - 2*u_r(r, theta, phi, t)/r**2 - u_theta(r, theta, phi, t)*cot(theta)/r**2 - Derivative(u_theta(r, theta, phi, t), theta)/r**2 - Derivative(u_z(r, theta, phi, t), phi)/(r**2*sin(theta)))"
      ]
     },
     "metadata": {},
     "output_type": "display_data"
    },
    {
     "data": {
      "text/latex": [
       "$\\displaystyle - \\mu \\left(\\frac{\\partial^{2}}{\\partial r^{2}} u_{\\theta}{\\left(r,\\theta,\\phi,t \\right)} + \\frac{2 \\frac{\\partial}{\\partial r} u_{\\theta}{\\left(r,\\theta,\\phi,t \\right)}}{r} - \\frac{u_{\\theta}{\\left(r,\\theta,\\phi,t \\right)}}{r^{2} \\sin^{2}{\\left(\\theta \\right)}} + \\frac{\\cot{\\left(\\theta \\right)} \\frac{\\partial}{\\partial \\theta} u_{\\theta}{\\left(r,\\theta,\\phi,t \\right)}}{r^{2}} + \\frac{2 \\frac{\\partial}{\\partial \\theta} u_{r}{\\left(r,\\theta,\\phi,t \\right)}}{r^{2}} + \\frac{\\frac{\\partial^{2}}{\\partial \\theta^{2}} u_{\\theta}{\\left(r,\\theta,\\phi,t \\right)}}{r^{2}} - \\frac{2 \\cot{\\left(\\theta \\right)} \\frac{\\partial}{\\partial \\phi} u_{z}{\\left(r,\\theta,\\phi,t \\right)}}{r^{2} \\sin{\\left(\\theta \\right)}} + \\frac{\\frac{\\partial^{2}}{\\partial \\phi^{2}} u_{\\theta}{\\left(r,\\theta,\\phi,t \\right)}}{r^{2} \\sin^{2}{\\left(\\theta \\right)}}\\right) + \\rho \\frac{\\partial^{2}}{\\partial t^{2}} u_{\\theta}{\\left(r,\\theta,\\phi,t \\right)} - \\frac{\\left(\\lambda + \\mu\\right) \\left(\\frac{\\partial^{2}}{\\partial \\theta\\partial r} u_{r}{\\left(r,\\theta,\\phi,t \\right)} + \\frac{\\left(- \\cot^{2}{\\left(\\theta \\right)} - 1\\right) u_{\\theta}{\\left(r,\\theta,\\phi,t \\right)}}{r} + \\frac{\\cot{\\left(\\theta \\right)} \\frac{\\partial}{\\partial \\theta} u_{\\theta}{\\left(r,\\theta,\\phi,t \\right)}}{r} + \\frac{2 \\frac{\\partial}{\\partial \\theta} u_{r}{\\left(r,\\theta,\\phi,t \\right)}}{r} + \\frac{\\frac{\\partial^{2}}{\\partial \\theta^{2}} u_{\\theta}{\\left(r,\\theta,\\phi,t \\right)}}{r} + \\frac{\\frac{\\partial^{2}}{\\partial \\theta\\partial \\phi} u_{z}{\\left(r,\\theta,\\phi,t \\right)}}{r \\sin{\\left(\\theta \\right)}} - \\frac{\\cos{\\left(\\theta \\right)} \\frac{\\partial}{\\partial \\phi} u_{z}{\\left(r,\\theta,\\phi,t \\right)}}{r \\sin^{2}{\\left(\\theta \\right)}}\\right)}{r}$"
      ],
      "text/plain": [
       "-mu*(Derivative(u_theta(r, theta, phi, t), (r, 2)) + 2*Derivative(u_theta(r, theta, phi, t), r)/r - u_theta(r, theta, phi, t)/(r**2*sin(theta)**2) + cot(theta)*Derivative(u_theta(r, theta, phi, t), theta)/r**2 + 2*Derivative(u_r(r, theta, phi, t), theta)/r**2 + Derivative(u_theta(r, theta, phi, t), (theta, 2))/r**2 - 2*cot(theta)*Derivative(u_z(r, theta, phi, t), phi)/(r**2*sin(theta)) + Derivative(u_theta(r, theta, phi, t), (phi, 2))/(r**2*sin(theta)**2)) + rho*Derivative(u_theta(r, theta, phi, t), (t, 2)) - (lamda + mu)*(Derivative(u_r(r, theta, phi, t), r, theta) + (-cot(theta)**2 - 1)*u_theta(r, theta, phi, t)/r + cot(theta)*Derivative(u_theta(r, theta, phi, t), theta)/r + 2*Derivative(u_r(r, theta, phi, t), theta)/r + Derivative(u_theta(r, theta, phi, t), (theta, 2))/r + Derivative(u_z(r, theta, phi, t), phi, theta)/(r*sin(theta)) - cos(theta)*Derivative(u_z(r, theta, phi, t), phi)/(r*sin(theta)**2))/r"
      ]
     },
     "metadata": {},
     "output_type": "display_data"
    },
    {
     "data": {
      "text/latex": [
       "$\\displaystyle - \\mu \\left(\\frac{\\partial^{2}}{\\partial r^{2}} u_{z}{\\left(r,\\theta,\\phi,t \\right)} + \\frac{2 \\frac{\\partial}{\\partial r} u_{z}{\\left(r,\\theta,\\phi,t \\right)}}{r} - \\frac{u_{z}{\\left(r,\\theta,\\phi,t \\right)}}{r^{2} \\sin^{2}{\\left(\\theta \\right)}} + \\frac{\\cot{\\left(\\theta \\right)} \\frac{\\partial}{\\partial \\theta} u_{z}{\\left(r,\\theta,\\phi,t \\right)}}{r^{2}} + \\frac{\\frac{\\partial^{2}}{\\partial \\theta^{2}} u_{z}{\\left(r,\\theta,\\phi,t \\right)}}{r^{2}} + \\frac{2 \\cot{\\left(\\theta \\right)} \\frac{\\partial}{\\partial \\phi} u_{\\theta}{\\left(r,\\theta,\\phi,t \\right)}}{r^{2} \\sin{\\left(\\theta \\right)}} + \\frac{2 \\frac{\\partial}{\\partial \\phi} u_{r}{\\left(r,\\theta,\\phi,t \\right)}}{r^{2} \\sin{\\left(\\theta \\right)}} + \\frac{\\frac{\\partial^{2}}{\\partial \\phi^{2}} u_{z}{\\left(r,\\theta,\\phi,t \\right)}}{r^{2} \\sin^{2}{\\left(\\theta \\right)}}\\right) + \\rho \\frac{\\partial^{2}}{\\partial t^{2}} u_{z}{\\left(r,\\theta,\\phi,t \\right)} - \\frac{\\left(\\lambda + \\mu\\right) \\left(\\frac{\\partial^{2}}{\\partial r\\partial \\phi} u_{r}{\\left(r,\\theta,\\phi,t \\right)} + \\frac{\\cot{\\left(\\theta \\right)} \\frac{\\partial}{\\partial \\phi} u_{\\theta}{\\left(r,\\theta,\\phi,t \\right)}}{r} + \\frac{2 \\frac{\\partial}{\\partial \\phi} u_{r}{\\left(r,\\theta,\\phi,t \\right)}}{r} + \\frac{\\frac{\\partial^{2}}{\\partial \\theta\\partial \\phi} u_{\\theta}{\\left(r,\\theta,\\phi,t \\right)}}{r} + \\frac{\\frac{\\partial^{2}}{\\partial \\phi^{2}} u_{z}{\\left(r,\\theta,\\phi,t \\right)}}{r \\sin{\\left(\\theta \\right)}}\\right)}{r \\sin{\\left(\\theta \\right)}}$"
      ],
      "text/plain": [
       "-mu*(Derivative(u_z(r, theta, phi, t), (r, 2)) + 2*Derivative(u_z(r, theta, phi, t), r)/r - u_z(r, theta, phi, t)/(r**2*sin(theta)**2) + cot(theta)*Derivative(u_z(r, theta, phi, t), theta)/r**2 + Derivative(u_z(r, theta, phi, t), (theta, 2))/r**2 + 2*cot(theta)*Derivative(u_theta(r, theta, phi, t), phi)/(r**2*sin(theta)) + 2*Derivative(u_r(r, theta, phi, t), phi)/(r**2*sin(theta)) + Derivative(u_z(r, theta, phi, t), (phi, 2))/(r**2*sin(theta)**2)) + rho*Derivative(u_z(r, theta, phi, t), (t, 2)) - (lamda + mu)*(Derivative(u_r(r, theta, phi, t), phi, r) + cot(theta)*Derivative(u_theta(r, theta, phi, t), phi)/r + 2*Derivative(u_r(r, theta, phi, t), phi)/r + Derivative(u_theta(r, theta, phi, t), phi, theta)/r + Derivative(u_z(r, theta, phi, t), (phi, 2))/(r*sin(theta)))/(r*sin(theta))"
      ]
     },
     "metadata": {},
     "output_type": "display_data"
    }
   ],
   "source": [
    "coord_system = SymbolicDynamicSphericalCoordSystem()\n",
    "material = SymbolicIsotropicMaterial(lamda=sp.Symbol(\"lamda\"), mu=sp.Symbol(\"mu\"), rho=sp.Symbol(\"rho\"))\n",
    "r, theta, phi, t = coord_system.space_time_basis\n",
    "u_r = sp.Function(\"u_r\")(r, theta, phi, t)\n",
    "u_theta = sp.Function(\"u_theta\")(r, theta, phi, t)\n",
    "u_phi = sp.Function(\"u_z\")(r, theta, phi, t)\n",
    "data = sp.NDimArray([u_r, u_theta, u_phi])\n",
    "displacement = SymbolicDisplacement(coord_system, data)\n",
    "navier = SymbolicNavier(coord_system, material, displacement)\n",
    "display(*navier.equation())"
   ]
  },
  {
   "cell_type": "code",
   "execution_count": null,
   "metadata": {},
   "outputs": [],
   "source": []
  }
 ],
 "metadata": {
  "kernelspec": {
   "display_name": "venv",
   "language": "python",
   "name": "python3"
  },
  "language_info": {
   "codemirror_mode": {
    "name": "ipython",
    "version": 3
   },
   "file_extension": ".py",
   "mimetype": "text/x-python",
   "name": "python",
   "nbconvert_exporter": "python",
   "pygments_lexer": "ipython3",
   "version": "3.10.12"
  }
 },
 "nbformat": 4,
 "nbformat_minor": 2
}
