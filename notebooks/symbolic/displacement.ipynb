{
 "cells": [
  {
   "cell_type": "markdown",
   "metadata": {},
   "source": [
    "# Symbolic Displacement Notebook"
   ]
  },
  {
   "cell_type": "code",
   "execution_count": 1,
   "metadata": {},
   "outputs": [],
   "source": [
    "import sympy as sp\n",
    "\n",
    "from mechpy.core.symbolic.coord import (\n",
    "    SymbolicCartesianCoordSystem,\n",
    "    SymbolicCylindricalCoordSystem,\n",
    ")\n",
    "from mechpy.core.symbolic.displacement import SymbolicDisplacement"
   ]
  },
  {
   "cell_type": "markdown",
   "metadata": {},
   "source": [
    "## Cartesian Coord"
   ]
  },
  {
   "cell_type": "code",
   "execution_count": 2,
   "metadata": {},
   "outputs": [
    {
     "data": {
      "text/latex": [
       "$\\displaystyle \\left[\\begin{matrix}x + 2 y + 3 z & 4 x + 5 y + 6 z & 7 x + 8 y + 9 z\\end{matrix}\\right]$"
      ],
      "text/plain": [
       "[x + 2*y + 3*z, 4*x + 5*y + 6*z, 7*x + 8*y + 9*z]"
      ]
     },
     "metadata": {},
     "output_type": "display_data"
    }
   ],
   "source": [
    "data = sp.Array([[1, 2, 3], [4, 5, 6], [7, 8, 9]])\n",
    "displacement_field = SymbolicDisplacement.create_linear(data)\n",
    "display(displacement_field.data)"
   ]
  },
  {
   "cell_type": "code",
   "execution_count": 3,
   "metadata": {},
   "outputs": [
    {
     "data": {
      "text/latex": [
       "$\\displaystyle \\left[\\begin{matrix}1 & 5 & 9 & 6 & 14 & 10\\end{matrix}\\right]$"
      ],
      "text/plain": [
       "[1, 5, 9, 6, 14, 10]"
      ]
     },
     "metadata": {},
     "output_type": "display_data"
    },
    {
     "data": {
      "text/latex": [
       "$\\displaystyle \\left[\\begin{matrix}1 & 5 & 9\\\\5 & 3 & 7\\\\9 & 7 & 5\\end{matrix}\\right]$"
      ],
      "text/plain": [
       "[[1, 5, 9], [5, 3, 7], [9, 7, 5]]"
      ]
     },
     "metadata": {},
     "output_type": "display_data"
    }
   ],
   "source": [
    "strain_tensor = displacement_field.strain_tensor()\n",
    "display(strain_tensor.data)\n",
    "display(strain_tensor.to_general().data)"
   ]
  },
  {
   "cell_type": "markdown",
   "metadata": {},
   "source": [
    "## Cylindrical Coord"
   ]
  },
  {
   "cell_type": "code",
   "execution_count": 4,
   "metadata": {},
   "outputs": [
    {
     "data": {
      "text/latex": [
       "$\\displaystyle \\left[\\begin{matrix}\\sqrt{x^{2} + y^{2}} & \\operatorname{atan}_{2}{\\left(y,x \\right)} & z\\end{matrix}\\right]$"
      ],
      "text/plain": [
       "[sqrt(x**2 + y**2), atan2(y, x), z]"
      ]
     },
     "metadata": {},
     "output_type": "display_data"
    }
   ],
   "source": [
    "cartesian_system = SymbolicCartesianCoordSystem()\n",
    "coord_system = cartesian_system.to_cylindrical()\n",
    "display(coord_system.basis_symbols)"
   ]
  },
  {
   "cell_type": "code",
   "execution_count": 5,
   "metadata": {},
   "outputs": [
    {
     "data": {
      "text/latex": [
       "$\\displaystyle \\left[\\begin{matrix}x^{2} + y^{2} + z & \\operatorname{atan}_{2}{\\left(y,x \\right)} & z + \\sqrt{x^{2} + y^{2}}\\end{matrix}\\right]$"
      ],
      "text/plain": [
       "[x**2 + y**2 + z, atan2(y, x), z + sqrt(x**2 + y**2)]"
      ]
     },
     "metadata": {},
     "output_type": "display_data"
    }
   ],
   "source": [
    "x1, x2, x3 = coord_system.basis_symbols\n",
    "data = [x1*x1+x3, x2, x1+x3]\n",
    "displacement_field = SymbolicDisplacement.create(data, cartesian_system)\n",
    "display(displacement_field.data)"
   ]
  },
  {
   "cell_type": "code",
   "execution_count": 6,
   "metadata": {},
   "outputs": [
    {
     "data": {
      "text/latex": [
       "$\\displaystyle \\left[\\begin{matrix}2 x & \\frac{x}{x^{2} + y^{2}} & 1\\\\\\frac{x}{x^{2} + y^{2}} & y - \\frac{y}{2 \\left(x^{2} + y^{2}\\right)} & \\frac{y}{2 \\sqrt{x^{2} + y^{2}}}\\\\1 & \\frac{y}{2 \\sqrt{x^{2} + y^{2}}} & \\frac{x}{2 \\sqrt{x^{2} + y^{2}}} + \\frac{1}{2}\\end{matrix}\\right]$"
      ],
      "text/plain": [
       "[[2*x, x/(x**2 + y**2), 1], [x/(x**2 + y**2), y - y/(2*(x**2 + y**2)), y/(2*sqrt(x**2 + y**2))], [1, y/(2*sqrt(x**2 + y**2)), x/(2*sqrt(x**2 + y**2)) + 1/2]]"
      ]
     },
     "metadata": {},
     "output_type": "display_data"
    }
   ],
   "source": [
    "strain_tensor = displacement_field.strain_tensor(cartesian_system)\n",
    "display(strain_tensor.to_general().data)"
   ]
  },
  {
   "cell_type": "code",
   "execution_count": 7,
   "metadata": {},
   "outputs": [
    {
     "data": {
      "text/plain": [
       "(x, y, z)"
      ]
     },
     "metadata": {},
     "output_type": "display_data"
    },
    {
     "data": {
      "text/plain": [
       "(r, theta, z)"
      ]
     },
     "metadata": {},
     "output_type": "display_data"
    },
    {
     "data": {
      "text/plain": [
       "(r(x, y), theta(x), z)"
      ]
     },
     "metadata": {},
     "output_type": "display_data"
    }
   ],
   "source": [
    "cartesian_system = SymbolicCartesianCoordSystem()\n",
    "display(cartesian_system.basis_symbols)\n",
    "x1_1, x2_1, x3_1 = cartesian_system.basis_symbols\n",
    "cylindrical_system = SymbolicCylindricalCoordSystem()\n",
    "display(cylindrical_system.basis_symbols)\n",
    "x1_2, x2_2, x3_2 = cylindrical_system.basis_symbols\n",
    "custom_basis_symbols = sp.Function(x1_2)(x1_1, x2_1), sp.Function(x2_2)(x1_1), x3_2\n",
    "display(custom_basis_symbols)\n",
    "custom_cylindrical_system = SymbolicCylindricalCoordSystem(custom_basis_symbols)"
   ]
  },
  {
   "cell_type": "code",
   "execution_count": 8,
   "metadata": {},
   "outputs": [
    {
     "ename": "ValueError",
     "evalue": "The field data contains symbols not in the basis or field parameters: y, x",
     "output_type": "error",
     "traceback": [
      "\u001b[0;31m---------------------------------------------------------------------------\u001b[0m",
      "\u001b[0;31mValueError\u001b[0m                                Traceback (most recent call last)",
      "Cell \u001b[0;32mIn[8], line 3\u001b[0m\n\u001b[1;32m      1\u001b[0m x1, x2, x3 \u001b[38;5;241m=\u001b[39m custom_cylindrical_system\u001b[38;5;241m.\u001b[39mbasis_symbols\n\u001b[1;32m      2\u001b[0m data \u001b[38;5;241m=\u001b[39m [x1\u001b[38;5;241m*\u001b[39mx1, x1\u001b[38;5;241m+\u001b[39mx2, x3\u001b[38;5;241m*\u001b[39mx3]\n\u001b[0;32m----> 3\u001b[0m displacement_field \u001b[38;5;241m=\u001b[39m \u001b[43mSymbolicDisplacement\u001b[49m\u001b[38;5;241;43m.\u001b[39;49m\u001b[43mcreate\u001b[49m\u001b[43m(\u001b[49m\u001b[43mdata\u001b[49m\u001b[43m,\u001b[49m\u001b[43m \u001b[49m\u001b[43mcustom_cylindrical_system\u001b[49m\u001b[43m)\u001b[49m\n\u001b[1;32m      4\u001b[0m display(displacement_field\u001b[38;5;241m.\u001b[39mdata)\n",
      "File \u001b[0;32m~/mechpy/src/mechpy/core/symbolic/field.py:265\u001b[0m, in \u001b[0;36mSymbolicVectorField.create\u001b[0;34m(cls, data, coord_system, field_params)\u001b[0m\n\u001b[1;32m    261\u001b[0m         \u001b[38;5;28;01mraise\u001b[39;00m \u001b[38;5;167;01mValueError\u001b[39;00m(\u001b[38;5;124m\"\u001b[39m\u001b[38;5;124mConversion error\u001b[39m\u001b[38;5;124m\"\u001b[39m)\n\u001b[1;32m    263\u001b[0m     data \u001b[38;5;241m=\u001b[39m sp\u001b[38;5;241m.\u001b[39mImmutableDenseNDimArray(data)\n\u001b[0;32m--> 265\u001b[0m \u001b[38;5;28;01mreturn\u001b[39;00m \u001b[38;5;28;43mcls\u001b[39;49m\u001b[43m(\u001b[49m\u001b[43mdata\u001b[49m\u001b[43m,\u001b[49m\u001b[43m \u001b[49m\u001b[43mcoord_system\u001b[49m\u001b[43m,\u001b[49m\u001b[43m \u001b[49m\u001b[43mfield_params\u001b[49m\u001b[43m)\u001b[49m\n",
      "File \u001b[0;32m~/mechpy/src/mechpy/core/symbolic/displacement.py:10\u001b[0m, in \u001b[0;36mSymbolicDisplacement.__init__\u001b[0;34m(self, data, coord_system, field_params)\u001b[0m\n\u001b[1;32m      9\u001b[0m \u001b[38;5;28;01mdef\u001b[39;00m \u001b[38;5;21m__init__\u001b[39m(\u001b[38;5;28mself\u001b[39m, data, coord_system\u001b[38;5;241m=\u001b[39m\u001b[38;5;28;01mNone\u001b[39;00m, field_params\u001b[38;5;241m=\u001b[39m\u001b[38;5;28;01mNone\u001b[39;00m):\n\u001b[0;32m---> 10\u001b[0m     \u001b[38;5;28;43msuper\u001b[39;49m\u001b[43m(\u001b[49m\u001b[43m)\u001b[49m\u001b[38;5;241;43m.\u001b[39;49m\u001b[38;5;21;43m__init__\u001b[39;49m\u001b[43m(\u001b[49m\u001b[43mdata\u001b[49m\u001b[43m,\u001b[49m\u001b[43m \u001b[49m\u001b[43mcoord_system\u001b[49m\u001b[43m,\u001b[49m\u001b[43m \u001b[49m\u001b[43mfield_params\u001b[49m\u001b[43m)\u001b[49m\n",
      "File \u001b[0;32m~/mechpy/src/mechpy/core/symbolic/field.py:176\u001b[0m, in \u001b[0;36mSymbolicSpatialField.__init__\u001b[0;34m(self, data, coord_system, field_params)\u001b[0m\n\u001b[1;32m    173\u001b[0m     data \u001b[38;5;241m=\u001b[39m sp\u001b[38;5;241m.\u001b[39mImmutableDenseNDimArray(data)\n\u001b[1;32m    175\u001b[0m \u001b[38;5;28;01mif\u001b[39;00m \u001b[38;5;28misinstance\u001b[39m(data, (sp\u001b[38;5;241m.\u001b[39mExpr, sp\u001b[38;5;241m.\u001b[39mImmutableDenseNDimArray)):\n\u001b[0;32m--> 176\u001b[0m     \u001b[38;5;28;43msuper\u001b[39;49m\u001b[43m(\u001b[49m\u001b[43m)\u001b[49m\u001b[38;5;241;43m.\u001b[39;49m\u001b[38;5;21;43m__init__\u001b[39;49m\u001b[43m(\u001b[49m\u001b[43mdata\u001b[49m\u001b[43m,\u001b[49m\u001b[43m \u001b[49m\u001b[43mcoord_system\u001b[49m\u001b[43m,\u001b[49m\u001b[43m \u001b[49m\u001b[43mfield_params\u001b[49m\u001b[43m)\u001b[49m\n\u001b[1;32m    177\u001b[0m \u001b[38;5;28;01melse\u001b[39;00m:\n\u001b[1;32m    178\u001b[0m     \u001b[38;5;28;01mraise\u001b[39;00m \u001b[38;5;167;01mValueError\u001b[39;00m(\u001b[38;5;124m\"\u001b[39m\u001b[38;5;124mInput data must be a SymPy Expr or SymPy Array\u001b[39m\u001b[38;5;124m\"\u001b[39m)\n",
      "File \u001b[0;32m~/mechpy/src/mechpy/core/symbolic/field.py:21\u001b[0m, in \u001b[0;36mSymbolicField.__init__\u001b[0;34m(self, data, coord_system, field_params)\u001b[0m\n\u001b[1;32m     19\u001b[0m     \u001b[38;5;28mself\u001b[39m\u001b[38;5;241m.\u001b[39mcoord_system \u001b[38;5;241m=\u001b[39m coord_system\n\u001b[1;32m     20\u001b[0m     \u001b[38;5;28mself\u001b[39m\u001b[38;5;241m.\u001b[39mfield_params \u001b[38;5;241m=\u001b[39m field_params \u001b[38;5;129;01mor\u001b[39;00m {}\n\u001b[0;32m---> 21\u001b[0m     \u001b[38;5;28;43mself\u001b[39;49m\u001b[38;5;241;43m.\u001b[39;49m\u001b[43mvalidate_field\u001b[49m\u001b[43m(\u001b[49m\u001b[43m)\u001b[49m\n\u001b[1;32m     22\u001b[0m \u001b[38;5;28;01melse\u001b[39;00m:\n\u001b[1;32m     23\u001b[0m     \u001b[38;5;28;01mraise\u001b[39;00m \u001b[38;5;167;01mValueError\u001b[39;00m(\u001b[38;5;124m\"\u001b[39m\u001b[38;5;124mcoord system must be a SymbolicCoordSystem\u001b[39m\u001b[38;5;124m\"\u001b[39m)\n",
      "File \u001b[0;32m~/mechpy/src/mechpy/core/symbolic/field.py:30\u001b[0m, in \u001b[0;36mSymbolicField.validate_field\u001b[0;34m(self)\u001b[0m\n\u001b[1;32m     28\u001b[0m \u001b[38;5;28;01mdef\u001b[39;00m \u001b[38;5;21mvalidate_field\u001b[39m(\u001b[38;5;28mself\u001b[39m):\n\u001b[1;32m     29\u001b[0m     \u001b[38;5;28mself\u001b[39m\u001b[38;5;241m.\u001b[39mvalidate_field_params()\n\u001b[0;32m---> 30\u001b[0m     \u001b[38;5;28;43mself\u001b[39;49m\u001b[38;5;241;43m.\u001b[39;49m\u001b[43mvalidate_basis_symbols\u001b[49m\u001b[43m(\u001b[49m\u001b[43m)\u001b[49m\n",
      "File \u001b[0;32m~/mechpy/src/mechpy/core/symbolic/field.py:83\u001b[0m, in \u001b[0;36mSymbolicField.validate_basis_symbols\u001b[0;34m(self)\u001b[0m\n\u001b[1;32m     81\u001b[0m invalid_symbols \u001b[38;5;241m=\u001b[39m free_symbols \u001b[38;5;241m-\u001b[39m valid_symbols\n\u001b[1;32m     82\u001b[0m \u001b[38;5;28;01mif\u001b[39;00m invalid_symbols:\n\u001b[0;32m---> 83\u001b[0m     \u001b[38;5;28;01mraise\u001b[39;00m \u001b[38;5;167;01mValueError\u001b[39;00m(\n\u001b[1;32m     84\u001b[0m         \u001b[38;5;124m\"\u001b[39m\u001b[38;5;124mThe field data contains symbols not in the basis or field parameters: \u001b[39m\u001b[38;5;124m\"\u001b[39m\n\u001b[1;32m     85\u001b[0m         \u001b[38;5;241m+\u001b[39m \u001b[38;5;124m\"\u001b[39m\u001b[38;5;124m, \u001b[39m\u001b[38;5;124m\"\u001b[39m\u001b[38;5;241m.\u001b[39mjoin(\u001b[38;5;28mstr\u001b[39m(symbol) \u001b[38;5;28;01mfor\u001b[39;00m symbol \u001b[38;5;129;01min\u001b[39;00m invalid_symbols)\n\u001b[1;32m     86\u001b[0m     )\n",
      "\u001b[0;31mValueError\u001b[0m: The field data contains symbols not in the basis or field parameters: y, x"
     ]
    }
   ],
   "source": [
    "x1, x2, x3 = custom_cylindrical_system.basis_symbols\n",
    "data = [x1*x1, x1+x2, x3*x3]\n",
    "displacement_field = SymbolicDisplacement.create(data, custom_cylindrical_system)\n",
    "display(displacement_field.data)"
   ]
  },
  {
   "cell_type": "code",
   "execution_count": null,
   "metadata": {},
   "outputs": [
    {
     "data": {
      "text/latex": [
       "$\\displaystyle \\left[\\begin{matrix}2 r{\\left(x,y \\right)} \\frac{\\partial}{\\partial x} r{\\left(x,y \\right)} & \\frac{\\partial}{\\partial y} r{\\left(x,y \\right)} & 2 z\\\\\\frac{\\partial}{\\partial y} r{\\left(x,y \\right)} & r{\\left(x,y \\right)} \\frac{\\partial}{\\partial y} r{\\left(x,y \\right)} + \\frac{\\frac{\\partial}{\\partial x} r{\\left(x,y \\right)}}{2} + \\frac{\\frac{d}{d x} \\theta{\\left(x \\right)}}{2} & 0\\\\2 z & 0 & 0\\end{matrix}\\right]$"
      ],
      "text/plain": [
       "[[2*r(x, y)*Derivative(r(x, y), x), Derivative(r(x, y), y), 2*z], [Derivative(r(x, y), y), r(x, y)*Derivative(r(x, y), y) + Derivative(r(x, y), x)/2 + Derivative(theta(x), x)/2, 0], [2*z, 0, 0]]"
      ]
     },
     "metadata": {},
     "output_type": "display_data"
    }
   ],
   "source": [
    "strain_tensor = displacement_field.strain_tensor(cartesian_system)\n",
    "display(strain_tensor.to_general().data)"
   ]
  }
 ],
 "metadata": {
  "kernelspec": {
   "display_name": "Python 3 (ipykernel)",
   "language": "python",
   "name": "python3"
  },
  "language_info": {
   "codemirror_mode": {
    "name": "ipython",
    "version": 3
   },
   "file_extension": ".py",
   "mimetype": "text/x-python",
   "name": "python",
   "nbconvert_exporter": "python",
   "pygments_lexer": "ipython3",
   "version": "3.10.12"
  }
 },
 "nbformat": 4,
 "nbformat_minor": 2
}
