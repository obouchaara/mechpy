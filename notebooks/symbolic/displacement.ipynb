{
 "cells": [
  {
   "cell_type": "markdown",
   "metadata": {},
   "source": [
    "# Symbolic Displacement Notebook"
   ]
  },
  {
   "cell_type": "code",
   "execution_count": 1,
   "metadata": {},
   "outputs": [],
   "source": [
    "import sympy as sp\n",
    "\n",
    "from mechpy.core.symbolic.coord import (\n",
    "    SymbolicCartesianCoordSystem,\n",
    "    SymbolicCylindricalCoordSystem,\n",
    ")\n",
    "from mechpy.core.symbolic.displacement import SymbolicDisplacement"
   ]
  },
  {
   "cell_type": "markdown",
   "metadata": {},
   "source": [
    "## Cartesian Coord"
   ]
  },
  {
   "cell_type": "code",
   "execution_count": 2,
   "metadata": {},
   "outputs": [
    {
     "data": {
      "text/latex": [
       "$\\displaystyle \\left[\\begin{matrix}x + 2 y + 3 z & 4 x + 5 y + 6 z & 7 x + 8 y + 9 z\\end{matrix}\\right]$"
      ],
      "text/plain": [
       "[x + 2*y + 3*z, 4*x + 5*y + 6*z, 7*x + 8*y + 9*z]"
      ]
     },
     "metadata": {},
     "output_type": "display_data"
    }
   ],
   "source": [
    "data = sp.Array([[1, 2, 3], [4, 5, 6], [7, 8, 9]])\n",
    "displacement_field = SymbolicDisplacement.create_linear(data)\n",
    "display(displacement_field.data)"
   ]
  },
  {
   "cell_type": "code",
   "execution_count": 3,
   "metadata": {},
   "outputs": [
    {
     "data": {
      "text/latex": [
       "$\\displaystyle \\left[\\begin{matrix}1 & 5 & 9 & 6 & 14 & 10\\end{matrix}\\right]$"
      ],
      "text/plain": [
       "[1, 5, 9, 6, 14, 10]"
      ]
     },
     "metadata": {},
     "output_type": "display_data"
    },
    {
     "data": {
      "text/latex": [
       "$\\displaystyle \\left[\\begin{matrix}1 & 5 & 9\\\\5 & 3 & 7\\\\9 & 7 & 5\\end{matrix}\\right]$"
      ],
      "text/plain": [
       "[[1, 5, 9], [5, 3, 7], [9, 7, 5]]"
      ]
     },
     "metadata": {},
     "output_type": "display_data"
    }
   ],
   "source": [
    "strain_tensor = displacement_field.strain_tensor()\n",
    "display(strain_tensor.data)\n",
    "display(strain_tensor.to_general().data)"
   ]
  },
  {
   "cell_type": "markdown",
   "metadata": {},
   "source": [
    "## Cylindrical Coord"
   ]
  },
  {
   "cell_type": "code",
   "execution_count": 4,
   "metadata": {},
   "outputs": [
    {
     "data": {
      "text/latex": [
       "$\\displaystyle \\left[\\begin{matrix}\\sqrt{x^{2} + y^{2}} & \\operatorname{atan}_{2}{\\left(y,x \\right)} & z\\end{matrix}\\right]$"
      ],
      "text/plain": [
       "[sqrt(x**2 + y**2), atan2(y, x), z]"
      ]
     },
     "metadata": {},
     "output_type": "display_data"
    }
   ],
   "source": [
    "cartesian_system = SymbolicCartesianCoordSystem()\n",
    "coord_system = cartesian_system.to_cylindrical()\n",
    "display(coord_system.basis_symbols)"
   ]
  },
  {
   "cell_type": "code",
   "execution_count": 5,
   "metadata": {},
   "outputs": [
    {
     "data": {
      "text/latex": [
       "$\\displaystyle \\left[\\begin{matrix}x^{2} + y^{2} + z & \\operatorname{atan}_{2}{\\left(y,x \\right)} & z + \\sqrt{x^{2} + y^{2}}\\end{matrix}\\right]$"
      ],
      "text/plain": [
       "[x**2 + y**2 + z, atan2(y, x), z + sqrt(x**2 + y**2)]"
      ]
     },
     "metadata": {},
     "output_type": "display_data"
    }
   ],
   "source": [
    "x1, x2, x3 = coord_system.basis_symbols\n",
    "data = [x1*x1+x3, x2, x1+x3]\n",
    "displacement_field = SymbolicDisplacement.create(data, cartesian_system)\n",
    "display(displacement_field.data)"
   ]
  },
  {
   "cell_type": "code",
   "execution_count": 6,
   "metadata": {},
   "outputs": [
    {
     "data": {
      "text/latex": [
       "$\\displaystyle \\left[\\begin{matrix}2 x & \\frac{x}{x^{2} + y^{2}} & 1\\\\\\frac{x}{x^{2} + y^{2}} & y - \\frac{y}{2 \\left(x^{2} + y^{2}\\right)} & \\frac{y}{2 \\sqrt{x^{2} + y^{2}}}\\\\1 & \\frac{y}{2 \\sqrt{x^{2} + y^{2}}} & \\frac{x}{2 \\sqrt{x^{2} + y^{2}}} + \\frac{1}{2}\\end{matrix}\\right]$"
      ],
      "text/plain": [
       "[[2*x, x/(x**2 + y**2), 1], [x/(x**2 + y**2), y - y/(2*(x**2 + y**2)), y/(2*sqrt(x**2 + y**2))], [1, y/(2*sqrt(x**2 + y**2)), x/(2*sqrt(x**2 + y**2)) + 1/2]]"
      ]
     },
     "metadata": {},
     "output_type": "display_data"
    }
   ],
   "source": [
    "strain_tensor = displacement_field.strain_tensor(cartesian_system)\n",
    "display(strain_tensor.to_general().data)"
   ]
  },
  {
   "cell_type": "code",
   "execution_count": 7,
   "metadata": {},
   "outputs": [
    {
     "data": {
      "text/plain": [
       "(x, y, z)"
      ]
     },
     "metadata": {},
     "output_type": "display_data"
    },
    {
     "data": {
      "text/plain": [
       "(r, theta, z)"
      ]
     },
     "metadata": {},
     "output_type": "display_data"
    },
    {
     "data": {
      "text/plain": [
       "(r(x, y), theta(x), z)"
      ]
     },
     "metadata": {},
     "output_type": "display_data"
    }
   ],
   "source": [
    "cartesian_system = SymbolicCartesianCoordSystem()\n",
    "display(cartesian_system.basis_symbols)\n",
    "x1_1, x2_1, x3_1 = cartesian_system.basis_symbols\n",
    "cylindrical_system = SymbolicCylindricalCoordSystem()\n",
    "display(cylindrical_system.basis_symbols)\n",
    "x1_2, x2_2, x3_2 = cylindrical_system.basis_symbols\n",
    "custom_basis_symbols = sp.Function(x1_2)(x1_1, x2_1), sp.Function(x2_2)(x1_1), x3_2\n",
    "display(custom_basis_symbols)\n",
    "custom_cylindrical_system = SymbolicCylindricalCoordSystem(custom_basis_symbols)"
   ]
  },
  {
   "cell_type": "code",
   "execution_count": 8,
   "metadata": {},
   "outputs": [
    {
     "data": {
      "text/latex": [
       "$\\displaystyle \\left[\\begin{matrix}r^{2}{\\left(x,y \\right)} & r{\\left(x,y \\right)} + \\theta{\\left(x \\right)} & z^{2}\\end{matrix}\\right]$"
      ],
      "text/plain": [
       "[r(x, y)**2, r(x, y) + theta(x), z**2]"
      ]
     },
     "metadata": {},
     "output_type": "display_data"
    }
   ],
   "source": [
    "x1, x2, x3 = custom_cylindrical_system.basis_symbols\n",
    "data = [x1*x1, x1+x2, x3*x3]\n",
    "displacement_field = SymbolicDisplacement.create(data, custom_cylindrical_system)\n",
    "display(displacement_field.data)"
   ]
  },
  {
   "cell_type": "code",
   "execution_count": 9,
   "metadata": {},
   "outputs": [
    {
     "data": {
      "text/latex": [
       "$\\displaystyle \\left[\\begin{matrix}2 r{\\left(x,y \\right)} \\frac{\\partial}{\\partial x} r{\\left(x,y \\right)} & \\frac{\\partial}{\\partial y} r{\\left(x,y \\right)} & 2 z\\\\\\frac{\\partial}{\\partial y} r{\\left(x,y \\right)} & r{\\left(x,y \\right)} \\frac{\\partial}{\\partial y} r{\\left(x,y \\right)} + \\frac{\\frac{\\partial}{\\partial x} r{\\left(x,y \\right)}}{2} + \\frac{\\frac{d}{d x} \\theta{\\left(x \\right)}}{2} & 0\\\\2 z & 0 & 0\\end{matrix}\\right]$"
      ],
      "text/plain": [
       "[[2*r(x, y)*Derivative(r(x, y), x), Derivative(r(x, y), y), 2*z], [Derivative(r(x, y), y), r(x, y)*Derivative(r(x, y), y) + Derivative(r(x, y), x)/2 + Derivative(theta(x), x)/2, 0], [2*z, 0, 0]]"
      ]
     },
     "metadata": {},
     "output_type": "display_data"
    }
   ],
   "source": [
    "strain_tensor = displacement_field.strain_tensor(cartesian_system)\n",
    "display(strain_tensor.to_general().data)"
   ]
  }
 ],
 "metadata": {
  "kernelspec": {
   "display_name": "Python 3 (ipykernel)",
   "language": "python",
   "name": "python3"
  },
  "language_info": {
   "codemirror_mode": {
    "name": "ipython",
    "version": 3
   },
   "file_extension": ".py",
   "mimetype": "text/x-python",
   "name": "python",
   "nbconvert_exporter": "python",
   "pygments_lexer": "ipython3",
   "version": "3.10.12"
  }
 },
 "nbformat": 4,
 "nbformat_minor": 2
}
