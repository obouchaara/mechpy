{
 "cells": [
  {
   "cell_type": "code",
   "execution_count": 1,
   "metadata": {},
   "outputs": [],
   "source": [
    "import sys\n",
    "import numpy as np\n",
    "import sympy as sp\n",
    "\n",
    "sys.path.append(\"../src\")\n",
    "\n",
    "from core.numeric.coord import CartesianCoord, CylindricalCoord, SphericalCoord\n",
    "from core.symbolic.coord import SymbolicCartesianCoordSystem, SymbolicCylindricalCoordSystem, SymbolicSphericalCoordSystem"
   ]
  },
  {
   "cell_type": "code",
   "execution_count": 2,
   "metadata": {},
   "outputs": [
    {
     "data": {
      "text/plain": [
       "CartesianCoordSystem(origin=[0. 0. 0.], basis_vectors=[[1 0 0]\n",
       " [0 1 0]\n",
       " [0 0 1]])"
      ]
     },
     "metadata": {},
     "output_type": "display_data"
    },
    {
     "data": {
      "text/plain": [
       "CylindricalCoordSystem(origin=[0. 0. 0.], basis_vectors=[[0. 0. 0.]\n",
       " [0. 0. 0.]\n",
       " [0. 0. 1.]])"
      ]
     },
     "metadata": {},
     "output_type": "display_data"
    },
    {
     "data": {
      "text/plain": [
       "SphericalCoordSystem(origin=[0. 0. 0.], basis_vectors=[[1. 0. 0.]\n",
       " [0. 1. 0.]\n",
       " [0. 0. 1.]])"
      ]
     },
     "metadata": {},
     "output_type": "display_data"
    }
   ],
   "source": [
    "cartesiane_coords = CartesianCoord()\n",
    "display(cartesiane_coords)\n",
    "cylindrical_coords = CylindricalCoord()\n",
    "display(cylindrical_coords)\n",
    "spherical_coords = SphericalCoord()\n",
    "display(spherical_coords)"
   ]
  },
  {
   "cell_type": "code",
   "execution_count": 3,
   "metadata": {},
   "outputs": [
    {
     "data": {
      "text/plain": [
       "SymbolicCartesianCoordSystem(origin=[0, 0, 0], basis_symbols=[x, y, z])"
      ]
     },
     "metadata": {},
     "output_type": "display_data"
    },
    {
     "data": {
      "text/plain": [
       "SymbolicCylindricalCoordSystem(origin=[0, 0, 0], basis_symbols=[r, theta, z])"
      ]
     },
     "metadata": {},
     "output_type": "display_data"
    },
    {
     "data": {
      "text/latex": [
       "$\\displaystyle \\left[\\begin{matrix}r \\cos{\\left(\\theta \\right)} & r \\sin{\\left(\\theta \\right)} & z\\end{matrix}\\right]$"
      ],
      "text/plain": [
       "[r*cos(theta), r*sin(theta), z]"
      ]
     },
     "metadata": {},
     "output_type": "display_data"
    }
   ],
   "source": [
    "symbolic_cartesian_system = SymbolicCartesianCoordSystem()\n",
    "symbolic_cylindrical_system = SymbolicCylindricalCoordSystem()\n",
    "display(symbolic_cartesian_system)\n",
    "display(symbolic_cylindrical_system)\n",
    "x, y, z = symbolic_cartesian_system.basis_symbols\n",
    "r, theta, z = symbolic_cylindrical_system.basis_symbols\n",
    "display(symbolic_cylindrical_system.get_cartesian_coords(symbolic_cylindrical_system.basis_symbols))"
   ]
  },
  {
   "cell_type": "code",
   "execution_count": 4,
   "metadata": {},
   "outputs": [
    {
     "data": {
      "text/plain": [
       "SymbolicCylindricalCoordSystem(origin=[0, 0, 0], basis_symbols=[r, theta, z])"
      ]
     },
     "metadata": {},
     "output_type": "display_data"
    },
    {
     "data": {
      "text/plain": [
       "SymbolicCartesianCoordSystem(origin=[0, 0, 0], basis_symbols=[r*cos(theta), r*sin(theta), z])"
      ]
     },
     "metadata": {},
     "output_type": "display_data"
    },
    {
     "data": {
      "text/latex": [
       "$\\displaystyle \\left[\\begin{matrix}10 \\cos{\\left(2 \\right)} & 10 \\sin{\\left(2 \\right)} & 1\\end{matrix}\\right]$"
      ],
      "text/plain": [
       "[10*cos(2), 10*sin(2), 1]"
      ]
     },
     "metadata": {},
     "output_type": "display_data"
    },
    {
     "data": {
      "text/latex": [
       "$\\displaystyle \\left[\\begin{matrix}-4.16146836547142 & 9.09297426825682 & 1.0\\end{matrix}\\right]$"
      ],
      "text/plain": [
       "[-4.16146836547142, 9.09297426825682, 1.0]"
      ]
     },
     "metadata": {},
     "output_type": "display_data"
    }
   ],
   "source": [
    "symbolic_cylindrical_system = SymbolicCylindricalCoordSystem()\n",
    "display(symbolic_cylindrical_system)\n",
    "display(symbolic_cylindrical_system.to_cartesian())\n",
    "cylindrical_coord = [10, 2, 1]\n",
    "cartesian_coord = symbolic_cylindrical_system.get_cartesian_coords(cylindrical_coord)\n",
    "display(cartesian_coord)\n",
    "display(cartesian_coord.applyfunc(lambda x: x.evalf()))"
   ]
  },
  {
   "cell_type": "code",
   "execution_count": 5,
   "metadata": {},
   "outputs": [
    {
     "data": {
      "text/latex": [
       "$\\displaystyle \\left[\\begin{matrix}5 & 5 \\sqrt{3} & 1\\end{matrix}\\right]$"
      ],
      "text/plain": [
       "[5, 5*sqrt(3), 1]"
      ]
     },
     "metadata": {},
     "output_type": "display_data"
    },
    {
     "data": {
      "text/latex": [
       "$\\displaystyle \\left[\\begin{matrix}5.0 & 8.66025403784439 & 1.0\\end{matrix}\\right]$"
      ],
      "text/plain": [
       "[5.0, 8.66025403784439, 1.0]"
      ]
     },
     "metadata": {},
     "output_type": "display_data"
    }
   ],
   "source": [
    "cylindrical_coord = [10, sp.pi/3, 1]\n",
    "cartesian_coord = SymbolicCylindricalCoordSystem().get_cartesian_coords(cylindrical_coord)\n",
    "display(cartesian_coord)\n",
    "display(cartesian_coord.applyfunc(lambda x: x.evalf()))"
   ]
  },
  {
   "cell_type": "code",
   "execution_count": 6,
   "metadata": {},
   "outputs": [
    {
     "data": {
      "text/latex": [
       "$\\displaystyle \\left[\\begin{matrix}\\frac{\\sqrt{2} a}{2} & \\frac{\\sqrt{2} a}{2} & b\\end{matrix}\\right]$"
      ],
      "text/plain": [
       "[sqrt(2)*a/2, sqrt(2)*a/2, b]"
      ]
     },
     "metadata": {},
     "output_type": "display_data"
    },
    {
     "data": {
      "text/latex": [
       "$\\displaystyle \\left[\\begin{matrix}0.707106781186548 a & 0.707106781186548 a & b\\end{matrix}\\right]$"
      ],
      "text/plain": [
       "[0.707106781186548*a, 0.707106781186548*a, b]"
      ]
     },
     "metadata": {},
     "output_type": "display_data"
    }
   ],
   "source": [
    "cylindrical_coord = [sp.symbols(\"a\"), sp.pi/4, sp.symbols(\"b\")]\n",
    "cartesian_coord = SymbolicCylindricalCoordSystem().get_cartesian_coords(cylindrical_coord)\n",
    "display(cartesian_coord)\n",
    "display(cartesian_coord.applyfunc(lambda x: x.evalf()))"
   ]
  },
  {
   "cell_type": "code",
   "execution_count": 7,
   "metadata": {},
   "outputs": [
    {
     "data": {
      "text/latex": [
       "$\\displaystyle \\left[\\begin{matrix}\\frac{\\sqrt{6} a}{4} & \\frac{\\sqrt{6} a}{4} & \\frac{a}{2}\\end{matrix}\\right]$"
      ],
      "text/plain": [
       "[sqrt(6)*a/4, sqrt(6)*a/4, a/2]"
      ]
     },
     "metadata": {},
     "output_type": "display_data"
    },
    {
     "data": {
      "text/latex": [
       "$\\displaystyle \\left[\\begin{matrix}0.612372435695794 a & 0.612372435695794 a & 0.5 a\\end{matrix}\\right]$"
      ],
      "text/plain": [
       "[0.612372435695794*a, 0.612372435695794*a, 0.5*a]"
      ]
     },
     "metadata": {},
     "output_type": "display_data"
    }
   ],
   "source": [
    "spherical_coord = [sp.symbols(\"a\"), sp.pi/4, sp.pi/3]\n",
    "cartesian_coord = SymbolicSphericalCoordSystem().get_cartesian_coords(spherical_coord)\n",
    "display(cartesian_coord)\n",
    "display(cartesian_coord.applyfunc(lambda x: x.evalf()))"
   ]
  },
  {
   "cell_type": "code",
   "execution_count": null,
   "metadata": {},
   "outputs": [],
   "source": []
  }
 ],
 "metadata": {
  "kernelspec": {
   "display_name": "venv",
   "language": "python",
   "name": "python3"
  },
  "language_info": {
   "codemirror_mode": {
    "name": "ipython",
    "version": 3
   },
   "file_extension": ".py",
   "mimetype": "text/x-python",
   "name": "python",
   "nbconvert_exporter": "python",
   "pygments_lexer": "ipython3",
   "version": "3.10.12"
  }
 },
 "nbformat": 4,
 "nbformat_minor": 2
}
