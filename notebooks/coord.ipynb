{
 "cells": [
  {
   "cell_type": "code",
   "execution_count": 1,
   "metadata": {},
   "outputs": [],
   "source": [
    "import sys\n",
    "import numpy as np\n",
    "import sympy as sp\n",
    "\n",
    "sys.path.append(\"../src\")\n",
    "\n",
    "from core.numeric.coord import CartesianCoord, CylindricalCoord, SphericalCoord\n",
    "from core.symbolic.coord import SymbolicCoordSystem"
   ]
  },
  {
   "cell_type": "code",
   "execution_count": 2,
   "metadata": {},
   "outputs": [
    {
     "data": {
      "text/plain": [
       "CartesianCoordSystem(origin=[0. 0. 0.], basis_vectors=[[1 0 0]\n",
       " [0 1 0]\n",
       " [0 0 1]])"
      ]
     },
     "metadata": {},
     "output_type": "display_data"
    },
    {
     "data": {
      "text/plain": [
       "CylindricalCoordSystem(origin=[0. 0. 0.], basis_vectors=[[0. 0. 0.]\n",
       " [0. 0. 0.]\n",
       " [0. 0. 1.]])"
      ]
     },
     "metadata": {},
     "output_type": "display_data"
    },
    {
     "data": {
      "text/plain": [
       "SphericalCoordSystem(origin=[0. 0. 0.], basis_vectors=[[1. 0. 0.]\n",
       " [0. 1. 0.]\n",
       " [0. 0. 1.]])"
      ]
     },
     "metadata": {},
     "output_type": "display_data"
    }
   ],
   "source": [
    "cartesiane_coords = CartesianCoord()\n",
    "display(cartesiane_coords)\n",
    "cylindrical_coords = CylindricalCoord()\n",
    "display(cylindrical_coords)\n",
    "spherical_coords = SphericalCoord()\n",
    "display(spherical_coords)"
   ]
  },
  {
   "cell_type": "code",
   "execution_count": 3,
   "metadata": {},
   "outputs": [
    {
     "name": "stdout",
     "output_type": "stream",
     "text": [
      "SymbolicCoordSystem(origin=[x0, x1, x2], basis_symbols=[x0, x1, x2])\n"
     ]
    }
   ],
   "source": [
    "symbolic_coords = SymbolicCoordSystem(origin=[sp.symbols('x0'), sp.symbols('x1'), sp.symbols('x2')])\n",
    "display(symbolic_coords)"
   ]
  },
  {
   "cell_type": "code",
   "execution_count": null,
   "metadata": {},
   "outputs": [],
   "source": []
  }
 ],
 "metadata": {
  "kernelspec": {
   "display_name": "venv",
   "language": "python",
   "name": "python3"
  },
  "language_info": {
   "codemirror_mode": {
    "name": "ipython",
    "version": 3
   },
   "file_extension": ".py",
   "mimetype": "text/x-python",
   "name": "python",
   "nbconvert_exporter": "python",
   "pygments_lexer": "ipython3",
   "version": "3.10.12"
  }
 },
 "nbformat": 4,
 "nbformat_minor": 2
}
