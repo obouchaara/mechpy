{
 "cells": [
  {
   "cell_type": "code",
   "execution_count": 1,
   "metadata": {},
   "outputs": [],
   "source": [
    "import sys\n",
    "import numpy as np\n",
    "import sympy as sp\n",
    "\n",
    "sys.path.append(\"../src\")\n",
    "\n",
    "from core.tensor import (\n",
    "    Tensor,\n",
    "    ThreeByThreeTensor,\n",
    "    SixBySixTensor,\n",
    "    SymmetricThreeByThreeTensor,\n",
    "    SymbolicThreeByThreeTensor,\n",
    "    SymbolicSymmetricThreeByThreeTensor,\n",
    ")"
   ]
  },
  {
   "cell_type": "code",
   "execution_count": 2,
   "metadata": {},
   "outputs": [
    {
     "data": {
      "text/plain": [
       "array([[1, 2, 3],\n",
       "       [4, 5, 6],\n",
       "       [7, 8, 9]])"
      ]
     },
     "metadata": {},
     "output_type": "display_data"
    },
    {
     "data": {
      "text/plain": [
       "True"
      ]
     },
     "metadata": {},
     "output_type": "display_data"
    },
    {
     "data": {
      "text/plain": [
       "True"
      ]
     },
     "metadata": {},
     "output_type": "display_data"
    },
    {
     "data": {
      "text/plain": [
       "array([[1, 2, 3],\n",
       "       [4, 5, 6],\n",
       "       [7, 8, 9]])"
      ]
     },
     "metadata": {},
     "output_type": "display_data"
    },
    {
     "data": {
      "text/plain": [
       "True"
      ]
     },
     "metadata": {},
     "output_type": "display_data"
    },
    {
     "data": {
      "text/plain": [
       "True"
      ]
     },
     "metadata": {},
     "output_type": "display_data"
    }
   ],
   "source": [
    "tensor = Tensor.from_list([1, 2, 3, 4, 5, 6, 7, 8, 9], shape=(3, 3))\n",
    "display(tensor.data)\n",
    "display(tensor.is_second_rank())\n",
    "display(tensor.is_3x3())\n",
    "tensor = Tensor.from_list([[1, 2, 3], [4, 5, 6], [7, 8, 9]], shape=(3, 3))\n",
    "display(tensor.data)\n",
    "display(tensor.is_second_rank())\n",
    "display(tensor.is_3x3())"
   ]
  },
  {
   "cell_type": "code",
   "execution_count": 3,
   "metadata": {},
   "outputs": [
    {
     "data": {
      "text/plain": [
       "array([[1., 6., 5.],\n",
       "       [6., 2., 4.],\n",
       "       [5., 4., 3.]])"
      ]
     },
     "metadata": {},
     "output_type": "display_data"
    },
    {
     "data": {
      "text/plain": [
       "True"
      ]
     },
     "metadata": {},
     "output_type": "display_data"
    },
    {
     "data": {
      "text/plain": [
       "array([[1., 2., 3.],\n",
       "       [2., 4., 5.],\n",
       "       [3., 5., 6.]])"
      ]
     },
     "metadata": {},
     "output_type": "display_data"
    },
    {
     "data": {
      "text/plain": [
       "True"
      ]
     },
     "metadata": {},
     "output_type": "display_data"
    },
    {
     "data": {
      "text/plain": [
       "array([[ 1.,  2.,  3.,  4.],\n",
       "       [ 2.,  5.,  6.,  7.],\n",
       "       [ 3.,  6.,  8.,  9.],\n",
       "       [ 4.,  7.,  9., 10.]])"
      ]
     },
     "metadata": {},
     "output_type": "display_data"
    },
    {
     "data": {
      "text/plain": [
       "True"
      ]
     },
     "metadata": {},
     "output_type": "display_data"
    }
   ],
   "source": [
    "tensor = Tensor.from_list([1, 2, 3, 4, 5, 6], shape=(3, 3), symmetric=True)\n",
    "display(tensor.data)\n",
    "display(tensor.is_symmetric())\n",
    "tensor = Tensor.from_list([1, 2, 3, 4, 5, 6], shape=(3, 3), symmetric=True, mode=2)\n",
    "display(tensor.data)\n",
    "display(tensor.is_symmetric())\n",
    "tensor = Tensor.from_list([1, 2, 3, 4, 5, 6, 7, 8, 9, 10], shape=(4, 4), symmetric=True, mode=2)\n",
    "display(tensor.data)\n",
    "display(tensor.is_symmetric())"
   ]
  },
  {
   "cell_type": "code",
   "execution_count": 4,
   "metadata": {},
   "outputs": [
    {
     "data": {
      "text/plain": [
       "ThreeByThreeTensor(\n",
       "[[1 2 3]\n",
       " [4 5 6]\n",
       " [7 8 9]]\n",
       ")"
      ]
     },
     "metadata": {},
     "output_type": "display_data"
    },
    {
     "data": {
      "text/plain": [
       "ThreeByThreeTensor(\n",
       "[[1 2 3]\n",
       " [4 5 6]\n",
       " [7 8 9]]\n",
       ")"
      ]
     },
     "metadata": {},
     "output_type": "display_data"
    },
    {
     "data": {
      "text/plain": [
       "SixBySixTensor(\n",
       "[[ 1  2  3  4  5  6]\n",
       " [ 7  8  9 10 11 12]\n",
       " [13 14 15 16 17 18]\n",
       " [19 20 21 22 23 24]\n",
       " [25 26 27 28 29 30]\n",
       " [31 32 33 34 35 36]]\n",
       ")"
      ]
     },
     "metadata": {},
     "output_type": "display_data"
    },
    {
     "data": {
      "text/plain": [
       "SixBySixTensor(\n",
       "[[ 1  2  3  4  5  6]\n",
       " [ 7  8  9 10 11 12]\n",
       " [13 14 15 16 17 18]\n",
       " [19 20 21 22 23 24]\n",
       " [25 26 27 28 29 30]\n",
       " [31 32 33 34 35 36]]\n",
       ")"
      ]
     },
     "metadata": {},
     "output_type": "display_data"
    }
   ],
   "source": [
    "display(ThreeByThreeTensor.from_list([1, 2, 3, 4, 5, 6, 7, 8, 9]))\n",
    "display(ThreeByThreeTensor.from_list([[1, 2, 3], [4, 5, 6], [7, 8, 9]]))\n",
    "display(SixBySixTensor.from_list([_ for _ in range(1,37)]))\n",
    "display(SixBySixTensor.from_list([[i + j*6 for i in range(1, 7)] for j in range(0, 6)]))"
   ]
  },
  {
   "cell_type": "code",
   "execution_count": 5,
   "metadata": {},
   "outputs": [
    {
     "data": {
      "text/plain": [
       "ThreeByThreeTensor(\n",
       "[[2 2 3]\n",
       " [2 2 5]\n",
       " [3 5 6]]\n",
       ")"
      ]
     },
     "metadata": {},
     "output_type": "display_data"
    },
    {
     "data": {
      "text/plain": [
       "True"
      ]
     },
     "metadata": {},
     "output_type": "display_data"
    },
    {
     "data": {
      "text/plain": [
       "SymmetricThreeByThreeTensor(\n",
       "[[2]\n",
       " [2]\n",
       " [6]\n",
       " [5]\n",
       " [3]\n",
       " [2]]\n",
       ")"
      ]
     },
     "metadata": {},
     "output_type": "display_data"
    },
    {
     "data": {
      "text/plain": [
       "ThreeByThreeTensor(\n",
       "[[2 2 3]\n",
       " [2 2 5]\n",
       " [3 5 6]]\n",
       ")"
      ]
     },
     "metadata": {},
     "output_type": "display_data"
    },
    {
     "data": {
      "text/plain": [
       "SixBySixTensor(\n",
       "[[-1  0  1  2  3  4]\n",
       " [ 0  1  2  3  4  5]\n",
       " [ 1  2  3  4  5  6]\n",
       " [ 2  3  4  5  6  7]\n",
       " [ 3  4  5  6  7  8]\n",
       " [ 4  5  6  7  8  9]]\n",
       ")"
      ]
     },
     "metadata": {},
     "output_type": "display_data"
    },
    {
     "data": {
      "text/plain": [
       "True"
      ]
     },
     "metadata": {},
     "output_type": "display_data"
    },
    {
     "data": {
      "text/plain": [
       "SixBySixTensor(\n",
       "[[-1  1  3  5  7  9]\n",
       " [ 0  2  4  6  8 10]\n",
       " [ 1  3  5  7  9 11]\n",
       " [ 2  4  6  8 10 12]\n",
       " [ 3  5  7  9 11 13]\n",
       " [ 4  6  8 10 12 14]]\n",
       ")"
      ]
     },
     "metadata": {},
     "output_type": "display_data"
    },
    {
     "data": {
      "text/plain": [
       "False"
      ]
     },
     "metadata": {},
     "output_type": "display_data"
    }
   ],
   "source": [
    "M = ThreeByThreeTensor.from_list([[2, 2, 3], [2, 2, 5], [3, 5, 6]])\n",
    "display(M)\n",
    "display(M.is_symmetric())\n",
    "display(M.to_symmetric())\n",
    "display(M.to_symmetric().to_general_tensor())\n",
    "N = SixBySixTensor.from_list([[i + j - 1 for i in range(6)] for j in range(6)])\n",
    "display(N)\n",
    "display(N.is_symmetric())\n",
    "T = SixBySixTensor.from_list([[i*2 + j - 1 for i in range(6)] for j in range(6)])\n",
    "display(T)\n",
    "display(T.is_symmetric())"
   ]
  },
  {
   "cell_type": "code",
   "execution_count": 6,
   "metadata": {},
   "outputs": [
    {
     "data": {
      "text/plain": [
       "SymmetricThreeByThreeTensor(\n",
       "[1 2 3 4 5 6]\n",
       ")"
      ]
     },
     "metadata": {},
     "output_type": "display_data"
    }
   ],
   "source": [
    "display(SymmetricThreeByThreeTensor.from_list([1, 2, 3, 4, 5, 6]))"
   ]
  },
  {
   "cell_type": "code",
   "execution_count": 7,
   "metadata": {},
   "outputs": [],
   "source": [
    "a, b, c, d, e, f, g, h, i = sp.symbols(\"a b c d e f g h i\")"
   ]
  },
  {
   "cell_type": "code",
   "execution_count": 8,
   "metadata": {},
   "outputs": [
    {
     "data": {
      "text/plain": [
       "SymbolicThreeByThreeTensor(\n",
       "Matrix([[a, b, c], [d, e, f], [g, h, i]])\n",
       ")"
      ]
     },
     "metadata": {},
     "output_type": "display_data"
    },
    {
     "data": {
      "text/plain": [
       "SymbolicThreeByThreeTensor(\n",
       "Matrix([[a, b, c], [d, e, f], [g, h, i]])\n",
       ")"
      ]
     },
     "metadata": {},
     "output_type": "display_data"
    }
   ],
   "source": [
    "display(SymbolicThreeByThreeTensor.from_list([a, b, c, d, e, f, g, h, i]))\n",
    "display(SymbolicThreeByThreeTensor.from_list([[a, b, c], [d, e, f], [g, h, i]]))"
   ]
  },
  {
   "cell_type": "code",
   "execution_count": 9,
   "metadata": {},
   "outputs": [
    {
     "data": {
      "text/plain": [
       "SymmetricSymbolicThreeByThreeTensor(\n",
       "Matrix([[a], [b], [c], [d], [e], [f]])\n",
       ")"
      ]
     },
     "metadata": {},
     "output_type": "display_data"
    }
   ],
   "source": [
    "display(SymbolicSymmetricThreeByThreeTensor.from_list([a, b, c, d, e, f]))"
   ]
  },
  {
   "cell_type": "code",
   "execution_count": 10,
   "metadata": {},
   "outputs": [
    {
     "data": {
      "text/plain": [
       "SymbolicThreeByThreeTensor(\n",
       "Matrix([[a, b, c], [b, d, e], [c, e, f]])\n",
       ")"
      ]
     },
     "metadata": {},
     "output_type": "display_data"
    },
    {
     "data": {
      "text/plain": [
       "True"
      ]
     },
     "metadata": {},
     "output_type": "display_data"
    },
    {
     "data": {
      "text/plain": [
       "SymmetricSymbolicThreeByThreeTensor(\n",
       "Matrix([[a], [d], [f], [e], [c], [b]])\n",
       ")"
      ]
     },
     "metadata": {},
     "output_type": "display_data"
    },
    {
     "data": {
      "text/plain": [
       "SymbolicThreeByThreeTensor(\n",
       "Matrix([[a, b, c], [b, d, e], [c, e, f]])\n",
       ")"
      ]
     },
     "metadata": {},
     "output_type": "display_data"
    }
   ],
   "source": [
    "M = SymbolicThreeByThreeTensor.from_list([[a, b, c], [b, d, e], [c, e, f]])\n",
    "display(M)\n",
    "display(M.is_symmetric())\n",
    "display(M.to_symmetric())\n",
    "display(M.to_symmetric().to_general_tensor())"
   ]
  },
  {
   "cell_type": "code",
   "execution_count": null,
   "metadata": {},
   "outputs": [],
   "source": []
  }
 ],
 "metadata": {
  "kernelspec": {
   "display_name": "venv",
   "language": "python",
   "name": "python3"
  },
  "language_info": {
   "codemirror_mode": {
    "name": "ipython",
    "version": 3
   },
   "file_extension": ".py",
   "mimetype": "text/x-python",
   "name": "python",
   "nbconvert_exporter": "python",
   "pygments_lexer": "ipython3",
   "version": "3.10.12"
  }
 },
 "nbformat": 4,
 "nbformat_minor": 2
}
