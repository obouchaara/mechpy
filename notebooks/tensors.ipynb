{
 "cells": [
  {
   "cell_type": "code",
   "execution_count": 1,
   "metadata": {},
   "outputs": [],
   "source": [
    "import sys\n",
    "import numpy as np\n",
    "import sympy as sp\n",
    "\n",
    "sys.path.append(\"../src\")\n",
    "\n",
    "from core.tensor import (\n",
    "    ThreeByThreeTensor,\n",
    "    SymmetricThreeByThreeTensor,\n",
    "    SymbolicThreeByThreeTensor,\n",
    "    SymbolicSymmetricThreeByThreeTensor,\n",
    ")"
   ]
  },
  {
   "cell_type": "code",
   "execution_count": 2,
   "metadata": {},
   "outputs": [
    {
     "data": {
      "text/plain": [
       "ThreeByThreeTensor(\n",
       "[[1 2 3]\n",
       " [4 5 6]\n",
       " [7 8 9]]\n",
       ")"
      ]
     },
     "metadata": {},
     "output_type": "display_data"
    },
    {
     "data": {
      "text/plain": [
       "ThreeByThreeTensor(\n",
       "[[1 2 3]\n",
       " [4 5 6]\n",
       " [7 8 9]]\n",
       ")"
      ]
     },
     "metadata": {},
     "output_type": "display_data"
    }
   ],
   "source": [
    "display(ThreeByThreeTensor.create([1, 2, 3, 4, 5, 6, 7, 8, 9]))\n",
    "display(ThreeByThreeTensor.create([[1, 2, 3], [4, 5, 6], [7, 8, 9]]))"
   ]
  },
  {
   "cell_type": "code",
   "execution_count": 3,
   "metadata": {},
   "outputs": [
    {
     "data": {
      "text/plain": [
       "ThreeByThreeTensor(\n",
       "[[2 2 3]\n",
       " [2 2 5]\n",
       " [3 5 6]]\n",
       ")"
      ]
     },
     "metadata": {},
     "output_type": "display_data"
    },
    {
     "data": {
      "text/plain": [
       "True"
      ]
     },
     "metadata": {},
     "output_type": "display_data"
    },
    {
     "data": {
      "text/plain": [
       "SymmetricThreeByThreeTensor(\n",
       "[[2]\n",
       " [2]\n",
       " [6]\n",
       " [5]\n",
       " [3]\n",
       " [2]]\n",
       ")"
      ]
     },
     "metadata": {},
     "output_type": "display_data"
    },
    {
     "data": {
      "text/plain": [
       "SymmetricThreeByThreeTensor(\n",
       "[[2]\n",
       " [2]\n",
       " [6]\n",
       " [5]\n",
       " [3]\n",
       " [2]]\n",
       ")"
      ]
     },
     "metadata": {},
     "output_type": "display_data"
    },
    {
     "data": {
      "text/plain": [
       "ThreeByThreeTensor(\n",
       "[[2 2 3]\n",
       " [2 2 5]\n",
       " [3 5 6]]\n",
       ")"
      ]
     },
     "metadata": {},
     "output_type": "display_data"
    }
   ],
   "source": [
    "M = ThreeByThreeTensor.create([[2, 2, 3], [2, 2, 5], [3, 5, 6]])\n",
    "display(M)\n",
    "display(M.is_symmetric())\n",
    "display(M.to_symmetric())\n",
    "display(M.to_symmetric())\n",
    "display(M.to_symmetric().to_general_tensor())"
   ]
  },
  {
   "cell_type": "code",
   "execution_count": 4,
   "metadata": {},
   "outputs": [
    {
     "data": {
      "text/plain": [
       "SymmetricThreeByThreeTensor(\n",
       "[1 2 3 4 5 6]\n",
       ")"
      ]
     },
     "metadata": {},
     "output_type": "display_data"
    }
   ],
   "source": [
    "display(SymmetricThreeByThreeTensor.create([1, 2, 3, 4, 5, 6]))"
   ]
  },
  {
   "cell_type": "code",
   "execution_count": 5,
   "metadata": {},
   "outputs": [],
   "source": [
    "a, b, c, d, e, f, g, h, i = sp.symbols(\"a b c d e f g h i\")"
   ]
  },
  {
   "cell_type": "code",
   "execution_count": 6,
   "metadata": {},
   "outputs": [
    {
     "data": {
      "text/plain": [
       "SymbolicThreeByThreeTensor(\n",
       "Matrix([[a, b, c], [d, e, f], [g, h, i]])\n",
       ")"
      ]
     },
     "metadata": {},
     "output_type": "display_data"
    },
    {
     "data": {
      "text/plain": [
       "SymbolicThreeByThreeTensor(\n",
       "Matrix([[a, b, c], [d, e, f], [g, h, i]])\n",
       ")"
      ]
     },
     "metadata": {},
     "output_type": "display_data"
    }
   ],
   "source": [
    "display(SymbolicThreeByThreeTensor.create([a, b, c, d, e, f, g, h, i]))\n",
    "display(SymbolicThreeByThreeTensor.create([[a, b, c], [d, e, f], [g, h, i]]))"
   ]
  },
  {
   "cell_type": "code",
   "execution_count": 7,
   "metadata": {},
   "outputs": [
    {
     "data": {
      "text/plain": [
       "SymmetricSymbolicThreeByThreeTensor(\n",
       "Matrix([[a], [b], [c], [d], [e], [f]])\n",
       ")"
      ]
     },
     "metadata": {},
     "output_type": "display_data"
    }
   ],
   "source": [
    "display(SymbolicSymmetricThreeByThreeTensor.create([a, b, c, d, e, f]))"
   ]
  },
  {
   "cell_type": "code",
   "execution_count": 8,
   "metadata": {},
   "outputs": [
    {
     "data": {
      "text/plain": [
       "SymbolicThreeByThreeTensor(\n",
       "Matrix([[a, b, c], [b, d, e], [c, e, f]])\n",
       ")"
      ]
     },
     "metadata": {},
     "output_type": "display_data"
    },
    {
     "data": {
      "text/plain": [
       "True"
      ]
     },
     "metadata": {},
     "output_type": "display_data"
    },
    {
     "data": {
      "text/plain": [
       "SymmetricSymbolicThreeByThreeTensor(\n",
       "Matrix([[a], [d], [f], [e], [c], [b]])\n",
       ")"
      ]
     },
     "metadata": {},
     "output_type": "display_data"
    },
    {
     "data": {
      "text/plain": [
       "SymbolicThreeByThreeTensor(\n",
       "Matrix([[a, b, c], [b, d, e], [c, e, f]])\n",
       ")"
      ]
     },
     "metadata": {},
     "output_type": "display_data"
    }
   ],
   "source": [
    "M = SymbolicThreeByThreeTensor.create([[a, b, c], [b, d, e], [c, e, f]])\n",
    "display(M)\n",
    "display(M.is_symmetric())\n",
    "display(M.to_symmetric())\n",
    "display(M.to_symmetric().to_general_tensor())"
   ]
  },
  {
   "cell_type": "code",
   "execution_count": null,
   "metadata": {},
   "outputs": [],
   "source": []
  }
 ],
 "metadata": {
  "kernelspec": {
   "display_name": "venv",
   "language": "python",
   "name": "python3"
  },
  "language_info": {
   "codemirror_mode": {
    "name": "ipython",
    "version": 3
   },
   "file_extension": ".py",
   "mimetype": "text/x-python",
   "name": "python",
   "nbconvert_exporter": "python",
   "pygments_lexer": "ipython3",
   "version": "3.10.12"
  }
 },
 "nbformat": 4,
 "nbformat_minor": 2
}
