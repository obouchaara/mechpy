{
 "cells": [
  {
   "cell_type": "code",
   "execution_count": 1,
   "metadata": {},
   "outputs": [],
   "source": [
    "import sys\n",
    "import numpy as np\n",
    "import sympy as sp\n",
    "\n",
    "sys.path.append(\"../src\")\n",
    "\n",
    "from core.symbolic.field import SymbolicScalarField, SymbolicVectorField, SymbolicTensorField"
   ]
  },
  {
   "cell_type": "code",
   "execution_count": 2,
   "metadata": {},
   "outputs": [
    {
     "data": {
      "text/latex": [
       "$\\displaystyle \\left( 3,\\right)$"
      ],
      "text/plain": [
       "(3,)"
      ]
     },
     "metadata": {},
     "output_type": "display_data"
    },
    {
     "data": {
      "text/latex": [
       "$\\displaystyle x + 2 y + 3 z$"
      ],
      "text/plain": [
       "x + 2*y + 3*z"
      ]
     },
     "metadata": {},
     "output_type": "display_data"
    }
   ],
   "source": [
    "data = sp.Array([1, 2, 3])\n",
    "display(data.shape)\n",
    "scalar_field = SymbolicScalarField.create_linear(data)\n",
    "display(scalar_field.data)"
   ]
  },
  {
   "cell_type": "code",
   "execution_count": 3,
   "metadata": {},
   "outputs": [
    {
     "data": {
      "text/latex": [
       "$\\displaystyle \\left( 3, \\  3\\right)$"
      ],
      "text/plain": [
       "(3, 3)"
      ]
     },
     "metadata": {},
     "output_type": "display_data"
    },
    {
     "data": {
      "text/latex": [
       "$\\displaystyle \\left[\\begin{matrix}x + 2 y + 3 z & 4 x + 5 y + 6 z & 7 x + 8 y + 9 z\\end{matrix}\\right]$"
      ],
      "text/plain": [
       "[x + 2*y + 3*z, 4*x + 5*y + 6*z, 7*x + 8*y + 9*z]"
      ]
     },
     "metadata": {},
     "output_type": "display_data"
    }
   ],
   "source": [
    "data = sp.Array([[1, 2, 3], [4, 5, 6], [7, 8, 9]])\n",
    "display(data.shape)\n",
    "vector_field = SymbolicVectorField.create_linear(data)\n",
    "display(vector_field.data)"
   ]
  },
  {
   "cell_type": "code",
   "execution_count": 4,
   "metadata": {},
   "outputs": [
    {
     "data": {
      "text/latex": [
       "$\\displaystyle \\left( 3, \\  3, \\  3\\right)$"
      ],
      "text/plain": [
       "(3, 3, 3)"
      ]
     },
     "metadata": {},
     "output_type": "display_data"
    },
    {
     "data": {
      "text/latex": [
       "$\\displaystyle \\left[\\begin{matrix}x + 2 y + 3 z & 4 x + 5 y + 6 z & 7 x + 8 y + 9 z\\\\11 x + 12 y + 13 z & 14 x + 15 y + 16 z & 17 x + 18 y + 19 z\\\\21 x + 22 y + 23 z & 24 x + 25 y + 26 z & 27 x + 28 y + 29 z\\end{matrix}\\right]$"
      ],
      "text/plain": [
       "[[x + 2*y + 3*z, 4*x + 5*y + 6*z, 7*x + 8*y + 9*z], [11*x + 12*y + 13*z, 14*x + 15*y + 16*z, 17*x + 18*y + 19*z], [21*x + 22*y + 23*z, 24*x + 25*y + 26*z, 27*x + 28*y + 29*z]]"
      ]
     },
     "metadata": {},
     "output_type": "display_data"
    }
   ],
   "source": [
    "data = sp.Array([[[1, 2, 3], [4, 5, 6], [7, 8, 9]], [[11, 12, 13], [14, 15, 16], [17, 18, 19]], [[21, 22, 23], [24, 25, 26], [27, 28, 29]]])\n",
    "display(data.shape)\n",
    "tensor_field = SymbolicTensorField.create_linear(data)\n",
    "display(tensor_field.data)"
   ]
  },
  {
   "cell_type": "code",
   "execution_count": null,
   "metadata": {},
   "outputs": [],
   "source": []
  }
 ],
 "metadata": {
  "kernelspec": {
   "display_name": "venv",
   "language": "python",
   "name": "python3"
  },
  "language_info": {
   "codemirror_mode": {
    "name": "ipython",
    "version": 3
   },
   "file_extension": ".py",
   "mimetype": "text/x-python",
   "name": "python",
   "nbconvert_exporter": "python",
   "pygments_lexer": "ipython3",
   "version": "3.10.12"
  }
 },
 "nbformat": 4,
 "nbformat_minor": 2
}
